{
 "cells": [
  {
   "cell_type": "raw",
   "id": "50a85bf1-6acc-4dc5-b948-828b3ac1fa64",
   "metadata": {},
   "source": [
    "TOPIC: String Based Assignment Problem\n",
    "\n",
    "\n",
    "\n",
    "\n",
    "\n",
    "\n",
    "\n",
    "Q1:- Write a program to reverse a string."
   ]
  },
  {
   "cell_type": "code",
   "execution_count": 75,
   "id": "676f94aa-5b49-488c-a3fe-5467616639e8",
   "metadata": {},
   "outputs": [
    {
     "name": "stdin",
     "output_type": "stream",
     "text": [
      "Enter a string Ketan Sharma\n"
     ]
    },
    {
     "name": "stdout",
     "output_type": "stream",
     "text": [
      "Ketan Sharma\n",
      "amrahS nateK\n"
     ]
    }
   ],
   "source": [
    "string = str(input(\"Enter a string\"))\n",
    "\n",
    "print(string)\n",
    "\n",
    "reverse = string[::-1]\n",
    "print(reverse)"
   ]
  },
  {
   "cell_type": "raw",
   "id": "48171543-8df8-4b3d-bf27-4d4f11b4100f",
   "metadata": {},
   "source": [
    "Q2:- . Check if a string is a palindrome."
   ]
  },
  {
   "cell_type": "code",
   "execution_count": 37,
   "id": "9a53e0a4-9a13-4c09-bb00-bc7319c03d40",
   "metadata": {},
   "outputs": [
    {
     "name": "stdin",
     "output_type": "stream",
     "text": [
      "Enter a string:  civic\n"
     ]
    },
    {
     "name": "stdout",
     "output_type": "stream",
     "text": [
      "This string is palindrome  civic\n"
     ]
    }
   ],
   "source": [
    "string = str(input(\"Enter a string: \"))\n",
    "if(string[0:]==string[::-1]):\n",
    "    print(\"This string is palindrome \",string)\n",
    "else:\n",
    "    print(\"It is not a palindrome string\")"
   ]
  },
  {
   "cell_type": "raw",
   "id": "6d17534d-0b19-4472-b875-764ea62674b1",
   "metadata": {},
   "source": [
    "Q3:- Convert a string to uppercase."
   ]
  },
  {
   "cell_type": "code",
   "execution_count": 11,
   "id": "51fbf9a5-931e-4abb-a44a-f1b7d3ec234d",
   "metadata": {},
   "outputs": [
    {
     "name": "stdin",
     "output_type": "stream",
     "text": [
      "Enter a string:  ketan sharma\n"
     ]
    },
    {
     "name": "stdout",
     "output_type": "stream",
     "text": [
      "KETAN SHARMA\n"
     ]
    }
   ],
   "source": [
    "string = str(input(\"Enter a string: \"))\n",
    "\n",
    "upper = string.upper()\n",
    "print(upper)"
   ]
  },
  {
   "cell_type": "raw",
   "id": "0ea91a3f-904c-41e0-8583-6ad543bca797",
   "metadata": {},
   "source": [
    "Q4:- Convert a string to lowercase."
   ]
  },
  {
   "cell_type": "code",
   "execution_count": 12,
   "id": "983ba70c-03dd-4582-aa9b-5c80d21e4325",
   "metadata": {},
   "outputs": [
    {
     "name": "stdin",
     "output_type": "stream",
     "text": [
      "Enter a string: PW SKILLS\n"
     ]
    },
    {
     "name": "stdout",
     "output_type": "stream",
     "text": [
      "pw skills\n"
     ]
    }
   ],
   "source": [
    "string = str(input(\"Enter a string:\"))\n",
    "\n",
    "lower = string.lower()\n",
    "\n",
    "print(lower)"
   ]
  },
  {
   "cell_type": "raw",
   "id": "abfb0836-1d76-48b2-945a-1e5571fd8e59",
   "metadata": {},
   "source": [
    "Q5:- Count the number of vowels in a string."
   ]
  },
  {
   "cell_type": "code",
   "execution_count": 38,
   "id": "9c91c28c-8073-44ef-80ed-bde7dfae02bf",
   "metadata": {},
   "outputs": [
    {
     "name": "stdin",
     "output_type": "stream",
     "text": [
      "Enter a string: Hey whatsupp\n"
     ]
    },
    {
     "name": "stdout",
     "output_type": "stream",
     "text": [
      "the number of a is  1\n",
      "the number of e is  1\n",
      "the number of i is  0\n",
      "the number of o is  0\n",
      "the number of u is  1\n"
     ]
    }
   ],
   "source": [
    "string = str(input(\"Enter a string:\"))\n",
    "a = string.count(\"a\")\n",
    "e = string.count(\"e\")\n",
    "i = string.count(\"i\")\n",
    "o = string.count(\"o\")\n",
    "u = string.count(\"u\")\n",
    "\n",
    "print(\"the number of a is \",a)\n",
    "print(\"the number of e is \",e)\n",
    "print(\"the number of i is \",i)\n",
    "print(\"the number of o is \",o)\n",
    "print(\"the number of u is \",u)\n"
   ]
  },
  {
   "cell_type": "raw",
   "id": "d97a1acd-5534-4018-9d5b-b8a15267be81",
   "metadata": {},
   "source": [
    "Q6:- Count the number of consonants in a string."
   ]
  },
  {
   "cell_type": "code",
   "execution_count": 39,
   "id": "c8bdf1d3-4cdf-4e5b-a79a-89817e8bfff6",
   "metadata": {},
   "outputs": [
    {
     "name": "stdin",
     "output_type": "stream",
     "text": [
      "Enter a string:  yo yo \n"
     ]
    },
    {
     "name": "stdout",
     "output_type": "stream",
     "text": [
      "The number of consonants in a string are:- 4\n"
     ]
    }
   ],
   "source": [
    "string = str(input(\"Enter a string: \"))\n",
    "vowels = ['a','e','i','o','u','A','E','I','O','U']\n",
    "consonant = 0 \n",
    "for i in string:\n",
    "    if i not in vowels:\n",
    "        consonant = consonant+1\n",
    "        \n",
    "print(\"The number of consonants in a string are:-\",consonant)\n",
    "             \n"
   ]
  },
  {
   "cell_type": "raw",
   "id": "d3cdc958-740c-4bde-973d-747ff5d1a11f",
   "metadata": {},
   "source": [
    "Q7:- Remove all whitespaces from a string."
   ]
  },
  {
   "cell_type": "code",
   "execution_count": 40,
   "id": "58b4c238-2802-4fac-b292-c887b52809f1",
   "metadata": {},
   "outputs": [
    {
     "name": "stdin",
     "output_type": "stream",
     "text": [
      "Enter a String:  Pw skills\n"
     ]
    },
    {
     "name": "stdout",
     "output_type": "stream",
     "text": [
      "Pwskills\n"
     ]
    }
   ],
   "source": [
    "string = str(input(\"Enter a String: \"))\n",
    "\n",
    "for i in range(0,len(string)):\n",
    "    spaces = string.replace(\" \",\"\")   # sir I have done this because I have been taught for loop i our class.\n",
    "    i = i+1\n",
    "print(spaces)"
   ]
  },
  {
   "cell_type": "raw",
   "id": "3ba2f099-5ed8-4350-a2b1-b5748613d7d2",
   "metadata": {},
   "source": [
    "Q8:- Find the length of a string without using the `len()` function."
   ]
  },
  {
   "cell_type": "code",
   "execution_count": 41,
   "id": "89804d50-11e5-4d5b-8295-23c40b42d0c4",
   "metadata": {},
   "outputs": [
    {
     "name": "stdin",
     "output_type": "stream",
     "text": [
      "Enter a string:  hey\n"
     ]
    },
    {
     "name": "stdout",
     "output_type": "stream",
     "text": [
      "3\n"
     ]
    }
   ],
   "source": [
    "string = str(input(\"Enter a string: \"))\n",
    "\n",
    "count = 0 \n",
    "for i in string:\n",
    "    count = count+1\n",
    "    \n",
    "print(count)\n",
    "             "
   ]
  },
  {
   "cell_type": "raw",
   "id": "5cfb915e-2092-4231-aa2b-7745795b8365",
   "metadata": {},
   "source": [
    "Q9:- Check if a string contains a specific word."
   ]
  },
  {
   "cell_type": "code",
   "execution_count": 43,
   "id": "47f464d4-d42b-4704-a0ca-cbd44f0cc792",
   "metadata": {},
   "outputs": [
    {
     "name": "stdin",
     "output_type": "stream",
     "text": [
      "Enter a string:  yo whatsupp pwskills\n"
     ]
    },
    {
     "name": "stdout",
     "output_type": "stream",
     "text": [
      "the string contains the specific word\n"
     ]
    }
   ],
   "source": [
    "string = str(input(\"Enter a string: \"))\n",
    "\n",
    "if(\"yo whatsupp\" in string):\n",
    "    print(\"the string contains the specific word\")\n",
    "else:\n",
    "    print(\"the string doesn't contains the specific word\")\n",
    "    \n",
    "    "
   ]
  },
  {
   "cell_type": "raw",
   "id": "b738c70e-911d-4ea5-be91-af1b72c81106",
   "metadata": {},
   "source": [
    "Q10:- . Replace a word in a string with another word"
   ]
  },
  {
   "cell_type": "code",
   "execution_count": 44,
   "id": "dbbcbee6-619c-42b1-bea7-90c6a9ceb5e2",
   "metadata": {},
   "outputs": [
    {
     "name": "stdin",
     "output_type": "stream",
     "text": [
      "Enter a string:  thank you ketan\n"
     ]
    },
    {
     "name": "stdout",
     "output_type": "stream",
     "text": [
      "welcome ketan\n"
     ]
    }
   ],
   "source": [
    "string = str(input(\"Enter a string: \"))\n",
    "\n",
    "string = string.replace(\"thank you \",\"welcome \")\n",
    "print(string)"
   ]
  },
  {
   "cell_type": "raw",
   "id": "a5c0a149-0383-4840-80e2-c19cf82662d1",
   "metadata": {},
   "source": [
    "Q11:- Count the occurrences of a word in a string"
   ]
  },
  {
   "cell_type": "code",
   "execution_count": 45,
   "id": "820dda72-58b0-4aea-b521-a07a8d919aab",
   "metadata": {},
   "outputs": [
    {
     "name": "stdin",
     "output_type": "stream",
     "text": [
      "Enter a string:  will i have to do this work\n"
     ]
    },
    {
     "name": "stdout",
     "output_type": "stream",
     "text": [
      "1\n"
     ]
    }
   ],
   "source": [
    "string = str(input(\"Enter a string: \"))\n",
    "\n",
    "string = string.count(\"will\")\n",
    "\n",
    "print(string)"
   ]
  },
  {
   "cell_type": "raw",
   "id": "f18ea9de-326a-49df-a76a-a60010e8e809",
   "metadata": {},
   "source": [
    "Q12:-Find the first occurrence of a word in a string."
   ]
  },
  {
   "cell_type": "code",
   "execution_count": 47,
   "id": "dc38ed3d-2647-43e7-8f32-fd34c012750f",
   "metadata": {},
   "outputs": [
    {
     "name": "stdin",
     "output_type": "stream",
     "text": [
      "Enter any string will do this work ?\n"
     ]
    },
    {
     "name": "stdout",
     "output_type": "stream",
     "text": [
      "1\n"
     ]
    }
   ],
   "source": [
    "string = str(input(\"Enter any string\"))\n",
    "find = string.find(\"will\")\n",
    "if(0 == find):\n",
    "    occurence = string.count(\"will\")\n",
    "    print(occurence)\n",
    "else: \n",
    "    print(\"this has not the same first occurence of a word \")"
   ]
  },
  {
   "cell_type": "raw",
   "id": "8489dfc4-24bc-49c8-92c2-1c43fb38a149",
   "metadata": {},
   "source": [
    "Q13:- Find the last occurrence of a word in a string."
   ]
  },
  {
   "cell_type": "code",
   "execution_count": 48,
   "id": "f68cb59f-eebe-4450-9748-5711b094141f",
   "metadata": {},
   "outputs": [
    {
     "name": "stdout",
     "output_type": "stream",
     "text": [
      "3\n"
     ]
    }
   ],
   "source": [
    "string = str(\"hey bro bye bye bye\")\n",
    "ends = string.endswith(\"bye\")\n",
    "if(ends == True):\n",
    "    occurence = string.count(\"bye\")\n",
    "    print(occurence)\n",
    "else:\n",
    "    print(\"this  not the last occurence of a word\")\n",
    "    \n",
    "    \n",
    "   "
   ]
  },
  {
   "cell_type": "raw",
   "id": "b5659502-e953-4c56-af4c-3d7d2cf813d1",
   "metadata": {},
   "source": [
    "Q14:- . Split a string into a list of words."
   ]
  },
  {
   "cell_type": "code",
   "execution_count": 49,
   "id": "dfe9800a-a642-4a19-b552-f62235cfa38a",
   "metadata": {},
   "outputs": [
    {
     "name": "stdin",
     "output_type": "stream",
     "text": [
      "Enter a string:  Ketan Sharma\n"
     ]
    },
    {
     "name": "stdout",
     "output_type": "stream",
     "text": [
      "Now your string will be converted into the list ['Ketan', 'Sharma']\n"
     ]
    }
   ],
   "source": [
    "string = str(input(\"Enter a string: \"))\n",
    "\n",
    "string = string.split()\n",
    "\n",
    "print(\"Now your string will be converted into the list\",string)"
   ]
  },
  {
   "cell_type": "raw",
   "id": "120b15ef-c10f-4e4b-a899-d03726f22b0f",
   "metadata": {},
   "source": [
    "Q15:- Join a list of words into a string."
   ]
  },
  {
   "cell_type": "code",
   "execution_count": 50,
   "id": "7abc83a1-18de-4b44-b8c8-c7fe97c85c1a",
   "metadata": {},
   "outputs": [
    {
     "name": "stdin",
     "output_type": "stream",
     "text": [
      "Enter a string:  Ketan Sharma\n"
     ]
    },
    {
     "name": "stdout",
     "output_type": "stream",
     "text": [
      "Ketan Sharma hello what is your name\n"
     ]
    }
   ],
   "source": [
    "list1 = [\"hello \",\"what is your name\"]\n",
    "string = str(input(\"Enter a string: \"))\n",
    "print(string,\"\".join(list1))\n"
   ]
  },
  {
   "cell_type": "raw",
   "id": "5b6a92cf-56db-4e8a-8a3b-e25fc4f563ac",
   "metadata": {},
   "source": [
    "Q16:- Convert a string where words are separated by spaces to one where words\n",
    "are separated by underscores."
   ]
  },
  {
   "cell_type": "code",
   "execution_count": 51,
   "id": "dce22b3d-9495-45ea-953b-cbe79729a6c3",
   "metadata": {},
   "outputs": [
    {
     "name": "stdin",
     "output_type": "stream",
     "text": [
      "Enter a string:  sharma ketan is my insta id\n"
     ]
    },
    {
     "name": "stdout",
     "output_type": "stream",
     "text": [
      "sharma_ketan_is_my_insta_id\n"
     ]
    }
   ],
   "source": [
    "string = str(input(\"Enter a string: \"))\n",
    "\n",
    "string = string.replace(\" \",\"_\")\n",
    "\n",
    "print(string)"
   ]
  },
  {
   "cell_type": "raw",
   "id": "1335ff84-a85d-444a-ab6c-108436349a30",
   "metadata": {},
   "source": [
    "Q17:- Check if a string starts with a specific word or phrase"
   ]
  },
  {
   "cell_type": "code",
   "execution_count": 52,
   "id": "8b5bb41d-a038-4239-a53b-c868cd1bd04a",
   "metadata": {},
   "outputs": [
    {
     "name": "stdin",
     "output_type": "stream",
     "text": [
      "Enter a string:  hi bro\n"
     ]
    },
    {
     "name": "stdout",
     "output_type": "stream",
     "text": [
      "the string start with a specific word\n"
     ]
    }
   ],
   "source": [
    "string = str(input(\"Enter a string: \"))\n",
    "string = string[0:2]\n",
    "\n",
    "if(string== \"hi\"): # hi is the specific word here.\n",
    "    print(\"the string start with a specific word\")\n",
    "else:\n",
    "    print(\"The string does not start with a specific word\")\n",
    "    "
   ]
  },
  {
   "cell_type": "raw",
   "id": "4423bdac-0ccf-4187-8f75-08e245010167",
   "metadata": {},
   "source": [
    "Q18:- Check if a string ends with a specific word or phrase"
   ]
  },
  {
   "cell_type": "code",
   "execution_count": 53,
   "id": "9b98e1d1-7d88-497b-8b62-539f65507ea0",
   "metadata": {},
   "outputs": [
    {
     "name": "stdin",
     "output_type": "stream",
     "text": [
      "Enter a string:  pwskills bye\n"
     ]
    },
    {
     "name": "stdout",
     "output_type": "stream",
     "text": [
      "yes the string ends with a specific word \n"
     ]
    }
   ],
   "source": [
    "string = str(input(\"Enter a string: \"))\n",
    "ends = string.endswith(\"bye\")\n",
    "                             # bye is the specific word \n",
    "if(ends==True):\n",
    "    print(\"yes the string ends with a specific word \")\n",
    "else:\n",
    "    print(\"NO the string ends with a specific word\")"
   ]
  },
  {
   "cell_type": "raw",
   "id": "138ca6dd-372f-4a71-af67-d3b4d25396dc",
   "metadata": {},
   "source": [
    "Q19:- Convert a string to title case (e.g., \"hello world\" to \"Hello World\")"
   ]
  },
  {
   "cell_type": "code",
   "execution_count": 55,
   "id": "bc055b53-9a8e-4ff5-bfcf-04ee0aa76573",
   "metadata": {},
   "outputs": [
    {
     "name": "stdin",
     "output_type": "stream",
     "text": [
      "Enter a string:  hello world\n"
     ]
    },
    {
     "name": "stdout",
     "output_type": "stream",
     "text": [
      "Hello World\n"
     ]
    }
   ],
   "source": [
    "string = str(input(\"Enter a string: \"))\n",
    "string = string.title()\n",
    "\n",
    "print(string)"
   ]
  },
  {
   "cell_type": "raw",
   "id": "8f5cd3fc-747d-4ac9-80df-24686bccc465",
   "metadata": {},
   "source": [
    "Q20:- Find the longest word in a string"
   ]
  },
  {
   "cell_type": "code",
   "execution_count": 1,
   "id": "94d2306b-7183-4b15-ac26-a1f8e5043fd5",
   "metadata": {},
   "outputs": [
    {
     "name": "stdout",
     "output_type": "stream",
     "text": [
      "whatsupp is the longest string\n"
     ]
    }
   ],
   "source": [
    "string = str(\"hey whatsupp\")\n",
    "hey = len(\"hey\")\n",
    "whatsupp = len(\"whatsupp\")\n",
    "if(hey> whatsupp):\n",
    "    print(\"hey is the longest word in a string \")\n",
    "else:\n",
    "    print(\"whatsupp is the longest string\")"
   ]
  },
  {
   "cell_type": "raw",
   "id": "be18ffec-90a6-4f19-8b51-e1367ae1cbbd",
   "metadata": {},
   "source": [
    "Q21:- Find the shortest word in a string."
   ]
  },
  {
   "cell_type": "code",
   "execution_count": 2,
   "id": "6597642a-b2f5-4cd3-b2c8-7d5f2c9802d6",
   "metadata": {},
   "outputs": [
    {
     "name": "stdout",
     "output_type": "stream",
     "text": [
      "hey is the shortest word in a string \n"
     ]
    }
   ],
   "source": [
    "tring = str(\"hey whatsupp\")\n",
    "hey = len(\"hey\")\n",
    "whatsupp = len(\"whatsupp\")\n",
    "if(hey< whatsupp):\n",
    "    print(\"hey is the shortest word in a string \")\n",
    "else:\n",
    "    print(\"whatsupp is the shortest string\")\n"
   ]
  },
  {
   "cell_type": "raw",
   "id": "78a9c73a-7f03-44e4-a6b3-a7a02536bf3e",
   "metadata": {},
   "source": [
    "Q22:- Reverse the order of words in a string."
   ]
  },
  {
   "cell_type": "code",
   "execution_count": 8,
   "id": "4b6a1d9e-4014-4ed9-bda9-0f25d7df9569",
   "metadata": {},
   "outputs": [
    {
     "name": "stdin",
     "output_type": "stream",
     "text": [
      "Enter a string:  hey pw\n"
     ]
    },
    {
     "name": "stdout",
     "output_type": "stream",
     "text": [
      "hey pw\n"
     ]
    },
    {
     "name": "stdin",
     "output_type": "stream",
     "text": [
      "Enter the word that you want to reverse:  pw\n"
     ]
    },
    {
     "name": "stdout",
     "output_type": "stream",
     "text": [
      "The new string is ==>  hey wp\n"
     ]
    }
   ],
   "source": [
    "string = str(input(\"Enter a string: \"))\n",
    "print(string)\n",
    "\n",
    "word = str(input(\"Enter the word that you want to reverse: \"))\n",
    "reverse = word[::-1]\n",
    "string1 = string.replace(word,reverse)\n",
    "print(\"The new string is ==> \", string1)"
   ]
  },
  {
   "cell_type": "raw",
   "id": "d45f7d89-c800-4699-90a0-3f27050bc469",
   "metadata": {},
   "source": [
    "Q23:- Check if a string is alphanumeric."
   ]
  },
  {
   "cell_type": "code",
   "execution_count": 9,
   "id": "ea2b4f00-a753-4458-b7dc-1869fd5cb790",
   "metadata": {},
   "outputs": [
    {
     "name": "stdin",
     "output_type": "stream",
     "text": [
      "Enter a string:  keyan12345\n"
     ]
    },
    {
     "name": "stdout",
     "output_type": "stream",
     "text": [
      "Entered string is alphanumeric \n"
     ]
    }
   ],
   "source": [
    "string = str(input(\"Enter a string: \"))\n",
    "string = string.isalnum()\n",
    "if(string == True):\n",
    "    print(\"Entered string is alphanumeric \")\n",
    "else: \n",
    "    print(\"Entered string is not alphanumeric \")"
   ]
  },
  {
   "cell_type": "raw",
   "id": "01863116-7ca2-42c7-b7a5-3a738e313eea",
   "metadata": {},
   "source": [
    " Q24:- Extract all digits from a string."
   ]
  },
  {
   "cell_type": "code",
   "execution_count": 10,
   "id": "0ff5e3a2-c5f8-4fd1-b6fa-b0d07b7351dc",
   "metadata": {},
   "outputs": [
    {
     "name": "stdin",
     "output_type": "stream",
     "text": [
      "Enter a string:  hi568\n"
     ]
    },
    {
     "name": "stdout",
     "output_type": "stream",
     "text": [
      "False\n"
     ]
    }
   ],
   "source": [
    "string = str(input(\"Enter a string: \"))\n",
    "string = string.isnumeric()\n",
    "print(string)"
   ]
  },
  {
   "cell_type": "raw",
   "id": "d3df6605-4224-4982-ad0e-930bb97f517c",
   "metadata": {},
   "source": [
    "Q25:- Extract all alphabets from a string."
   ]
  },
  {
   "cell_type": "code",
   "execution_count": 12,
   "id": "de06df4f-cd12-4dd5-b366-aa734e61b2fa",
   "metadata": {},
   "outputs": [
    {
     "name": "stdin",
     "output_type": "stream",
     "text": [
      "Enter a string here:- ketan 23443\n"
     ]
    },
    {
     "name": "stdout",
     "output_type": "stream",
     "text": [
      "ketan "
     ]
    }
   ],
   "source": [
    "string = str(input(\"Enter a string here:-\"))\n",
    "numbers = [\"0\",\"1\",\"2\",\"3\",\"4\",\"5\",\"6\",\"7\",\"8\",\"9\"]\n",
    "for i in string:\n",
    "    if i not in numbers:\n",
    "        print(i,end=\"\")\n",
    "        "
   ]
  },
  {
   "cell_type": "raw",
   "id": "ae2cf1db-0e1c-4cc0-b97e-ffdcd1c8e310",
   "metadata": {},
   "source": [
    "Q26:- Count the number of uppercase letters in a string."
   ]
  },
  {
   "cell_type": "code",
   "execution_count": 13,
   "id": "eab59f2b-e309-4f2b-b88c-a855c5deb43f",
   "metadata": {},
   "outputs": [
    {
     "name": "stdin",
     "output_type": "stream",
     "text": [
      "Enter a string here Ketan Sharma IS MY NAME\n"
     ]
    },
    {
     "name": "stdout",
     "output_type": "stream",
     "text": [
      "The number of upper case letters in a string are:- 10\n"
     ]
    }
   ],
   "source": [
    "string = str(input(\"Enter a string here\"))\n",
    "upper = 0\n",
    "for i in string:\n",
    "    if i == i.title():\n",
    "        upper =  upper+1\n",
    "        if i ==\" \":\n",
    "            upper = upper-1\n",
    "\n",
    "        \n",
    "print(\"The number of upper case letters in a string are:-\",upper)\n",
    "    "
   ]
  },
  {
   "cell_type": "raw",
   "id": "d2d1d73e-d56a-455c-ad2b-aeb744af4156",
   "metadata": {},
   "source": [
    "Q27:- Count the number of lowercase letters in a string."
   ]
  },
  {
   "cell_type": "code",
   "execution_count": 15,
   "id": "5945d883-8f72-4534-b8f9-50ed9f69ef10",
   "metadata": {},
   "outputs": [
    {
     "name": "stdin",
     "output_type": "stream",
     "text": [
      "Enter a string here yo yo\n"
     ]
    },
    {
     "name": "stdout",
     "output_type": "stream",
     "text": [
      "The number of lower case letters in a string are:- 4\n"
     ]
    }
   ],
   "source": [
    "string = str(input(\"Enter a string here\"))\n",
    "lower = 0\n",
    "for i in string:\n",
    "    if i == i.lower():\n",
    "        lower =  lower+1\n",
    "        if i ==\" \":\n",
    "            lower = lower-1\n",
    "\n",
    "        \n",
    "print(\"The number of lower case letters in a string are:-\",lower)"
   ]
  },
  {
   "cell_type": "raw",
   "id": "996e6c0f-3140-4dd0-a711-df47b19efa82",
   "metadata": {},
   "source": [
    "Q28:- Swap the case of each character in a string."
   ]
  },
  {
   "cell_type": "code",
   "execution_count": 17,
   "id": "be3c0ed0-c283-407f-b6fb-b8fa597ba03b",
   "metadata": {},
   "outputs": [
    {
     "name": "stdin",
     "output_type": "stream",
     "text": [
      "Enter a string:  Hey\n"
     ]
    },
    {
     "name": "stdout",
     "output_type": "stream",
     "text": [
      "hEY\n"
     ]
    }
   ],
   "source": [
    "string = str(input(\"Enter a string: \"))\n",
    "\n",
    "swap = string.swapcase()\n",
    "print(swap)"
   ]
  },
  {
   "cell_type": "raw",
   "id": "332d40f5-c95f-453c-86a6-ac9b7196f2cb",
   "metadata": {},
   "source": [
    "Q29:- Remove a specific word from a string."
   ]
  },
  {
   "cell_type": "code",
   "execution_count": 18,
   "id": "83c8090b-b7f2-4987-9a62-38bfc4359212",
   "metadata": {},
   "outputs": [
    {
     "name": "stdin",
     "output_type": "stream",
     "text": [
      "Enter a string:  good to see you\n"
     ]
    },
    {
     "name": "stdout",
     "output_type": "stream",
     "text": [
      " to see you\n"
     ]
    }
   ],
   "source": [
    "string = str(input(\"Enter a string: \"))\n",
    "\n",
    "string = string.replace(\"good\",\"\")\n",
    "\n",
    "print(string)"
   ]
  },
  {
   "cell_type": "raw",
   "id": "b3cd1008-b414-402f-a036-7c4091376d79",
   "metadata": {},
   "source": [
    "Q30:- Check if a string is a valid email address"
   ]
  },
  {
   "cell_type": "code",
   "execution_count": 20,
   "id": "6aeb06a7-7bd9-480c-9352-d6b871ad1b2e",
   "metadata": {},
   "outputs": [
    {
     "name": "stdin",
     "output_type": "stream",
     "text": [
      "Enter your Email address:-   sharma@gmail.com\n"
     ]
    },
    {
     "name": "stdout",
     "output_type": "stream",
     "text": [
      "The entered Email address is Valid \n"
     ]
    }
   ],
   "source": [
    "string = str(input(\"Enter your Email address:-  \"))\n",
    "string = string.replace(\" \",\"\")\n",
    "length = string[-1:-11:-1]\n",
    "rev = string[-1:-12:-1] \n",
    "if(rev =='moc.liamg@.'):\n",
    "    print(\"The entered Email address is not Valid \", )\n",
    "elif(length== \"moc.liamg@\"):\n",
    "        print(\"The entered Email address is Valid \")\n",
    "else:\n",
    "    print(\"The entered Email address is not Valid \")"
   ]
  },
  {
   "cell_type": "raw",
   "id": "602eb3cb-116e-4bad-a194-ffbe438b5671",
   "metadata": {},
   "source": [
    "Q31:- Extract the username from an email address string."
   ]
  },
  {
   "cell_type": "code",
   "execution_count": 21,
   "id": "034adcf7-9791-4b56-93d5-240e192aa45d",
   "metadata": {},
   "outputs": [
    {
     "name": "stdin",
     "output_type": "stream",
     "text": [
      "Enter your Email address:-   sharmaketan1234@gmail.com\n"
     ]
    },
    {
     "name": "stdout",
     "output_type": "stream",
     "text": [
      "The entered Email address is Valid \n",
      "\n"
     ]
    }
   ],
   "source": [
    "string = str(input(\"Enter your Email address:-  \"))\n",
    "string = string.replace(\" \",\"\")\n",
    "length = string[-1:-11:-1]\n",
    "rev = string[-1:-12:-1] \n",
    "if(rev =='moc.liamg@.'):\n",
    "    print(\"The entered Email address is not Valid \", )\n",
    "elif(length== \"moc.liamg@\"):\n",
    "        print(\"The entered Email address is Valid \")\n",
    "        print()\n",
    "else:\n",
    "    print(\"The entered Email address is not Valid \")"
   ]
  },
  {
   "cell_type": "raw",
   "id": "29aee4cd-8e32-4905-b9f7-92aa9b0c4e51",
   "metadata": {},
   "source": [
    "Q32:- Extract the domain name from an email address string."
   ]
  },
  {
   "cell_type": "code",
   "execution_count": 22,
   "id": "1c4ae8dc-9b74-4e99-998d-f851caf4fa2a",
   "metadata": {},
   "outputs": [
    {
     "name": "stdin",
     "output_type": "stream",
     "text": [
      "Enter an Email Address:  ketan@gmail.com\n"
     ]
    },
    {
     "name": "stdout",
     "output_type": "stream",
     "text": [
      "Domain of the Email address is :-  gmail.com\n"
     ]
    }
   ],
   "source": [
    "string = str(input(\"Enter an Email Address: \"))\n",
    "string = string.replace(\" \",\"\")\n",
    "string = string[string.index(\"@\")+1:]\n",
    "print(\"Domain of the Email address is :- \", string)"
   ]
  },
  {
   "cell_type": "raw",
   "id": "0030a473-4842-44fb-902e-11a2d4e7030b",
   "metadata": {},
   "source": [
    "Q33:-Replace multiple spaces in a string with a single space."
   ]
  },
  {
   "cell_type": "code",
   "execution_count": 23,
   "id": "de230ecb-5043-4449-ad60-5906b1fc9090",
   "metadata": {},
   "outputs": [
    {
     "name": "stdin",
     "output_type": "stream",
     "text": [
      "Enter a string here:- hey\n"
     ]
    }
   ],
   "source": []
  },
  {
   "cell_type": "raw",
   "id": "434071de-8d99-43dd-beeb-242dbc767a8a",
   "metadata": {},
   "source": [
    "Q34:- Check if a string is a valid URL."
   ]
  },
  {
   "cell_type": "code",
   "execution_count": 24,
   "id": "56d34139-fcec-4941-8af7-4d76ce86ce58",
   "metadata": {},
   "outputs": [
    {
     "name": "stdin",
     "output_type": "stream",
     "text": [
      "Enter an URL :-  https//:www.ketansharma.com\n"
     ]
    },
    {
     "name": "stdout",
     "output_type": "stream",
     "text": [
      "The String is a Valid URL:-  https//:www.ketansharma.com\n"
     ]
    }
   ],
   "source": [
    "string = str(input(\"Enter an URL :- \"))\n",
    "end = string[string.index(\".com\"):]##https//:www.google.com like this is a correct URL \n",
    "start = string[0:12]\n",
    "if(start ==\"https//:www.\"):\n",
    "    if(end== \".com\"):\n",
    "        print(\"The String is a Valid URL:- \",string )\n",
    "else:\n",
    "    print(\"The String is not a Valid URL:- \")\n",
    "        \n",
    "    "
   ]
  },
  {
   "cell_type": "raw",
   "id": "949ecedb-1419-4933-85cf-ebb255ca932e",
   "metadata": {},
   "source": [
    "Q35:-Extract the protocol (http or https) from a URL string."
   ]
  },
  {
   "cell_type": "code",
   "execution_count": 25,
   "id": "7a272b48-c4ab-4d97-b312-e09f7ff3dac0",
   "metadata": {},
   "outputs": [
    {
     "name": "stdin",
     "output_type": "stream",
     "text": [
      "Enter an URL string:-  https//:google.com\n"
     ]
    },
    {
     "name": "stdout",
     "output_type": "stream",
     "text": [
      "http\n"
     ]
    }
   ],
   "source": [
    "string = str(input(\"Enter an URL string:- \"))\n",
    "if string[0:4] == \"http\" or string[0:5] == \"https\":\n",
    "    print(\"http\")\n"
   ]
  },
  {
   "cell_type": "raw",
   "id": "ff9c1461-b26c-444e-92d0-08a613e6105f",
   "metadata": {},
   "source": [
    "Q36:-Find the frequency of each character in a string."
   ]
  },
  {
   "cell_type": "code",
   "execution_count": 34,
   "id": "872d6174-44a9-477a-a1e7-7dc7326c30a4",
   "metadata": {},
   "outputs": [
    {
     "name": "stdin",
     "output_type": "stream",
     "text": [
      "Enter a string here:-  Hi Hi pw skills\n"
     ]
    },
    {
     "name": "stdout",
     "output_type": "stream",
     "text": [
      "{'Hi': 2, 'pw': 1, 'skills': 1}\n"
     ]
    }
   ],
   "source": [
    "string = str(input(\"Enter a string here:- \"))\n",
    "l = string.split()\n",
    "d ={}\n",
    "for i in l:\n",
    "    if i not in d.keys():\n",
    "        d[i] = 0\n",
    "    d[i] +=1\n",
    "\n",
    "print(d)\n"
   ]
  },
  {
   "cell_type": "raw",
   "id": "544c49b1-423f-48e5-86ca-88512a97967f",
   "metadata": {},
   "source": [
    "Q37:- Remove all punctuation from a string."
   ]
  },
  {
   "cell_type": "code",
   "execution_count": 30,
   "id": "12d3294a-e221-47b6-9af2-7a536a1b2c6e",
   "metadata": {},
   "outputs": [
    {
     "name": "stdin",
     "output_type": "stream",
     "text": [
      "Enter a string:-  hey..\n"
     ]
    },
    {
     "name": "stdout",
     "output_type": "stream",
     "text": [
      "\n"
     ]
    }
   ],
   "source": [
    "string = str(input(\"Enter a string:- \"))\n",
    "\n",
    "l1 = [\".\",\"?\",\"!\",\",\",\":\",\";\",\"-\",\"[]\",\"{}\",\"‘\",\"“\"]\n",
    "\n",
    "for i in string:\n",
    "    if i in l1:\n",
    "        res = i.replace(i,'')\n",
    "        \n",
    "print(res)\n",
    "\n"
   ]
  },
  {
   "cell_type": "raw",
   "id": "d5e41e22-c987-4089-afaf-4154390e4480",
   "metadata": {},
   "source": [
    "Q38:- Check if a string contains only digits."
   ]
  },
  {
   "cell_type": "code",
   "execution_count": 31,
   "id": "fd2f2de8-5534-472e-8175-5e6d960b6297",
   "metadata": {},
   "outputs": [
    {
     "name": "stdin",
     "output_type": "stream",
     "text": [
      "Enter any string:-  123434\n"
     ]
    },
    {
     "name": "stdout",
     "output_type": "stream",
     "text": [
      "The string contains only numbers \n"
     ]
    }
   ],
   "source": [
    "string = str(input(\"Enter any string:- \"))\n",
    "string = string.isdigit()\n",
    "if (string==True):\n",
    "    print(\"The string contains only numbers \")\n",
    "else:\n",
    "    print(\"The string has some aplhabets and numbers \")\n",
    "        \n",
    "\n",
    "\n"
   ]
  },
  {
   "cell_type": "raw",
   "id": "8232488a-4e27-44ff-8b90-4e0e6681f5aa",
   "metadata": {},
   "source": [
    "Q39:- Check if a string contains only alphabets."
   ]
  },
  {
   "cell_type": "code",
   "execution_count": 33,
   "id": "ff7137d2-8af0-4435-9b8f-c8e9b1b35745",
   "metadata": {},
   "outputs": [
    {
     "name": "stdin",
     "output_type": "stream",
     "text": [
      "Enter any string:-  Hey1232\n"
     ]
    },
    {
     "name": "stdout",
     "output_type": "stream",
     "text": [
      "The string has some aplhabets and numbers \n"
     ]
    }
   ],
   "source": [
    "string = str(input(\"Enter any string:- \"))\n",
    "upper = string.isupper()\n",
    "upper = string.isalpha()\n",
    "if (upper==True):\n",
    "    print(\"The string contains only alphabets \")\n",
    "else:\n",
    "    print(\"The string has some aplhabets and numbers \")\n",
    "        "
   ]
  },
  {
   "cell_type": "raw",
   "id": "0f9fceff-a30e-4454-9110-aa421dcb97f4",
   "metadata": {},
   "source": [
    "Q40:- Convert a string to a list of characters."
   ]
  },
  {
   "cell_type": "code",
   "execution_count": 65,
   "id": "baebfcb0-edde-4f68-b826-b397d50e35a7",
   "metadata": {},
   "outputs": [
    {
     "name": "stdin",
     "output_type": "stream",
     "text": [
      "Enter a String:-  yo yo \n"
     ]
    },
    {
     "name": "stdout",
     "output_type": "stream",
     "text": [
      "['y', 'o', ' ', 'y', 'o', ' ']\n"
     ]
    }
   ],
   "source": [
    "string = str(input(\"Enter a String:- \"))\n",
    "string = list(string)\n",
    "print(string)\n"
   ]
  },
  {
   "cell_type": "raw",
   "id": "d0d71f23-bd59-43e4-8493-b4317c010f94",
   "metadata": {},
   "source": [
    "Q41:- Check if two strings are anagrams."
   ]
  },
  {
   "cell_type": "code",
   "execution_count": 64,
   "id": "8e11e589-3429-4ee8-a985-f16377a1c9cc",
   "metadata": {},
   "outputs": [
    {
     "name": "stdin",
     "output_type": "stream",
     "text": [
      "Enter a string1:-  hey \n",
      "Enter a string2:-  yeh\n"
     ]
    },
    {
     "name": "stdout",
     "output_type": "stream",
     "text": [
      "The two string are not anagrams\n"
     ]
    }
   ],
   "source": [
    "string1 = str(input(\"Enter a string1:- \"))\n",
    "string2 = str(input(\"Enter a string2:- \"))\n",
    "\n",
    "if (sorted(string1)==sorted(string2)):\n",
    "    print(\"The two strings are anagrams \")\n",
    "else:\n",
    "    print(\"The two string are not anagrams\")"
   ]
  },
  {
   "cell_type": "raw",
   "id": "bf27a6c5-b10a-4f98-ab45-49db9444d396",
   "metadata": {},
   "source": [
    "Q42:- Encode a string using a Caesar cipher."
   ]
  },
  {
   "cell_type": "code",
   "execution_count": null,
   "id": "3f9e6177-3608-453d-a67b-5735ad6f5d0c",
   "metadata": {},
   "outputs": [],
   "source": [
    "\n",
    "    "
   ]
  },
  {
   "cell_type": "raw",
   "id": "a15e4980-6b77-456a-85ff-7b6e227e2d50",
   "metadata": {},
   "source": [
    "Q43:- Decode a Caesar cipher encoded string."
   ]
  },
  {
   "cell_type": "code",
   "execution_count": null,
   "id": "125f35b3-2d6f-4ad4-8041-ac42f2c50b96",
   "metadata": {},
   "outputs": [],
   "source": []
  },
  {
   "cell_type": "raw",
   "id": "7343823b-62d4-4273-a243-bf6b06f6c27c",
   "metadata": {},
   "source": [
    "Q44:- Find the most frequent word in a string"
   ]
  },
  {
   "cell_type": "code",
   "execution_count": 62,
   "id": "01b0b2fd-2c59-4ff9-9d17-37b5a99de577",
   "metadata": {},
   "outputs": [
    {
     "name": "stdin",
     "output_type": "stream",
     "text": [
      "Enter a string here:-  hello hello whatsupp pw skills\n"
     ]
    },
    {
     "name": "stdout",
     "output_type": "stream",
     "text": [
      "{'hello': 2, 'whatsupp': 1, 'pw': 1, 'skills': 1}\n"
     ]
    }
   ],
   "source": [
    "string = str(input(\"Enter a string here:- \"))\n",
    "l = string.split()\n",
    "d ={}\n",
    "for i in l:\n",
    "    if i not in d.keys():\n",
    "        d[i] = 0\n",
    "    d[i] +=1\n",
    "\n",
    "print(d)"
   ]
  },
  {
   "cell_type": "raw",
   "id": "3f656953-7076-43f8-862b-2170ea788fb8",
   "metadata": {},
   "source": [
    "Q45:- Find all unique words in a string."
   ]
  },
  {
   "cell_type": "code",
   "execution_count": 60,
   "id": "beac6821-8c7c-4fc3-994a-c2a644b7b996",
   "metadata": {},
   "outputs": [
    {
     "name": "stdin",
     "output_type": "stream",
     "text": [
      "Enter the string here:-  yo yo honey singh\n"
     ]
    },
    {
     "name": "stdout",
     "output_type": "stream",
     "text": [
      "Entered string here is :- yo yo honey singh\n",
      "The Unique Words in a string:-  {'honey', 'singh', 'yo'}\n"
     ]
    }
   ],
   "source": [
    "string = str(input(\"Enter the string here:- \"))\n",
    "print(\"Entered string here is :-\",string )\n",
    "l = string.split()\n",
    "result = set(l)\n",
    "string = str(result)\n",
    "print(\"The Unique Words in a string:- \",string)"
   ]
  },
  {
   "cell_type": "raw",
   "id": "a90040c5-bf75-4073-b843-30b0bfb59207",
   "metadata": {},
   "source": [
    "Q46:- Count the number of syllables in a string."
   ]
  },
  {
   "cell_type": "code",
   "execution_count": null,
   "id": "8531fcf5-a33c-4f47-9d2e-7b33f53e53be",
   "metadata": {},
   "outputs": [],
   "source": []
  },
  {
   "cell_type": "raw",
   "id": "85fa02b5-a8d0-4668-a021-a86f78b12041",
   "metadata": {},
   "source": [
    "Q47:- Check if a string contains any special characters."
   ]
  },
  {
   "cell_type": "code",
   "execution_count": 58,
   "id": "afcb8463-6931-45d1-bcbe-98066b66c529",
   "metadata": {},
   "outputs": [
    {
     "name": "stdin",
     "output_type": "stream",
     "text": [
      "Enter a string here:-  Ketan@12344\n"
     ]
    },
    {
     "name": "stdout",
     "output_type": "stream",
     "text": [
      "Yes this string contains 1 characters\n"
     ]
    }
   ],
   "source": [
    "user_string = str(input(\"Enter a string here:- \"))\n",
    "special_character = [\"!\",\"@\",\"$\",\"#\",\"%\",\"^\",\"&\",\"*\",\"()\",\"-\",\"_\",\".\",\":\",\";\"]\n",
    "special = 0 \n",
    "l = list(user_string)\n",
    "for i in l :\n",
    "    if i in special_character:\n",
    "        special +=1\n",
    "    \n",
    "print(\"Yes this string contains\",special,\"characters\" )"
   ]
  },
  {
   "cell_type": "raw",
   "id": "f1189407-e56b-401c-b282-5be425ce9fe7",
   "metadata": {},
   "source": [
    "Q48:- Remove the nth word from a string."
   ]
  },
  {
   "cell_type": "code",
   "execution_count": 57,
   "id": "a080b963-d592-467d-b5ac-77e84901da89",
   "metadata": {},
   "outputs": [
    {
     "name": "stdin",
     "output_type": "stream",
     "text": [
      "Enter a string here:-  Pw skills\n"
     ]
    },
    {
     "name": "stdout",
     "output_type": "stream",
     "text": [
      "Pw skills\n"
     ]
    },
    {
     "name": "stdin",
     "output_type": "stream",
     "text": [
      "Enter the index of the word that you want to remove:-  1\n"
     ]
    },
    {
     "name": "stdout",
     "output_type": "stream",
     "text": [
      "Now the new string is here:- Pw\n"
     ]
    }
   ],
   "source": [
    "user_string = str(input(\"Enter a string here:- \"))\n",
    "print(user_string)\n",
    "l = user_string.split()\n",
    "index = int(input(\"Enter the index of the word that you want to remove:- \"))\n",
    "for i in l:\n",
    "    l.pop(index)\n",
    "\n",
    "l = \"\".join(l)\n",
    "print(\"Now the new string is here:-\",l)"
   ]
  },
  {
   "cell_type": "raw",
   "id": "1ae6ef17-4efb-42d8-bc4d-34d22c2c8a67",
   "metadata": {},
   "source": [
    "Q49:- Insert a word at the nth position in a string."
   ]
  },
  {
   "cell_type": "code",
   "execution_count": 56,
   "id": "9b910b3b-9a51-4f5a-9846-38d1f98f2219",
   "metadata": {},
   "outputs": [
    {
     "name": "stdin",
     "output_type": "stream",
     "text": [
      "Enter a string here:-  ketan sharma\n"
     ]
    },
    {
     "name": "stdout",
     "output_type": "stream",
     "text": [
      "ketan sharma\n"
     ]
    },
    {
     "name": "stdin",
     "output_type": "stream",
     "text": [
      "Enter the index of the word that you want to add:-  2\n",
      "Enter the word that you want to insert in the string:- is my name\n"
     ]
    },
    {
     "name": "stdout",
     "output_type": "stream",
     "text": [
      "ketan is my name is my name sharma\n"
     ]
    }
   ],
   "source": [
    "user_string = str(input(\"Enter a string here:- \"))\n",
    "print(user_string)\n",
    "l = user_string.split()\n",
    "l1 = []\n",
    "index = int(input(\"Enter the index of the word that you want to add:- \"))\n",
    "insert = str(input(\"Enter the word that you want to insert in the string:-\"))\n",
    "for i in l:\n",
    "    l1.append(i)\n",
    "    l1.insert(index, insert)\n",
    "l1 =' '.join(l1)\n",
    "print(l1)\n"
   ]
  },
  {
   "cell_type": "raw",
   "id": "6bc8c698-d9b3-4c1d-bdfd-5d422d6f9959",
   "metadata": {},
   "source": [
    "Q50:- Convert a CSV string to a list of lists."
   ]
  },
  {
   "cell_type": "code",
   "execution_count": null,
   "id": "80f50f08-3abe-4554-9a00-562e3b838555",
   "metadata": {},
   "outputs": [],
   "source": []
  },
  {
   "cell_type": "raw",
   "id": "27a6e795-bd0d-4ede-b738-cf8fef5b46c7",
   "metadata": {},
   "source": [
    "TOPIC:- List Based Practice Problem :\n",
    "\n",
    "\n",
    "    \n",
    "    \n",
    "\n",
    "Q1:- Create a list with integers from 1 to 10."
   ]
  },
  {
   "cell_type": "code",
   "execution_count": 13,
   "id": "4fc69404-604f-458b-8c62-f17525fba986",
   "metadata": {},
   "outputs": [
    {
     "data": {
      "text/plain": [
       "[1, 2, 3, 4, 5, 6, 7, 8, 9, 10]"
      ]
     },
     "execution_count": 13,
     "metadata": {},
     "output_type": "execute_result"
    }
   ],
   "source": [
    "list(range(1,11))"
   ]
  },
  {
   "cell_type": "raw",
   "id": "ed150b79-3e5e-4a4a-8f71-c12e1ae5fb56",
   "metadata": {},
   "source": [
    "Q2:- Find the length of a list without using the `len()` function."
   ]
  },
  {
   "cell_type": "code",
   "execution_count": 14,
   "id": "25bd2476-1586-4e37-834f-310e853804b4",
   "metadata": {},
   "outputs": [
    {
     "name": "stdout",
     "output_type": "stream",
     "text": [
      "The lenght of a list is  10\n"
     ]
    }
   ],
   "source": [
    "#Take a list \n",
    "l1 = [1,2,3,4,5,6,7,8,9,10]\n",
    "count = 0\n",
    "\n",
    "for i in l1:\n",
    "    count = count+1\n",
    "    \n",
    "print(\"The lenght of a list is \",count)\n"
   ]
  },
  {
   "cell_type": "raw",
   "id": "ee0b1577-6d96-4013-8384-1425305c0b72",
   "metadata": {},
   "source": [
    "Q3:- Append an element to the end of a list"
   ]
  },
  {
   "cell_type": "code",
   "execution_count": null,
   "id": "352882bd-5daa-44dd-bd8f-bd2d8dda0e4d",
   "metadata": {},
   "outputs": [
    {
     "name": "stdin",
     "output_type": "stream",
     "text": [
      "Enter a list:-  12345678\n",
      "Enter a element that you want to append:- 154\n"
     ]
    },
    {
     "name": "stdout",
     "output_type": "stream",
     "text": [
      "['1', '2', '3', '4', '5', '6', '7', '8', '154']\n"
     ]
    }
   ],
   "source": [
    "l1 = list(input(\"Enter a list:- \"))\n",
    "app = str(input(\"Enter a element that you want to append:-\"))\n",
    "l2 = l1.append(app)\n",
    "print(l1)"
   ]
  },
  {
   "cell_type": "raw",
   "id": "31956ba8-122d-46bb-bf84-1ef49e8dd532",
   "metadata": {},
   "source": [
    "Q4:- Insert an element at a specific index in a list"
   ]
  },
  {
   "cell_type": "code",
   "execution_count": 20,
   "id": "7ef5a755-56b0-4ce1-9d3b-e3263c16f00b",
   "metadata": {},
   "outputs": [
    {
     "name": "stdin",
     "output_type": "stream",
     "text": [
      "Enter a list:-   565656\n",
      "Enter the specific index:-  1\n",
      "Enter the value that you want to insert in the list:-  4546\n"
     ]
    },
    {
     "name": "stdout",
     "output_type": "stream",
     "text": [
      "['5', '4546', '6', '5', '6', '5', '6']\n"
     ]
    }
   ],
   "source": [
    "l1 = list(input(\"Enter a list:-  \"))\n",
    "index = int(input(\"Enter the specific index:- \"))\n",
    "value = str(input(\"Enter the value that you want to insert in the list:- \"))\n",
    "l2 = l1.insert(index,value)\n",
    "\n",
    "print(l1)"
   ]
  },
  {
   "cell_type": "raw",
   "id": "77e95163-a614-4221-8372-66a10c3fc66b",
   "metadata": {},
   "source": [
    "Q5:- Remove an element from a list by its value."
   ]
  },
  {
   "cell_type": "code",
   "execution_count": 22,
   "id": "0c40478c-b4d2-41d4-982a-1d72790dd310",
   "metadata": {},
   "outputs": [
    {
     "name": "stdin",
     "output_type": "stream",
     "text": [
      "Enter a list:-   21233213454\n",
      "Enter the value that you want to remove from list:-  1\n"
     ]
    },
    {
     "name": "stdout",
     "output_type": "stream",
     "text": [
      "['2', '2', '3', '3', '2', '1', '3', '4', '5', '4']\n"
     ]
    }
   ],
   "source": [
    "l1 = list(input(\"Enter a list:-  \"))\n",
    "value = str(input(\"Enter the value that you want to remove from list:- \"))\n",
    "l2 = l1.remove(value)\n",
    "\n",
    "print(l1)"
   ]
  },
  {
   "cell_type": "raw",
   "id": "0316601e-165f-4830-8b69-23d52394646f",
   "metadata": {},
   "source": [
    "Q6:-Remove an element from a list by its index."
   ]
  },
  {
   "cell_type": "code",
   "execution_count": 25,
   "id": "5559b290-272f-4ae9-a1ce-4a510afa4d22",
   "metadata": {},
   "outputs": [
    {
     "name": "stdin",
     "output_type": "stream",
     "text": [
      "Enter a list:-   155645464\n",
      "Enter the specific index:-  5\n"
     ]
    },
    {
     "name": "stdout",
     "output_type": "stream",
     "text": [
      "['1', '5', '5', '6', '4', '4', '6', '4']\n"
     ]
    }
   ],
   "source": [
    "l1 = list(input(\"Enter a list:-  \"))\n",
    "index = int(input(\"Enter the specific index:- \"))\n",
    "l2 = l1.pop(index)\n",
    "\n",
    "print(l1)"
   ]
  },
  {
   "cell_type": "raw",
   "id": "14e4dd22-db2a-453a-981e-4dec26b8c5f9",
   "metadata": {},
   "source": [
    "Q7:- Check if an element exists in a list."
   ]
  },
  {
   "cell_type": "code",
   "execution_count": 26,
   "id": "a2337a03-cd3d-445a-adfb-e849b05f5ce8",
   "metadata": {},
   "outputs": [
    {
     "name": "stdin",
     "output_type": "stream",
     "text": [
      "Enter the element that exists in a list:-  1\n"
     ]
    },
    {
     "name": "stdout",
     "output_type": "stream",
     "text": [
      "The element that exists in a list\n"
     ]
    }
   ],
   "source": [
    "l1 = [1,2,3,4,5,6,7,8,4,1,6,6,10]\n",
    "check = int(input(\"Enter the element that exists in a list:- \"))\n",
    "for i in l1:\n",
    "    if check in l1:\n",
    "        print(\"The element that exists in a list\")\n",
    "        break\n",
    "    else:\n",
    "        print(\"The element does not exists in a list\")\n",
    "        break"
   ]
  },
  {
   "cell_type": "raw",
   "id": "8c374475-7b7d-45bc-8022-efdf8940bc98",
   "metadata": {},
   "source": [
    "Q8:- Find the index of the first occurrence of an element in a list."
   ]
  },
  {
   "cell_type": "code",
   "execution_count": 27,
   "id": "b97e5ce2-1c81-44d7-9690-0e0aadc2875f",
   "metadata": {},
   "outputs": [
    {
     "name": "stdout",
     "output_type": "stream",
     "text": [
      "The first occurence of an element in a list 33\n"
     ]
    }
   ],
   "source": [
    "l1 = [1,2,3,45,6,4,8,1,54,64,54164,21,5,44,54631,4,5,7,1,0,1,2,1,6,1,3,4556,5,1,4,45,56456,56]\n",
    "occurence = 2\n",
    "index = 0 \n",
    "for i in l1:\n",
    "    if occurence in l1:\n",
    "        index = index+1\n",
    "print(\"The first occurence of an element in a list\", index)"
   ]
  },
  {
   "cell_type": "raw",
   "id": "d4ffe71f-c93d-4576-bfe1-5794f5d4c9e4",
   "metadata": {},
   "source": [
    "Q9:- Count the occurrences of an element in a list."
   ]
  },
  {
   "cell_type": "code",
   "execution_count": 29,
   "id": "9eeeb558-ea1d-426e-a3cc-874f1f2776fc",
   "metadata": {},
   "outputs": [
    {
     "name": "stdin",
     "output_type": "stream",
     "text": [
      "Enter the element to check the occurrence of an element 2\n"
     ]
    },
    {
     "name": "stdout",
     "output_type": "stream",
     "text": [
      "2 Occured in a list is :- 1\n"
     ]
    }
   ],
   "source": [
    "l1 = [1,2,3,4,5,6,7,8,5,5,10,11,12,12,13]\n",
    "element = int(input(\"Enter the element to check the occurrence of an element\"))\n",
    "count = 0\n",
    "for i in l1:\n",
    "    if i == element:\n",
    "        count = count+1\n",
    "        \n",
    "        \n",
    "print(element,\"Occured in a list is :-\",count)"
   ]
  },
  {
   "cell_type": "raw",
   "id": "a73f2684-060d-44d8-81da-95dc7bd662c4",
   "metadata": {},
   "source": [
    "Q10:- Reverse the order of elements in a list."
   ]
  },
  {
   "cell_type": "code",
   "execution_count": 30,
   "id": "a68e95ca-cced-4dac-a1ee-c56130e71050",
   "metadata": {},
   "outputs": [
    {
     "name": "stdout",
     "output_type": "stream",
     "text": [
      "[677, 45455, 89, 67, 6, 9455, 9, 9, 8, 8, 8, 67, 5, 4, 3, 2, 1]\n"
     ]
    }
   ],
   "source": [
    "l1 = [1,2,3,4,5,67,8,8,8,9,9,9455,6,67,89,45455,677]\n",
    "rev = l1.reverse()\n",
    "print(l1)"
   ]
  },
  {
   "cell_type": "raw",
   "id": "2e84b1ff-5190-44d5-b199-d66b58c76acc",
   "metadata": {},
   "source": [
    "Q11:- Sort a list in ascending order."
   ]
  },
  {
   "cell_type": "code",
   "execution_count": 31,
   "id": "300a781e-0bc3-429b-a525-9fa59410199c",
   "metadata": {},
   "outputs": [
    {
     "name": "stdout",
     "output_type": "stream",
     "text": [
      "[1, 2, 3, 4, 5, 6, 8, 8, 8, 9, 9, 67, 67, 89, 677, 9455, 45455]\n"
     ]
    }
   ],
   "source": [
    "l1 =[1,2,3,4,5,67,8,8,8,9,9,9455,6,67,89,45455,677]\n",
    "sort = l1.sort() # for sorting list in ascending order.\n",
    "print(l1)"
   ]
  },
  {
   "cell_type": "raw",
   "id": "cf1707e7-29e1-4262-a6ed-fdc12e66b0d0",
   "metadata": {},
   "source": [
    "Q12:- Sort a list in descending order."
   ]
  },
  {
   "cell_type": "code",
   "execution_count": 32,
   "id": "8d3acb5f-ce8b-4a3b-be46-6c471d93c68b",
   "metadata": {},
   "outputs": [
    {
     "name": "stdout",
     "output_type": "stream",
     "text": [
      "[45455, 9455, 677, 89, 67, 67, 9, 9, 8, 8, 8, 6, 5, 4, 3, 2, 1]\n"
     ]
    }
   ],
   "source": [
    "l1 =[1,2,3,4,5,67,8,8,8,9,9,9455,6,67,89,45455,677]\n",
    "\n",
    "rev = l1.sort(reverse=True) # for sorting list in descending order.\n",
    "print(l1)\n",
    "\n"
   ]
  },
  {
   "cell_type": "raw",
   "id": "b64e0756-37d7-4fcf-ac3b-14a965c0a7c3",
   "metadata": {},
   "source": [
    "Q13:- Create a list of even numbers from 1 to 20."
   ]
  },
  {
   "cell_type": "code",
   "execution_count": 33,
   "id": "86e4f67b-48ca-473e-9e54-37b196ff9692",
   "metadata": {},
   "outputs": [
    {
     "name": "stdout",
     "output_type": "stream",
     "text": [
      "[0, 2, 4, 6, 8, 10, 12, 14, 16, 18, 20]\n"
     ]
    }
   ],
   "source": [
    "l1 = []\n",
    "for i in range(0,21):\n",
    "    if i%2 == 0:\n",
    "        l1.append(i)\n",
    "print(l1)"
   ]
  },
  {
   "cell_type": "raw",
   "id": "130628a7-fc85-4868-a3dc-49956ac0bc7b",
   "metadata": {},
   "source": [
    "Q14:- Create a list of odd numbers from 1 to 20."
   ]
  },
  {
   "cell_type": "code",
   "execution_count": 34,
   "id": "7358cd93-bea1-4fa1-a75f-4ac7c621bfa9",
   "metadata": {},
   "outputs": [
    {
     "name": "stdout",
     "output_type": "stream",
     "text": [
      "[1, 3, 5, 7, 9, 11, 13, 15, 17, 19]\n"
     ]
    }
   ],
   "source": [
    "l2 = []\n",
    "for i in range(0,21):\n",
    "    if i%2 !=0:\n",
    "        l2.append(i)\n",
    "print(l2)"
   ]
  },
  {
   "cell_type": "raw",
   "id": "4849bb44-be29-4e66-8e49-a30cbd5d21d4",
   "metadata": {},
   "source": [
    "Q15:- Find the sum of all elements in a list."
   ]
  },
  {
   "cell_type": "code",
   "execution_count": 35,
   "id": "b98689bc-3b71-461d-ae6a-aad4127c59dd",
   "metadata": {},
   "outputs": [
    {
     "name": "stdout",
     "output_type": "stream",
     "text": [
      "55873\n"
     ]
    }
   ],
   "source": [
    "l1 =[1,2,3,4,5,67,8,8,8,9,9,9455,6,67,89,45455,677]\n",
    "\n",
    "sum_of_list = sum(l1)\n",
    "print(sum_of_list)"
   ]
  },
  {
   "cell_type": "raw",
   "id": "7528015f-d56c-4807-a623-ab900945a0f0",
   "metadata": {},
   "source": [
    "Q16:- Find the minimum value in a list."
   ]
  },
  {
   "cell_type": "code",
   "execution_count": 36,
   "id": "be536c5d-5ea4-4352-a5a1-fa65b4ed7fe1",
   "metadata": {},
   "outputs": [
    {
     "name": "stdout",
     "output_type": "stream",
     "text": [
      "1\n"
     ]
    }
   ],
   "source": [
    "l1 = [1,2,3,4,5,67,8,8,8,9,9,9455,6,67,89,45455,677]\n",
    "l1.sort()\n",
    "minimum_value = l1[0]\n",
    "print(minimum_value)"
   ]
  },
  {
   "cell_type": "raw",
   "id": "118334ae-8790-4c5f-9306-90d44065c288",
   "metadata": {},
   "source": [
    "Q17:- Find the maximum value in a list."
   ]
  },
  {
   "cell_type": "code",
   "execution_count": 37,
   "id": "2ea00c9e-6d9e-4c6c-9074-e4a46249efd9",
   "metadata": {},
   "outputs": [
    {
     "name": "stdout",
     "output_type": "stream",
     "text": [
      "45455\n"
     ]
    }
   ],
   "source": [
    "l1 = [1,2,3,4,5,67,8,8,8,9,9,9455,6,67,89,45455,677]\n",
    "l1.sort(reverse = True)\n",
    "maximum_value = l1[0]\n",
    "print(maximum_value)\n"
   ]
  },
  {
   "cell_type": "raw",
   "id": "f07feccc-4722-43f6-88a0-64eb90b8f8ab",
   "metadata": {},
   "source": [
    "Q18:- Create a list of squares of numbers from 1 to 10."
   ]
  },
  {
   "cell_type": "code",
   "execution_count": 38,
   "id": "765befcc-931f-42aa-8d32-c10f3a570c6b",
   "metadata": {},
   "outputs": [
    {
     "name": "stdout",
     "output_type": "stream",
     "text": [
      "[1, 4, 9, 16, 25, 36, 49, 64, 81, 100]\n"
     ]
    }
   ],
   "source": [
    "l2 = []\n",
    "for i in range(1,11):\n",
    "    square = i*i\n",
    "    l2.append(square)\n",
    "print(l2)"
   ]
  },
  {
   "cell_type": "raw",
   "id": "1a579793-bfde-450a-b274-8a29b86dbe5a",
   "metadata": {},
   "source": [
    "Q19:- Create a list of random numbers"
   ]
  },
  {
   "cell_type": "code",
   "execution_count": 39,
   "id": "920cd6b7-b8da-4044-b4e4-6767539d5278",
   "metadata": {},
   "outputs": [
    {
     "name": "stdout",
     "output_type": "stream",
     "text": [
      "[0, 1, 2, 3, 4, 5, 6, 7, 8, 9, 10, 11, 12]\n"
     ]
    }
   ],
   "source": [
    "import random\n",
    "l2 = []\n",
    "for i in range(random.randint(0,56)):\n",
    "    l2.append(i)\n",
    "print(l2)"
   ]
  },
  {
   "cell_type": "raw",
   "id": "b30323bf-f677-4c48-8063-41742d82ef26",
   "metadata": {},
   "source": [
    "Q20:- Remove duplicates from a list"
   ]
  },
  {
   "cell_type": "code",
   "execution_count": 40,
   "id": "17a3975b-ae94-44f2-961d-938dd0b6c66b",
   "metadata": {},
   "outputs": [
    {
     "name": "stdout",
     "output_type": "stream",
     "text": [
      "[1, 2, 3, 4, 5, 67, 6, 8, 9, 677, 9455, 45455, 89]\n"
     ]
    }
   ],
   "source": [
    "list_1 = [1,2,3,4,5,67,8,8,8,9,9,9455,6,67,89,45455,677]\n",
    "duplicate_remove = set(list_1)\n",
    "print(list(duplicate_remove))"
   ]
  },
  {
   "cell_type": "raw",
   "id": "2fa3605b-6cd0-4b00-9b8b-08d9ee8e8ecd",
   "metadata": {},
   "source": [
    "Q21:- Find the common elements between two lists."
   ]
  },
  {
   "cell_type": "code",
   "execution_count": 43,
   "id": "58681ccc-5720-4d30-8f2b-e299876b9662",
   "metadata": {},
   "outputs": [
    {
     "name": "stdout",
     "output_type": "stream",
     "text": [
      "The common elements between two lists are:- 10 and the List is  [1, 2, 3, 4, 5, 8, 8, 8, 9, 9]\n"
     ]
    }
   ],
   "source": [
    "l1 = [1,2,3,4,5,67,8,8,8,9,9,9455,6,67,89,45455,677]\n",
    "l2 = [1,2,3,4,56,5,8,8,8,9,9,64546,5,5,544,5,1251,55]\n",
    "common_elements = []\n",
    "count = 0 \n",
    "for i in l1:\n",
    "    if i in l2:\n",
    "        count = count+1\n",
    "        common_elements.append(i)\n",
    "print(\"The common elements between two lists are:-\", count ,\"and the List is \",common_elements)"
   ]
  },
  {
   "cell_type": "raw",
   "id": "1f6347eb-df6d-410b-8355-aff7a26742cc",
   "metadata": {},
   "source": [
    "Q22:- Find the difference between two lists."
   ]
  },
  {
   "cell_type": "code",
   "execution_count": 44,
   "id": "a8084cf8-600b-467c-ae88-0f76cde60281",
   "metadata": {},
   "outputs": [
    {
     "name": "stdout",
     "output_type": "stream",
     "text": [
      "The difference between two lists is [67, 9455, 6, 67, 89, 45455, 677]\n"
     ]
    }
   ],
   "source": [
    "l1 = [1,2,3,4,5,67,8,8,8,9,9,9455,6,67,89,45455,677]\n",
    "l2 = [1,2,3,4,56,5,8,8,8,9,9,64546,5,5,544,5,1251,55]\n",
    "l3 = []\n",
    "for i in l1:\n",
    "    if i not in l2:\n",
    "        l3.append(i)\n",
    "print(\"The difference between two lists is\",l3)"
   ]
  },
  {
   "cell_type": "raw",
   "id": "cd15a5e5-6b07-4997-9573-3283f9ae2947",
   "metadata": {},
   "source": [
    "Q23:- Merge two lists."
   ]
  },
  {
   "cell_type": "code",
   "execution_count": 45,
   "id": "7789d284-503d-4e1f-b488-f8957496bcdd",
   "metadata": {},
   "outputs": [
    {
     "name": "stdout",
     "output_type": "stream",
     "text": [
      "Now the merge list is:-  [1, 2, 3, 4, 5, 67, 8, 8, 8, 9, 9, 9455, 6, 67, 89, 45455, 677, 1, 2, 3, 4, 56, 5, 8, 8, 8, 9, 9, 64546, 5, 5, 544, 5, 1251, 55]\n"
     ]
    }
   ],
   "source": [
    "l1 = [1,2,3,4,5,67,8,8,8,9,9,9455,6,67,89,45455,677]\n",
    "l2 = [1,2,3,4,56,5,8,8,8,9,9,64546,5,5,544,5,1251,55]\n",
    "\n",
    "print(\"Now the merge list is:- \", l1+l2)"
   ]
  },
  {
   "cell_type": "raw",
   "id": "38dcbb60-1efa-484d-a48b-586887513944",
   "metadata": {},
   "source": [
    "Q24:- Multiply all elements in a list by 2"
   ]
  },
  {
   "cell_type": "code",
   "execution_count": 46,
   "id": "a0f5f657-823a-41dd-81a5-4318911150c3",
   "metadata": {},
   "outputs": [
    {
     "name": "stdout",
     "output_type": "stream",
     "text": [
      "Multiplied list is:-  [2, 4, 6, 8, 10, 134, 16, 16, 16, 18, 18, 18910, 12, 134, 178, 90910, 1354]\n"
     ]
    }
   ],
   "source": [
    "l1 = [1,2,3,4,5,67,8,8,8,9,9,9455,6,67,89,45455,677]\n",
    "l2= []\n",
    "for i in l1:\n",
    "    i= i*2\n",
    "    l2.append(i)\n",
    "\n",
    "print(\"Multiplied list is:- \",l2)\n"
   ]
  },
  {
   "cell_type": "raw",
   "id": "af5e27a8-db6c-4c8e-9ba7-768f72111257",
   "metadata": {},
   "source": [
    "Q25:- Filter out all even numbers from a list."
   ]
  },
  {
   "cell_type": "code",
   "execution_count": 47,
   "id": "1a4d1f2b-6ca4-49d5-8b19-4957d1f463ac",
   "metadata": {},
   "outputs": [
    {
     "name": "stdout",
     "output_type": "stream",
     "text": [
      "The Filter out all even numbers from a list are:- [2, 4, 8, 8, 8, 6]\n"
     ]
    }
   ],
   "source": [
    "l1 = [1,2,3,4,5,67,8,8,8,9,9,9455,6,67,89,45455,677]\n",
    "l2 = []\n",
    "for i in l1:\n",
    "    if i%2 == 0 :\n",
    "        l2.append(i)\n",
    "print(\"The Filter out all even numbers from a list are:-\",l2)\n",
    "    "
   ]
  },
  {
   "cell_type": "raw",
   "id": "ffbaed0f-79e9-4cfc-b03a-639a6eb50870",
   "metadata": {},
   "source": [
    "Q26:- Convert a list of strings to a list of integers."
   ]
  },
  {
   "cell_type": "code",
   "execution_count": 4,
   "id": "1db3cf5d-38de-4249-a945-3df1dcee19dc",
   "metadata": {},
   "outputs": [
    {
     "name": "stdin",
     "output_type": "stream",
     "text": [
      "Enter a list:-  123456789\n"
     ]
    },
    {
     "name": "stdout",
     "output_type": "stream",
     "text": [
      "Entered String list ['1', '2', '3', '4', '5', '6', '7', '8', '9']\n",
      "Modified list is: [1, 2, 3, 4, 5, 6, 7, 8, 9]\n"
     ]
    }
   ],
   "source": [
    "l1 = list(input(\"Enter a list:- \"))\n",
    "print(\"Entered String list\",l1)\n",
    "res = [int(x) for x in l1]\n",
    "    \n",
    "print(\"Modified list is:\",res)"
   ]
  },
  {
   "cell_type": "raw",
   "id": "011434a6-c627-41cd-8f6c-c5d435a5980b",
   "metadata": {},
   "source": [
    "Q27:- Convert a list of integers to a list of strings."
   ]
  },
  {
   "cell_type": "code",
   "execution_count": 8,
   "id": "dd3bf1e2-3872-4c0d-82a2-be7b75be4885",
   "metadata": {},
   "outputs": [
    {
     "name": "stdout",
     "output_type": "stream",
     "text": [
      "Modified list is:- ['1', '2', '3', '4', '5', '6', '7', '8', '9', '10']\n"
     ]
    }
   ],
   "source": [
    "l1 = [1,2,3,4,5,6,7,8,9,10]\n",
    "list_int= [str(i) for i in l1]\n",
    "\n",
    "print(\"Modified list is:-\",list_int)"
   ]
  },
  {
   "cell_type": "raw",
   "id": "fc28cca1-074d-4b17-b131-98be8f9db7fe",
   "metadata": {},
   "source": [
    "Q28:- Flatten a nested list."
   ]
  },
  {
   "cell_type": "code",
   "execution_count": 11,
   "id": "82b3d5d5-7e15-4afe-93c0-f06d7c431089",
   "metadata": {},
   "outputs": [
    {
     "name": "stdout",
     "output_type": "stream",
     "text": [
      "[1, 2, 3, 4, 5, 6, 7]\n"
     ]
    }
   ],
   "source": [
    "my_list = [[1], [2, 3], [4, 5, 6, 7]]\n",
    "\n",
    "flat_list = [i for sublist in my_list for i in sublist]\n",
    "\n",
    "print(flat_list)"
   ]
  },
  {
   "cell_type": "raw",
   "id": "7bf4b4c3-eb42-441b-ad94-2e5f28d2b859",
   "metadata": {},
   "source": [
    "Q29:- Create a list of the first 10 Fibonacci numbers."
   ]
  },
  {
   "cell_type": "code",
   "execution_count": 12,
   "id": "45e99841-e697-48d2-9426-a574fb3ed233",
   "metadata": {},
   "outputs": [
    {
     "ename": "IndentationError",
     "evalue": "expected an indented block after 'else' statement on line 6 (2673151928.py, line 8)",
     "output_type": "error",
     "traceback": [
      "\u001b[0;36m  Cell \u001b[0;32mIn[12], line 8\u001b[0;36m\u001b[0m\n\u001b[0;31m    print(l1)\u001b[0m\n\u001b[0m             ^\u001b[0m\n\u001b[0;31mIndentationError\u001b[0m\u001b[0;31m:\u001b[0m expected an indented block after 'else' statement on line 6\n"
     ]
    }
   ],
   "source": [
    "l1 =[]\n",
    "for  i in range(0,11):\n",
    "    if i ==0:\n",
    "        l1.append(1)\n",
    "    else\n",
    "    "
   ]
  },
  {
   "cell_type": "code",
   "execution_count": null,
   "id": "78a970f1-2c2c-496d-9244-6d6f80c7410f",
   "metadata": {},
   "outputs": [],
   "source": [
    "0, 1, 1, 2, 3, 5, 8, 13, 21, 34, 55, 89, 144, 233, 377."
   ]
  },
  {
   "cell_type": "raw",
   "id": "a55b36c5-97bb-4866-bfb5-a0b3a133dccb",
   "metadata": {},
   "source": [
    "Q30:- Check if a list is sorted."
   ]
  },
  {
   "cell_type": "code",
   "execution_count": 48,
   "id": "b9a09f97-5c59-4d93-a4e1-ac7dcd06723e",
   "metadata": {},
   "outputs": [
    {
     "name": "stdout",
     "output_type": "stream",
     "text": [
      "False\n",
      "The list is not sorted\n"
     ]
    }
   ],
   "source": [
    "l1 = [1, 2, 3, 4, 5, 6, 8, 8, 8, 9, 9, 67, 67, 89, 677, 9455, 45455]\n",
    "l2 = [1,2,3,4,56,5,8,8,8,9,9,64546,5,5,544,5,1251,55]\n",
    "k=l1 == l1.sort()\n",
    "print(k)\n",
    "if l1 == l1.sort():\n",
    "    print(\"The list is sorted \")\n",
    "elif l2 == l2.sort():\n",
    "    print(\"The list2 is sorted \")\n",
    "else:\n",
    "    print(\"The list is not sorted\")"
   ]
  },
  {
   "cell_type": "raw",
   "id": "150e2206-2859-4b27-ac18-967d9cdcbca0",
   "metadata": {},
   "source": [
    "Q31:- Rotate a list to the left by `n` positions."
   ]
  },
  {
   "cell_type": "code",
   "execution_count": 3,
   "id": "6ed0ec92-5837-4bb8-a85d-a462658cd945",
   "metadata": {},
   "outputs": [
    {
     "name": "stdin",
     "output_type": "stream",
     "text": [
      "Enter the position to the list by left:- 3\n"
     ]
    },
    {
     "name": "stdout",
     "output_type": "stream",
     "text": [
      "Original list:-[1, 4, 6, 7, 2]\n",
      "List after left rotate by 3 :  [7, 2, 1, 4, 6]\n"
     ]
    }
   ],
   "source": [
    "test_list = [1, 4, 6, 7, 2]\n",
    "n = int(input(\"Enter the position to the list by left:-\"))\n",
    "print(\"Original list:-\" + str(test_list))\n",
    "\n",
    "test_list = test_list[n:]+ test_list[:n]\n",
    "\n",
    "print(\"List after left rotate by 3 : \", test_list)"
   ]
  },
  {
   "cell_type": "raw",
   "id": "7ef373d0-9632-4477-affd-99d94ce93dff",
   "metadata": {},
   "source": [
    "32:- Rotate a list to the right by `n` positions."
   ]
  },
  {
   "cell_type": "code",
   "execution_count": 4,
   "id": "00cce72c-07ca-48ab-aadd-b0df66b3055f",
   "metadata": {},
   "outputs": [
    {
     "name": "stdin",
     "output_type": "stream",
     "text": [
      "Enter the position to the list by left:- 3\n"
     ]
    },
    {
     "name": "stdout",
     "output_type": "stream",
     "text": [
      "Original list:-[1, 4, 6, 7, 2]\n",
      "List after left rotate by 3 :  [6, 7, 2, 1, 4]\n"
     ]
    }
   ],
   "source": [
    "test_list = [1, 4, 6, 7, 2]\n",
    "n = int(input(\"Enter the position to the list by left:-\"))\n",
    "print(\"Original list:-\" + str(test_list))\n",
    "\n",
    "test_list = test_list[-n:]+ test_list[:-n]\n",
    "\n",
    "print(\"List after left rotate by 3 : \", test_list)"
   ]
  },
  {
   "cell_type": "raw",
   "id": "1a4a3d1d-fd03-4b86-8d69-78b285982b73",
   "metadata": {},
   "source": [
    "33:- Create a list of prime numbers up to 50."
   ]
  },
  {
   "cell_type": "code",
   "execution_count": 49,
   "id": "9b40e3b8-0bd3-41cf-8fbb-bc97c3e5516a",
   "metadata": {},
   "outputs": [
    {
     "name": "stdout",
     "output_type": "stream",
     "text": [
      "[2, 3, 5, 7, 9, 11, 13, 15, 17, 19, 21, 23, 25, 27, 29, 31, 33, 35, 37, 39, 41, 43, 45, 47, 49]\n"
     ]
    }
   ],
   "source": [
    "prime_numbers = []\n",
    "for i in range(2,51):\n",
    "    if i%2!=0:\n",
    "        prime_numbers.append(i)\n",
    "    elif i ==2  :\n",
    "        prime_numbers.append(i)\n",
    "print(prime_numbers)"
   ]
  },
  {
   "cell_type": "raw",
   "id": "c5701a52-4df3-4a6b-b228-5feb74eb0a73",
   "metadata": {},
   "source": [
    "Q34:- Split a list into chunks of size `n`."
   ]
  },
  {
   "cell_type": "code",
   "execution_count": 50,
   "id": "89d18c28-40cd-401a-a18f-d42759006435",
   "metadata": {},
   "outputs": [
    {
     "name": "stdout",
     "output_type": "stream",
     "text": [
      "[1, 2, 3]\n",
      "[4, 5, 6]\n",
      "[7, 8, 9]\n"
     ]
    }
   ],
   "source": [
    "l1 =  [1,2,3,4,5,6,7,8,9]\n",
    "for i in range(0,len(l1),3):\n",
    "    x = i \n",
    "    print(l1[x:x+3])"
   ]
  },
  {
   "cell_type": "raw",
   "id": "f7172271-d97b-4858-b31c-1deb611d1940",
   "metadata": {},
   "source": [
    "Q35:- Find the second largest number in a list."
   ]
  },
  {
   "cell_type": "code",
   "execution_count": 51,
   "id": "a7a67af0-4d7d-44b3-bc4e-6c6cfc222305",
   "metadata": {},
   "outputs": [
    {
     "name": "stdout",
     "output_type": "stream",
     "text": [
      "The second largest number in a list is  9455\n"
     ]
    }
   ],
   "source": [
    "l1 = [1,2,3,4,5,67,8,8,8,9,9,9455,6,67,89,45455,677]\n",
    "l1.sort()\n",
    "print(\"The second largest number in a list is \",l1[-2])"
   ]
  },
  {
   "cell_type": "raw",
   "id": "94a9fda5-250a-434d-bada-f0895dc4d12d",
   "metadata": {},
   "source": [
    "Q36:- Replace every element in a list with its square."
   ]
  },
  {
   "cell_type": "code",
   "execution_count": 52,
   "id": "60a86722-01fd-4ffb-a46f-5b3ecde6d23c",
   "metadata": {},
   "outputs": [
    {
     "name": "stdout",
     "output_type": "stream",
     "text": [
      "The replace of every element in a list  [1, 4, 9, 16, 25, 81, 49, 64, 100]\n"
     ]
    }
   ],
   "source": [
    "l1 = [1,2,3,4,5,9,7,8,10]\n",
    "l2 = []\n",
    "for i in l1:\n",
    "    i = i*i\n",
    "    l2.append(i)\n",
    "print(\"The replace of every element in a list \", l2 )"
   ]
  },
  {
   "cell_type": "raw",
   "id": "a687c4e7-3d05-4720-aafa-a8fbc85b7fb2",
   "metadata": {},
   "source": [
    "Q37:- Convert a list to a dictionary where list elements become keys and their\n",
    "indices become values."
   ]
  },
  {
   "cell_type": "code",
   "execution_count": 53,
   "id": "55575885-cbbc-4a28-a522-916977c79403",
   "metadata": {},
   "outputs": [
    {
     "ename": "ValueError",
     "evalue": "dictionary update sequence element #0 has length 1; 2 is required",
     "output_type": "error",
     "traceback": [
      "\u001b[0;31m---------------------------------------------------------------------------\u001b[0m",
      "\u001b[0;31mValueError\u001b[0m                                Traceback (most recent call last)",
      "Cell \u001b[0;32mIn[53], line 4\u001b[0m\n\u001b[1;32m      2\u001b[0m dict_1 \u001b[38;5;241m=\u001b[39m {}\n\u001b[1;32m      3\u001b[0m \u001b[38;5;28;01mfor\u001b[39;00m i \u001b[38;5;129;01min\u001b[39;00m list_1:\n\u001b[0;32m----> 4\u001b[0m     \u001b[43mdict_1\u001b[49m\u001b[38;5;241;43m.\u001b[39;49m\u001b[43mupdate\u001b[49m\u001b[43m(\u001b[49m\u001b[43mi\u001b[49m\u001b[43m)\u001b[49m\n\u001b[1;32m      5\u001b[0m \u001b[38;5;28mprint\u001b[39m(dict_1)\n",
      "\u001b[0;31mValueError\u001b[0m: dictionary update sequence element #0 has length 1; 2 is required"
     ]
    }
   ],
   "source": [
    "list_1 = [\"Number\",\"1,2,3,4,5,6\",\"name \",\"ketan sharma\"]\n",
    "dict_1 = {}\n",
    "for i in list_1:\n",
    "    dict_1.update(i)\n",
    "print(dict_1)"
   ]
  },
  {
   "cell_type": "raw",
   "id": "2b7280d3-57fd-4ace-88d0-4480b5aaeea7",
   "metadata": {},
   "source": [
    "Q38:- Shuffle the elements of a list randomly."
   ]
  },
  {
   "cell_type": "code",
   "execution_count": 54,
   "id": "97d3566c-3147-4113-8a91-4784ea8a9d31",
   "metadata": {},
   "outputs": [
    {
     "name": "stdout",
     "output_type": "stream",
     "text": [
      "[8, 4, 6, 677, 2, 9455, 45455, 9, 9, 8, 3, 1, 8, 67, 67, 5, 89]\n"
     ]
    }
   ],
   "source": [
    "import random \n",
    "\n",
    "l1 = [1,2,3,4,5,67,8,8,8,9,9,9455,6,67,89,45455,677]\n",
    "random.shuffle(l1)\n",
    "\n",
    "print(l1)"
   ]
  },
  {
   "cell_type": "raw",
   "id": "4d512571-1926-4a70-92e6-a6cdb5f12380",
   "metadata": {},
   "source": [
    "Q39:- Create a list of the first 10 factorial numbers."
   ]
  },
  {
   "cell_type": "code",
   "execution_count": 55,
   "id": "4982ab2d-6ce8-45be-b6bd-1f28f9b76170",
   "metadata": {},
   "outputs": [
    {
     "ename": "SyntaxError",
     "evalue": "invalid syntax (2259161100.py, line 3)",
     "output_type": "error",
     "traceback": [
      "\u001b[0;36m  Cell \u001b[0;32mIn[55], line 3\u001b[0;36m\u001b[0m\n\u001b[0;31m    i = i*\u001b[0m\n\u001b[0m          ^\u001b[0m\n\u001b[0;31mSyntaxError\u001b[0m\u001b[0;31m:\u001b[0m invalid syntax\n"
     ]
    }
   ],
   "source": [
    "l = []\n",
    "for i in range(1,11):\n",
    "    i = i*"
   ]
  },
  {
   "cell_type": "code",
   "execution_count": null,
   "id": "c0b734b8-9b86-430a-9a27-6d80bec7b778",
   "metadata": {},
   "outputs": [],
   "source": [
    "for"
   ]
  },
  {
   "cell_type": "raw",
   "id": "009d0d0b-7d89-4e4b-85b0-3a814e02459e",
   "metadata": {},
   "source": [
    "Q40. Check if two lists have at least one element in common."
   ]
  },
  {
   "cell_type": "code",
   "execution_count": 56,
   "id": "240e7efa-48c0-4814-a7c2-5776c36ebeed",
   "metadata": {},
   "outputs": [
    {
     "name": "stdout",
     "output_type": "stream",
     "text": [
      "The number of elements common in the two list is:-  4\n"
     ]
    }
   ],
   "source": [
    "l1 = [1,2,3,4,5,67,8,9,9455,6,67,89,45455,677]\n",
    "l2 = [4544464,56,5,42,2,1,15,45,888,8,]\n",
    "count = 0 \n",
    "\n",
    "for i in l1:\n",
    "    if i in l2:\n",
    "        count += 1\n",
    "print(\"The number of elements common in the two list is:- \",count)\n",
    "\n"
   ]
  },
  {
   "cell_type": "raw",
   "id": "ca1d6b1f-168d-49c8-bd16-36f95d0b4028",
   "metadata": {},
   "source": [
    "Q41:- Remove all elements from a list."
   ]
  },
  {
   "cell_type": "code",
   "execution_count": 57,
   "id": "3ef6e173-08f2-45f3-bab3-258dc318bb22",
   "metadata": {},
   "outputs": [
    {
     "name": "stdout",
     "output_type": "stream",
     "text": [
      "[]\n"
     ]
    }
   ],
   "source": [
    "l1 = [1,2,3,4,5,67,8,9,9455,6,67,89,45455,677]\n",
    "l1.clear()\n",
    "print(l1)"
   ]
  },
  {
   "cell_type": "raw",
   "id": "07b5d526-1cde-4c98-81d3-cbe3e81725f4",
   "metadata": {},
   "source": [
    "Q42:- Replace negative numbers in a list with 0."
   ]
  },
  {
   "cell_type": "code",
   "execution_count": 58,
   "id": "ce7b5e16-d927-4e92-8c52-84dfde0a9c8a",
   "metadata": {},
   "outputs": [
    {
     "name": "stdout",
     "output_type": "stream",
     "text": [
      "[0, 0, 0, 4, 5, 67, 8, 9, 9455, 6, 67, 89, 45455, 677]\n"
     ]
    }
   ],
   "source": [
    "l1 = [-1,-2,-3,4,5,67,8,9,9455,6,67,89,45455,677]\n",
    "for i in l1:\n",
    "    if i == -1:\n",
    "        l1.remove(-1)\n",
    "        l1.insert(0,0)\n",
    "    elif i == -2:\n",
    "        l1.remove(-2)\n",
    "        l1.insert(1,0)\n",
    "    elif i == -3:\n",
    "        l1.remove(-3)\n",
    "        l1.insert(2,0)\n",
    "print(l1)\n",
    "        "
   ]
  },
  {
   "cell_type": "raw",
   "id": "445b391b-5fd4-48ab-859a-f72b5063ce10",
   "metadata": {},
   "source": [
    "Q43:- Convert a string into a list of words."
   ]
  },
  {
   "cell_type": "code",
   "execution_count": 59,
   "id": "4a31cdfb-cc44-478a-8000-cd9ecb8229bb",
   "metadata": {},
   "outputs": [
    {
     "name": "stdin",
     "output_type": "stream",
     "text": [
      "Enter a string :- Ketan Sharma\n"
     ]
    },
    {
     "name": "stdout",
     "output_type": "stream",
     "text": [
      "['Ketan', 'Sharma']\n"
     ]
    }
   ],
   "source": [
    "string = str(input(\"Enter a string :-\"))\n",
    "list_1= list(string.split())\n",
    "print(list_1)"
   ]
  },
  {
   "cell_type": "raw",
   "id": "05bd7c8b-96ad-4447-9b7b-58204f5f50c7",
   "metadata": {},
   "source": [
    "Q44:- Convert a list of words into a string."
   ]
  },
  {
   "cell_type": "code",
   "execution_count": 66,
   "id": "874473ab-c417-4a17-b626-0e9f4f7ebf7d",
   "metadata": {},
   "outputs": [
    {
     "name": "stdout",
     "output_type": "stream",
     "text": [
      "Hey Whatsupp Pw skills\n"
     ]
    }
   ],
   "source": [
    "l1 = ['Hey', 'Whatsupp', 'Pw', 'skills']\n",
    "string = \" \".join(l1)\n",
    "print(string)"
   ]
  },
  {
   "cell_type": "raw",
   "id": "9226daae-c2ce-453d-ba83-5731f611fe53",
   "metadata": {},
   "source": [
    "Q45:-Create a list of the first `n` powers of 2."
   ]
  },
  {
   "cell_type": "code",
   "execution_count": 67,
   "id": "19ec4d7c-32e7-4a64-ae0b-79670e2fade6",
   "metadata": {},
   "outputs": [
    {
     "name": "stdout",
     "output_type": "stream",
     "text": [
      "[8281, 8464, 8649, 8836, 9025, 9216, 9409, 9604, 9801]\n"
     ]
    }
   ],
   "source": [
    "l1 = []\n",
    "for i in range(91,100):\n",
    "    j= i**2\n",
    "    l1.append(j)\n",
    "print(l1)"
   ]
  },
  {
   "cell_type": "raw",
   "id": "dd00babc-367f-41b0-b1bd-c623c02b4d6d",
   "metadata": {},
   "source": [
    "Q46:- Find the longest string in a list of strings."
   ]
  },
  {
   "cell_type": "code",
   "execution_count": null,
   "id": "324c5519-6e61-4e92-ab37-da76a6c95398",
   "metadata": {},
   "outputs": [],
   "source": [
    "l1 = ['Hey', 'Whatsupp', 'Pw', 'skills']\n",
    "count= 0 \n",
    "for i in l1:\n",
    "    if i == \"Hey\":\n",
    "        count = count+1\n",
    "    elif =\n",
    "        \n",
    "        "
   ]
  },
  {
   "cell_type": "raw",
   "id": "9d74a25f-8cc8-4d23-b098-f6144a4dd519",
   "metadata": {},
   "source": [
    "Q47:-Find the shortest string in a list of strings."
   ]
  },
  {
   "cell_type": "code",
   "execution_count": 15,
   "id": "20925f15-4fce-4ba7-ad52-a2248402bfc9",
   "metadata": {},
   "outputs": [
    {
     "name": "stdin",
     "output_type": "stream",
     "text": [
      "Enter a string here:- Hey PW\n"
     ]
    },
    {
     "name": "stdout",
     "output_type": "stream",
     "text": [
      "The shortest string in a list of string is  PW with minimum length of string 2\n"
     ]
    }
   ],
   "source": [
    "string = str(input(\"Enter a string here:-\"))\n",
    "split = string.split()\n",
    "res = len(min(split,key = len))\n",
    "for ele in split:\n",
    "    if len(ele)==res:\n",
    "        print(\"The shortest string in a list of string is \",ele,\"with minimum length of string\",res)"
   ]
  },
  {
   "cell_type": "raw",
   "id": "32c6beb3-b1fb-46e1-92d4-ad006ef8fd4d",
   "metadata": {},
   "source": [
    "Q48:- Create a list of the first `n` triangular numbers."
   ]
  },
  {
   "cell_type": "code",
   "execution_count": 19,
   "id": "91f8a852-6e67-476b-a987-96335581b2c3",
   "metadata": {},
   "outputs": [
    {
     "name": "stdin",
     "output_type": "stream",
     "text": [
      "Enter the range of the triangular number:-  10\n"
     ]
    },
    {
     "name": "stdout",
     "output_type": "stream",
     "text": [
      "The list of the first 10 triangular number is:- [0, 1, 3, 6, 10, 15, 21, 28, 36, 45, 55]\n"
     ]
    }
   ],
   "source": [
    "n = int(input(\"Enter the range of the triangular number:- \"))\n",
    "sum_1 = 0 \n",
    "l =[]\n",
    "for i in range(0,n+1):\n",
    "    sum_1 = sum_1+i\n",
    "    l.append(sum_1)\n",
    "print(\"The list of the first\",n,\"triangular number is:-\",l)"
   ]
  },
  {
   "cell_type": "raw",
   "id": "c14eeb3a-6e84-4f7d-82c9-0d096b73ff18",
   "metadata": {},
   "source": [
    "Q49:- Check if a list contains another list as a subsequence."
   ]
  },
  {
   "cell_type": "code",
   "execution_count": 22,
   "id": "dd8b0b0c-397f-4bec-916b-6b54a2ae82f8",
   "metadata": {},
   "outputs": [
    {
     "name": "stdout",
     "output_type": "stream",
     "text": [
      "l2 is a subsequence list\n"
     ]
    }
   ],
   "source": [
    "l1 = [1,2,3,4,5,67,8,9,9455,6,67,89,45455,677]\n",
    "l2 = [4544464,56,5,42,2,1,15,45,888,8,]\n",
    "\n",
    "for i in l1:\n",
    "    if i in l2:\n",
    "        print(\"l2 is a subsequence list\")\n",
    "        break\n",
    "    else:\n",
    "        print(\"l2is not a subsequence list\")\n",
    "        "
   ]
  },
  {
   "cell_type": "raw",
   "id": "03123e99-5a5d-49db-bf16-9d206945e8e7",
   "metadata": {},
   "source": [
    "Q50:- Swap two elements in a list by their indices."
   ]
  },
  {
   "cell_type": "code",
   "execution_count": 5,
   "id": "76d50cfa-1b34-4010-a9b8-e4b7a2dec4b1",
   "metadata": {},
   "outputs": [
    {
     "name": "stdout",
     "output_type": "stream",
     "text": [
      "['Hey', 'Whatsupp', 'Pw', 'skills']\n"
     ]
    }
   ],
   "source": [
    "l1 = ['Hey', 'Whatsupp', 'Pw', 'skills']\n",
    "for i in l1:\n",
    "    if i == 0:\n",
    "        l1.remove(i)\n",
    "    elif i == 1:\n",
    "        l1. remove(i)\n",
    "        \n",
    "print(l1)"
   ]
  },
  {
   "cell_type": "raw",
   "id": "30326641-0f75-4282-be4c-76cad7c4cf65",
   "metadata": {},
   "source": [
    "Tuple Based Practice Problem :\n",
    "\n",
    "\n",
    "\n",
    "\n",
    "\n",
    "1. Create a tuple with integers from 1 to 5."
   ]
  },
  {
   "cell_type": "code",
   "execution_count": 6,
   "id": "d42add9a-9e0c-4d22-9259-2d2748f8b225",
   "metadata": {},
   "outputs": [
    {
     "name": "stdout",
     "output_type": "stream",
     "text": [
      "(1, 2, 3, 4, 5)\n",
      "<class 'tuple'>\n"
     ]
    }
   ],
   "source": [
    "t = (1,2,3,4,5)\n",
    "print(t)\n",
    "print(type(t))"
   ]
  },
  {
   "cell_type": "raw",
   "id": "38c164cd-1ed8-45d8-9152-011f3e0c6f9c",
   "metadata": {},
   "source": [
    "2. Access the third element of a tuple."
   ]
  },
  {
   "cell_type": "code",
   "execution_count": 7,
   "id": "964a9157-0fe0-4d3c-8348-6ba352328a61",
   "metadata": {},
   "outputs": [
    {
     "name": "stdout",
     "output_type": "stream",
     "text": [
      "4\n"
     ]
    }
   ],
   "source": [
    "t = (1,2,3,4,5)\n",
    "print(t[3])"
   ]
  },
  {
   "cell_type": "raw",
   "id": "5c923f3a-f8a9-43c4-8fa7-758f909f323a",
   "metadata": {},
   "source": [
    "3. Find the length of a tuple without using the `len()` function."
   ]
  },
  {
   "cell_type": "code",
   "execution_count": 8,
   "id": "d3c149ad-f039-4923-85fd-e2c02261414c",
   "metadata": {},
   "outputs": [
    {
     "name": "stdout",
     "output_type": "stream",
     "text": [
      "The length of a tuple is:-  5\n"
     ]
    }
   ],
   "source": [
    "t = (1,2,3,4,5)\n",
    "count = 0 \n",
    "for i in t:\n",
    "    count = count+1\n",
    "print(\"The length of a tuple is:- \",count)"
   ]
  },
  {
   "cell_type": "raw",
   "id": "c0a02343-f9a4-4164-80bf-f3f856717e8e",
   "metadata": {},
   "source": [
    "4. Count the occurrences of an element in a tuple."
   ]
  },
  {
   "cell_type": "code",
   "execution_count": 9,
   "id": "8cc69a5b-0276-4b81-a9dd-9baf1c095c14",
   "metadata": {},
   "outputs": [
    {
     "name": "stdin",
     "output_type": "stream",
     "text": [
      "Enter the element you want to count the occurence  33\n"
     ]
    },
    {
     "name": "stdout",
     "output_type": "stream",
     "text": [
      "The occurence of 33 in a tuple is  2\n"
     ]
    }
   ],
   "source": [
    "t = (1,2,33,4,4,6,7,78,8,9,99,55,5,554656,66,6567,888,33,4,5,6,67,65,44,4,4,4,4)\n",
    "count = int(input(\"Enter the element you want to count the occurence \"))\n",
    "occurence = t.count(count)\n",
    "print(\"The occurence of\",count, 'in a tuple is ',occurence)"
   ]
  },
  {
   "cell_type": "raw",
   "id": "56d02c8f-ea12-474b-ae4c-82dc60bbebd8",
   "metadata": {},
   "source": [
    "5. Find the index of the first occurrence of an element in a tuple."
   ]
  },
  {
   "cell_type": "code",
   "execution_count": 11,
   "id": "c4278b1e-2aeb-4695-8ce3-cbb26be3c22b",
   "metadata": {},
   "outputs": [
    {
     "name": "stdin",
     "output_type": "stream",
     "text": [
      "Write the first occurrence of an element in a tuple 1\n"
     ]
    },
    {
     "name": "stdout",
     "output_type": "stream",
     "text": [
      "The Index of the first occurrence of element 1 is 0\n"
     ]
    }
   ],
   "source": [
    "t = (1,2,33,4,4,6,7,78,8,9,99,55,5,554656,66,6567,888,33,4,5,6,67,65,44,4,4,4,4)\n",
    "occurrence = int(input('Write the first occurrence of an element in a tuple'))\n",
    "index = t.index(occurrence)\n",
    "print(\"The Index of the first occurrence of element\",occurrence,'is',index)\n"
   ]
  },
  {
   "cell_type": "raw",
   "id": "bd84c1fc-2f01-4cde-8c1a-5b3d0419b715",
   "metadata": {},
   "source": [
    "6. Check if an element exists in a tuple."
   ]
  },
  {
   "cell_type": "code",
   "execution_count": 12,
   "id": "e89fa4ea-436a-4a5a-8bcb-090a450d5c21",
   "metadata": {},
   "outputs": [
    {
     "name": "stdin",
     "output_type": "stream",
     "text": [
      "Enter a element you want to search in a program 33\n"
     ]
    },
    {
     "name": "stdout",
     "output_type": "stream",
     "text": [
      "The element exists in a tuple\n"
     ]
    }
   ],
   "source": [
    "t = (1,2,33,4,4,6,7,78,8,9,99,55,5,554656,66,6567,888,33,4,5,6,67,65,44,4,4,4,4)\n",
    "element = int(input(\"Enter a element you want to search in a program\"))\n",
    "count = t.count(element)\n",
    "if count == 0:\n",
    "    print(\"The element does not exists in a tuple\")\n",
    "else:\n",
    "    print(\"The element exists in a tuple\")"
   ]
  },
  {
   "cell_type": "raw",
   "id": "9214e15a-6aa3-4940-88d4-97d9e13ab50b",
   "metadata": {},
   "source": [
    "7. Convert a tuple to a list."
   ]
  },
  {
   "cell_type": "code",
   "execution_count": 13,
   "id": "178c4961-d1ac-42a9-8298-44a8717c7ce9",
   "metadata": {},
   "outputs": [
    {
     "name": "stdout",
     "output_type": "stream",
     "text": [
      "[1, 2, 33, 4, 4, 6, 7, 78, 8, 9, 99, 55, 5, 554656, 66, 6567, 888, 33, 4, 5, 6, 67, 65, 44, 4, 4, 4, 4]\n",
      "<class 'list'>\n"
     ]
    }
   ],
   "source": [
    "t = (1,2,33,4,4,6,7,78,8,9,99,55,5,554656,66,6567,888,33,4,5,6,67,65,44,4,4,4,4)\n",
    "l1=list(t)\n",
    "print(l1)\n",
    "print(type(l1))"
   ]
  },
  {
   "cell_type": "raw",
   "id": "b13d141c-1a9d-462b-b9cb-b400d792b6f6",
   "metadata": {},
   "source": [
    "8. Convert a list to a tuple."
   ]
  },
  {
   "cell_type": "code",
   "execution_count": 14,
   "id": "fb0ee1fb-b642-4100-98ff-0aa22a8a9def",
   "metadata": {},
   "outputs": [
    {
     "name": "stdout",
     "output_type": "stream",
     "text": [
      "(1, 2, 33, 4, 4, 6, 7, 78, 8, 9, 99, 55, 5, 554656, 66, 6567, 888, 33, 4, 5, 6, 67, 65, 44, 4, 4, 4, 4)\n"
     ]
    }
   ],
   "source": [
    "l1 = [1, 2, 33, 4, 4, 6, 7, 78, 8, 9, 99, 55, 5, 554656, 66, 6567, 888, 33, 4, 5, 6, 67, 65, 44, 4, 4, 4, 4]\n",
    "t2 = tuple(l1)\n",
    "print(t2)"
   ]
  },
  {
   "cell_type": "raw",
   "id": "fb11e402-ead6-4542-a57e-f66ddf7f1a0f",
   "metadata": {},
   "source": [
    "9. Unpack the elements of a tuple into variables."
   ]
  },
  {
   "cell_type": "code",
   "execution_count": 15,
   "id": "a9ce2cf5-289f-47c1-a183-3f34bd3f4d0d",
   "metadata": {},
   "outputs": [
    {
     "name": "stdout",
     "output_type": "stream",
     "text": [
      "1\n",
      "2\n",
      "3\n"
     ]
    }
   ],
   "source": [
    "a = (1,2,3)\n",
    "(x,y,z) = a\n",
    "\n",
    "print(x)\n",
    "print(y)\n",
    "print(z)"
   ]
  },
  {
   "cell_type": "raw",
   "id": "eeabba58-7d59-46e1-8ad8-27253d011edb",
   "metadata": {},
   "source": [
    "10. Create a tuple of even numbers from 1 to 10."
   ]
  },
  {
   "cell_type": "code",
   "execution_count": 16,
   "id": "ac6a45f0-d122-4ed4-87d3-d8ba73d379d8",
   "metadata": {},
   "outputs": [
    {
     "name": "stdout",
     "output_type": "stream",
     "text": [
      "(2, 4, 6, 8)\n"
     ]
    }
   ],
   "source": [
    "t = []\n",
    "for i in range(1,10):\n",
    "    if i%2==0:\n",
    "        t.append(i)\n",
    "print(tuple(t))"
   ]
  },
  {
   "cell_type": "raw",
   "id": "c515ccc5-15a5-4dc2-b9bc-dcad2ad1ddfa",
   "metadata": {},
   "source": [
    "11. Create a tuple of odd numbers from 1 to 10."
   ]
  },
  {
   "cell_type": "code",
   "execution_count": 17,
   "id": "967f623c-33f3-4416-aab5-b677a99321f8",
   "metadata": {},
   "outputs": [
    {
     "name": "stdout",
     "output_type": "stream",
     "text": [
      "(1, 3, 5, 7, 9)\n"
     ]
    }
   ],
   "source": [
    "t = []\n",
    "for i in range(1,10):\n",
    "    if i%2!=0:\n",
    "        t.append(i)\n",
    "print(tuple(t))"
   ]
  },
  {
   "cell_type": "raw",
   "id": "d876c001-062f-472c-a582-d53c017fd5c2",
   "metadata": {},
   "source": [
    "12. Concatenate two tuples."
   ]
  },
  {
   "cell_type": "code",
   "execution_count": 18,
   "id": "c62316f0-5fe4-4659-8c5f-99be68a1aff9",
   "metadata": {},
   "outputs": [
    {
     "name": "stdout",
     "output_type": "stream",
     "text": [
      "(1, 2, 3, 4, 5, 6, 7, 8, 9, 10)\n"
     ]
    }
   ],
   "source": [
    "a = (1,2,3,4,5,6)\n",
    "b = (7,8,9,10)\n",
    "print(a+b)"
   ]
  },
  {
   "cell_type": "raw",
   "id": "ffd0c928-c76c-48b0-a266-8b23e112841b",
   "metadata": {},
   "source": [
    "13. Repeat a tuple three times."
   ]
  },
  {
   "cell_type": "code",
   "execution_count": 19,
   "id": "d5b970b9-2c0a-461c-a19a-5a55f9d5e9ae",
   "metadata": {},
   "outputs": [
    {
     "name": "stdout",
     "output_type": "stream",
     "text": [
      "(1, 2, 3, 4, 5, 6, 1, 2, 3, 4, 5, 6, 1, 2, 3, 4, 5, 6)\n"
     ]
    }
   ],
   "source": [
    "a = (1,2,3,4,5,6)*3\n",
    "print(a)"
   ]
  },
  {
   "cell_type": "raw",
   "id": "eea8610b-c07d-40f5-8765-5dfde4393c13",
   "metadata": {},
   "source": [
    "14. Check if a tuple is empty."
   ]
  },
  {
   "cell_type": "code",
   "execution_count": 21,
   "id": "6e50df48-2973-4a3d-a962-3df295c54668",
   "metadata": {},
   "outputs": [
    {
     "name": "stdin",
     "output_type": "stream",
     "text": [
      "Enter the value in the tuple 1234\n"
     ]
    },
    {
     "name": "stdout",
     "output_type": "stream",
     "text": [
      "Tuple is not empty\n",
      "('1', '2', '3', '4')\n"
     ]
    }
   ],
   "source": [
    "t = tuple(input(\"Enter the value in the tuple\"))\n",
    "if t ==( ):\n",
    "    print(\"The tuple is empty\")\n",
    "else:\n",
    "    print(\"Tuple is not empty\")\n",
    "print(t)"
   ]
  },
  {
   "cell_type": "raw",
   "id": "4221ce09-7371-49ae-bd10-a7c1a96a1b52",
   "metadata": {},
   "source": [
    "15. Create a nested tuple."
   ]
  },
  {
   "cell_type": "code",
   "execution_count": 22,
   "id": "d44c1108-24ee-48c1-b8ce-1e1ea348254a",
   "metadata": {},
   "outputs": [],
   "source": [
    "t=(1,2,3,(4,5,6,7),8,9,10)\n",
    " #hence this is a nested tuple"
   ]
  },
  {
   "cell_type": "raw",
   "id": "b60f30d7-3073-4412-bf4c-1800296881db",
   "metadata": {},
   "source": [
    "16. Access the first element of a nested tuple."
   ]
  },
  {
   "cell_type": "raw",
   "id": "e5f55c6e-001b-496c-bc3d-384f5b82daee",
   "metadata": {},
   "source": [
    "t3=(1,2,3,(4,5,6,7),8,9,10)\n",
    "print(t3[4,0])"
   ]
  },
  {
   "cell_type": "raw",
   "id": "17c35f07-0aa4-41df-9a51-6d73bb30554f",
   "metadata": {},
   "source": [
    "17. Create a tuple with a single element."
   ]
  },
  {
   "cell_type": "code",
   "execution_count": 24,
   "id": "540bff12-0ef9-4fdb-92ef-f2d7f0ca37a2",
   "metadata": {},
   "outputs": [
    {
     "name": "stdout",
     "output_type": "stream",
     "text": [
      "Hey\n"
     ]
    }
   ],
   "source": [
    "t =(\"Hey\")\n",
    "print(t)"
   ]
  },
  {
   "cell_type": "raw",
   "id": "847bcdb0-3fc2-4cc4-b528-a7fec6e77b00",
   "metadata": {},
   "source": [
    "18. Compare two tuples."
   ]
  },
  {
   "cell_type": "code",
   "execution_count": 25,
   "id": "1a78e70d-fa1a-4b2b-a419-3a26abdae38f",
   "metadata": {},
   "outputs": [
    {
     "data": {
      "text/plain": [
       "False"
      ]
     },
     "execution_count": 25,
     "metadata": {},
     "output_type": "execute_result"
    }
   ],
   "source": [
    "t1 = (1,2,3,4,5,6,78,9)\n",
    "t2 = (2,3,4,5,6,78,9)\n",
    "t1==t2"
   ]
  },
  {
   "cell_type": "raw",
   "id": "8c907f2c-6fd3-45e7-ae85-fad91419f67e",
   "metadata": {},
   "source": [
    "19. Delete a tuple."
   ]
  },
  {
   "cell_type": "code",
   "execution_count": 27,
   "id": "4c0457ac-f4af-4596-b7b5-9846de4d596c",
   "metadata": {},
   "outputs": [
    {
     "ename": "NameError",
     "evalue": "name 't1' is not defined",
     "output_type": "error",
     "traceback": [
      "\u001b[0;31m---------------------------------------------------------------------------\u001b[0m",
      "\u001b[0;31mNameError\u001b[0m                                 Traceback (most recent call last)",
      "Cell \u001b[0;32mIn[27], line 4\u001b[0m\n\u001b[1;32m      1\u001b[0m t1 \u001b[38;5;241m=\u001b[39m (\u001b[38;5;241m1\u001b[39m,\u001b[38;5;241m2\u001b[39m,\u001b[38;5;241m3\u001b[39m,\u001b[38;5;241m4\u001b[39m,\u001b[38;5;241m5\u001b[39m,\u001b[38;5;241m6\u001b[39m,\u001b[38;5;241m78\u001b[39m,\u001b[38;5;241m9\u001b[39m)\n\u001b[1;32m      3\u001b[0m \u001b[38;5;28;01mdel\u001b[39;00m t1\n\u001b[0;32m----> 4\u001b[0m \u001b[38;5;28mprint\u001b[39m(\u001b[43mt1\u001b[49m)  \u001b[38;5;66;03m## after deleting the tuple there is no name t1 is defined in the program.........\u001b[39;00m\n",
      "\u001b[0;31mNameError\u001b[0m: name 't1' is not defined"
     ]
    }
   ],
   "source": [
    "t1 = (1,2,3,4,5,6,78,9)\n",
    "\n",
    "del t1\n",
    "print(t1)  ## after deleting the tuple there is no name t1 is defined in the program........."
   ]
  },
  {
   "cell_type": "raw",
   "id": "fc3ff3b3-a140-4e69-90c6-f36233f1e684",
   "metadata": {},
   "source": [
    "20. Slice a tuple."
   ]
  },
  {
   "cell_type": "code",
   "execution_count": 28,
   "id": "47b90e68-a1cf-494e-8b95-99b3c102c53b",
   "metadata": {},
   "outputs": [
    {
     "name": "stdout",
     "output_type": "stream",
     "text": [
      "2\n",
      "9\n"
     ]
    }
   ],
   "source": [
    "t1 = (1,2,3,4,5,6,78,9)\n",
    "\n",
    "print(t1[1])  # positive indexing\n",
    "print(t1[-1]) # negative indexing"
   ]
  },
  {
   "cell_type": "raw",
   "id": "4751b9cb-8fd2-4f3b-9680-71592ee87ddf",
   "metadata": {},
   "source": [
    "21. Find the maximum value in a tuple."
   ]
  },
  {
   "cell_type": "code",
   "execution_count": 12,
   "id": "854e3ee4-0cd3-457c-a24c-d2b5b8f79b43",
   "metadata": {},
   "outputs": [
    {
     "name": "stdout",
     "output_type": "stream",
     "text": [
      "The maximum value in a tuple is:- 78\n"
     ]
    }
   ],
   "source": [
    "t1 = (1,2,3,4,5,6,78,9)\n",
    "\n",
    "t1 = list(t1)\n",
    "t1.sort()\n",
    "max = t1[-1]\n",
    "print(\"The maximum value in a tuple is:-\", max)"
   ]
  },
  {
   "cell_type": "raw",
   "id": "429050cf-4b1b-4601-bead-8253d5368f26",
   "metadata": {},
   "source": [
    "22. Find the minimum value in a tuple."
   ]
  },
  {
   "cell_type": "code",
   "execution_count": null,
   "id": "bc27ed4b-981f-4a6e-9bf0-5a0fb6450334",
   "metadata": {},
   "outputs": [],
   "source": []
  },
  {
   "cell_type": "raw",
   "id": "0909d753-bca0-4257-b32f-d6c430254899",
   "metadata": {},
   "source": [
    "23. Convert a string to a tuple of characters."
   ]
  },
  {
   "cell_type": "code",
   "execution_count": 32,
   "id": "e86450a6-de8e-4e54-b3f7-c61d7832f7e5",
   "metadata": {},
   "outputs": [
    {
     "name": "stdin",
     "output_type": "stream",
     "text": [
      "Enter a string here  Ketan Sharma\n"
     ]
    },
    {
     "name": "stdout",
     "output_type": "stream",
     "text": [
      "('K', 'e', 't', 'a', 'n', ' ', 'S', 'h', 'a', 'r', 'm', 'a')\n"
     ]
    }
   ],
   "source": [
    "string = str(input(\"Enter a string here \"))\n",
    "t1 = tuple(string)\n",
    "print(t1)"
   ]
  },
  {
   "cell_type": "raw",
   "id": "c9719bf4-c3d3-4c5a-9ee1-a28586d6e17c",
   "metadata": {},
   "source": [
    "24. Convert a tuple of characters to a string."
   ]
  },
  {
   "cell_type": "code",
   "execution_count": 33,
   "id": "c9782418-2613-4e02-827f-d4952a596229",
   "metadata": {},
   "outputs": [
    {
     "name": "stdin",
     "output_type": "stream",
     "text": [
      "Enter characters of  string without any any commas: Ketan Sharma\n"
     ]
    },
    {
     "name": "stdout",
     "output_type": "stream",
     "text": [
      "('K', 'e', 't', 'a', 'n', ' ', 'S', 'h', 'a', 'r', 'm', 'a')\n",
      "Now the converted characters of a tuple to string are :- Ketan Sharma\n"
     ]
    }
   ],
   "source": [
    "t2 = tuple(input(\"Enter characters of  string without any any commas:\"))\n",
    "print(t2)\n",
    "\n",
    "string = ''.join(t2)\n",
    "print(\"Now the converted characters of a tuple to string are :-\",string)\n",
    "\n"
   ]
  },
  {
   "cell_type": "raw",
   "id": "75fb9d22-824f-4a00-b728-220b40607ab0",
   "metadata": {},
   "source": [
    "25. Create a tuple from multiple data types."
   ]
  },
  {
   "cell_type": "code",
   "execution_count": 33,
   "id": "9b398792-40a0-4531-b361-95aff7400257",
   "metadata": {},
   "outputs": [
    {
     "name": "stdin",
     "output_type": "stream",
     "text": [
      "Enter a string:-  hey p\n"
     ]
    },
    {
     "name": "stdout",
     "output_type": "stream",
     "text": [
      "tuple created from string ('hey', 'p')\n"
     ]
    },
    {
     "name": "stdin",
     "output_type": "stream",
     "text": [
      "Enter a integer:-  12345678\n"
     ]
    },
    {
     "name": "stdout",
     "output_type": "stream",
     "text": [
      "tuple created from integer ('1', '2', '3', '4', '5', '6', '7', '8')\n",
      "Tuple created from string (1, 2, 3, 4, 5, 6, 7)\n"
     ]
    }
   ],
   "source": [
    "# creating tuple from string\n",
    "string = str(input(\"Enter a string:- \"))\n",
    "l1 = string.split()\n",
    "l1 = tuple(l1)\n",
    "print(\"tuple created from string\",l1)\n",
    "\n",
    "# Creating tuple from integer.\n",
    "integer =input(\"Enter a integer:- \")\n",
    "tup  = tuple(int(i) for i  in integer.replace('(', '').replace(')', '').replace('...', '').split())\n",
    "print(\"tuple created from integer\",tuple(integer))\n",
    "\n",
    "#Creating tuple from list\n",
    "l2 = [1,2,3,4,5,6,7]\n",
    "l2 = tuple(l2)\n",
    "print(\"Tuple created from string\",l2)\n",
    "\n"
   ]
  },
  {
   "cell_type": "raw",
   "id": "19a6a65f-5b7e-45ea-a13c-bc897e3cd30c",
   "metadata": {},
   "source": [
    "26. Check if two tuples are identical."
   ]
  },
  {
   "cell_type": "code",
   "execution_count": 34,
   "id": "785b7f82-424b-4c52-ad10-2d86c61a212a",
   "metadata": {},
   "outputs": [
    {
     "name": "stdout",
     "output_type": "stream",
     "text": [
      "Both the tuples are identical.\n"
     ]
    }
   ],
   "source": [
    "t1 = (1,2,3,4,5,6,7,8)\n",
    "t2 =(1,2,3,4,5,6,7,8)\n",
    "\n",
    "if t1 == t2:\n",
    "    print(\"Both the tuples are identical.\")\n",
    "else:\n",
    "    print(\"Tuples are not identical at all.\")"
   ]
  },
  {
   "cell_type": "raw",
   "id": "b3ee54df-7a61-49d1-bfdc-54332897d504",
   "metadata": {},
   "source": [
    "27. Sort the elements of a tuple."
   ]
  },
  {
   "cell_type": "code",
   "execution_count": 35,
   "id": "329c9454-80eb-4050-8724-8d36861dcbeb",
   "metadata": {},
   "outputs": [
    {
     "name": "stdout",
     "output_type": "stream",
     "text": [
      "now the sorted tuple is  (1, 1, 1, 2, 2, 2, 3, 3, 3, 4, 4, 4, 5, 5, 5, 6, 6, 6)\n",
      "<class 'tuple'>\n"
     ]
    }
   ],
   "source": [
    "t1 = (1, 2, 3, 4, 5, 6, 1, 2, 3, 4, 5, 6, 1, 2, 3, 4, 5, 6)\n",
    "t1 =list(t1)\n",
    "t1.sort()\n",
    "t1 = tuple(t1)\n",
    "print(\"now the sorted tuple is \",t1)\n",
    "print(type(t1))"
   ]
  },
  {
   "cell_type": "raw",
   "id": "82246975-0c9e-47df-b1e5-c7d14f7d1846",
   "metadata": {},
   "source": [
    "28. Convert a tuple of integers to a tuple of strings."
   ]
  },
  {
   "cell_type": "code",
   "execution_count": 44,
   "id": "f3d65acd-52e8-4f46-9dff-bf286da19cdc",
   "metadata": {},
   "outputs": [
    {
     "name": "stdout",
     "output_type": "stream",
     "text": [
      "tuple of integer converted to a tuple of strings:-  ('1', '2', '3', '5', '6', '78', '90')\n"
     ]
    }
   ],
   "source": [
    "integer = (1,2,3,5,6,78,90)\n",
    "tup  = tuple(str(i) for i  in integer)\n",
    "print(\"tuple of integer converted to a tuple of strings:- \", tup)"
   ]
  },
  {
   "cell_type": "raw",
   "id": "23510f36-7f9a-4422-a91a-a1a0d2b3c269",
   "metadata": {},
   "source": [
    "29. Convert a tuple of strings to a tuple of integers."
   ]
  },
  {
   "cell_type": "code",
   "execution_count": 47,
   "id": "6d46650c-9b82-43ee-8266-27c8b868546c",
   "metadata": {},
   "outputs": [
    {
     "name": "stdout",
     "output_type": "stream",
     "text": [
      "tuple of string converted to a tuple of integers:-  (1, 2, 3, 5, 6, 78, 90)\n"
     ]
    }
   ],
   "source": [
    "string_tup = ('1', '2', '3', '5', '6', '78', '90')\n",
    "tup = tuple(int(i) for i in string_tup)\n",
    "print(\"tuple of string converted to a tuple of integers:- \",tup)\n"
   ]
  },
  {
   "cell_type": "raw",
   "id": "99fd0201-8055-4a34-868d-0038db1ffecc",
   "metadata": {},
   "source": [
    "30. Merge two tuples."
   ]
  },
  {
   "cell_type": "code",
   "execution_count": 48,
   "id": "4a9d3150-2228-413d-8395-60ce6959a3a5",
   "metadata": {},
   "outputs": [
    {
     "name": "stdout",
     "output_type": "stream",
     "text": [
      "(1, 2, 3, 4, 5, 6, 7, 8, 1, 2, 3, 4, 5, 6, 7, 8)\n"
     ]
    }
   ],
   "source": [
    "t1 = (1,2,3,4,5,6,7,8)\n",
    "t2 =(1,2,3,4,5,6,7,8)\n",
    "\n",
    "t1 = list(t1)\n",
    "t2 = list(t2)\n",
    "t3 = t1+t2\n",
    "t3 = tuple(t3)\n",
    "print(t3)"
   ]
  },
  {
   "cell_type": "raw",
   "id": "18dd6510-2dfe-43cd-8f53-920735985931",
   "metadata": {},
   "source": [
    "31. Flatten a nested tuple."
   ]
  },
  {
   "cell_type": "code",
   "execution_count": 55,
   "id": "836ad170-159a-4fad-9c07-391405730f50",
   "metadata": {},
   "outputs": [
    {
     "ename": "TypeError",
     "evalue": "'int' object is not iterable",
     "output_type": "error",
     "traceback": [
      "\u001b[0;31m---------------------------------------------------------------------------\u001b[0m",
      "\u001b[0;31mTypeError\u001b[0m                                 Traceback (most recent call last)",
      "Cell \u001b[0;32mIn[55], line 4\u001b[0m\n\u001b[1;32m      1\u001b[0m my_tup \u001b[38;5;241m=\u001b[39m ((\u001b[38;5;241m1\u001b[39m), (\u001b[38;5;241m2\u001b[39m, \u001b[38;5;241m3\u001b[39m), (\u001b[38;5;241m4\u001b[39m, \u001b[38;5;241m5\u001b[39m, \u001b[38;5;241m6\u001b[39m, \u001b[38;5;241m7\u001b[39m))\n\u001b[1;32m      2\u001b[0m my_tup \u001b[38;5;241m=\u001b[39m \u001b[38;5;28mlist\u001b[39m(my_tup)\n\u001b[0;32m----> 4\u001b[0m tup \u001b[38;5;241m=\u001b[39m [i \u001b[38;5;28;01mfor\u001b[39;00m sublist \u001b[38;5;129;01min\u001b[39;00m my_tup \u001b[38;5;28;01mfor\u001b[39;00m i \u001b[38;5;129;01min\u001b[39;00m sublist]\n\u001b[1;32m      6\u001b[0m \u001b[38;5;28mprint\u001b[39m()\n",
      "Cell \u001b[0;32mIn[55], line 4\u001b[0m, in \u001b[0;36m<listcomp>\u001b[0;34m(.0)\u001b[0m\n\u001b[1;32m      1\u001b[0m my_tup \u001b[38;5;241m=\u001b[39m ((\u001b[38;5;241m1\u001b[39m), (\u001b[38;5;241m2\u001b[39m, \u001b[38;5;241m3\u001b[39m), (\u001b[38;5;241m4\u001b[39m, \u001b[38;5;241m5\u001b[39m, \u001b[38;5;241m6\u001b[39m, \u001b[38;5;241m7\u001b[39m))\n\u001b[1;32m      2\u001b[0m my_tup \u001b[38;5;241m=\u001b[39m \u001b[38;5;28mlist\u001b[39m(my_tup)\n\u001b[0;32m----> 4\u001b[0m tup \u001b[38;5;241m=\u001b[39m [i \u001b[38;5;28;01mfor\u001b[39;00m sublist \u001b[38;5;129;01min\u001b[39;00m my_tup \u001b[38;5;28;01mfor\u001b[39;00m i \u001b[38;5;129;01min\u001b[39;00m sublist]\n\u001b[1;32m      6\u001b[0m \u001b[38;5;28mprint\u001b[39m()\n",
      "\u001b[0;31mTypeError\u001b[0m: 'int' object is not iterable"
     ]
    }
   ],
   "source": [
    "my_tup = ((1), (2, 3), (4, 5, 6, 7))\n",
    "my_tup = list(my_tup)\n",
    "\n",
    "tup = [i for sublist in my_tup for i in sublist]\n",
    "\n",
    "print()"
   ]
  },
  {
   "cell_type": "raw",
   "id": "8aa4e846-e9e7-4207-a98c-12942044aedd",
   "metadata": {},
   "source": [
    "32. Create a tuple of the first 5 prime numbers."
   ]
  },
  {
   "cell_type": "code",
   "execution_count": 62,
   "id": "13375af6-2887-4605-b218-0d2f2331e143",
   "metadata": {},
   "outputs": [
    {
     "name": "stdout",
     "output_type": "stream",
     "text": [
      "The tuple of the first 5 prime numbers is  (2, 3, 5, 7, 9)\n"
     ]
    }
   ],
   "source": [
    "l1 = []\n",
    "for i in range(2,10):\n",
    "    if i==2:\n",
    "        l1.append(i)\n",
    "    else:\n",
    "        if i%2!= 0:\n",
    "            l1.append(i)\n",
    "l1 = tuple(l1)\n",
    "print(\"The tuple of the first 5 prime numbers is \",l1)"
   ]
  },
  {
   "cell_type": "raw",
   "id": "0bbf8dee-78f2-4c48-8078-093f09b5d308",
   "metadata": {},
   "source": [
    "33. Check if a tuple is a palindrome."
   ]
  },
  {
   "cell_type": "code",
   "execution_count": 37,
   "id": "46a736ac-868c-4b93-bfbb-eaac83208d55",
   "metadata": {},
   "outputs": [
    {
     "name": "stdin",
     "output_type": "stream",
     "text": [
      "Enter a tuple without commas:- civic\n"
     ]
    },
    {
     "name": "stdout",
     "output_type": "stream",
     "text": [
      "your entered tuple is ('c', 'i', 'v', 'i', 'c')\n",
      "Tuple is a palindrome\n"
     ]
    }
   ],
   "source": [
    "t2 = tuple(input(\"Enter a tuple without commas:-\"))\n",
    "print(\"your entered tuple is\",t2)\n",
    "string = ''.join(t2)\n",
    "if string == string[::-1]:\n",
    "    print(\"Tuple is a palindrome\")\n",
    "\n",
    "else:\n",
    "    print(\"Tuple is not a palindrome\")"
   ]
  },
  {
   "cell_type": "raw",
   "id": "235c4ff9-f5d9-4b99-bd22-b6d2aaa9f3b9",
   "metadata": {},
   "source": [
    "34. Create a tuple of squares of numbers from 1 to 5."
   ]
  },
  {
   "cell_type": "code",
   "execution_count": 38,
   "id": "8cb2aa5a-4ffe-402f-a95f-4bbdae445ae6",
   "metadata": {},
   "outputs": [
    {
     "name": "stdout",
     "output_type": "stream",
     "text": [
      "The tuple of square of numbers from 1 to 5:- (1, 4, 9, 16, 25)\n"
     ]
    }
   ],
   "source": [
    "tup = ()\n",
    "for i in range(1,6):\n",
    "    tup = tup + (i**2,)\n",
    "print(\"The tuple of square of numbers from 1 to 5:-\",tup)"
   ]
  },
  {
   "cell_type": "raw",
   "id": "be41cbbf-c223-4a8b-a6c7-ef6c4470630c",
   "metadata": {},
   "source": [
    "35. Filter out all even numbers from a tuple."
   ]
  },
  {
   "cell_type": "code",
   "execution_count": 3,
   "id": "0fa5dcd1-f520-426c-bdf3-d3529749c77d",
   "metadata": {},
   "outputs": [
    {
     "name": "stdin",
     "output_type": "stream",
     "text": [
      "Enter the range to filter out all the even number from a tuple:-  12\n"
     ]
    },
    {
     "name": "stdout",
     "output_type": "stream",
     "text": [
      "all even numbers from a tuple are:-  (0, 2, 4, 6, 8, 10, 12)\n"
     ]
    }
   ],
   "source": [
    "n = int(input(\"Enter the range to filter out all the even number from a tuple:- \"))\n",
    "l = []\n",
    "for i in range(0,n+1):\n",
    "    if i%2 ==0:\n",
    "        l.append(i)\n",
    "l = tuple(l)\n",
    "print(\"all even numbers from a tuple are:- \",l)"
   ]
  },
  {
   "cell_type": "raw",
   "id": "3ecb7be7-f794-4aef-8e3f-12f6524dcdf5",
   "metadata": {},
   "source": [
    "36. Multiply all elements in a tuple by 2."
   ]
  },
  {
   "cell_type": "code",
   "execution_count": null,
   "id": "9ee6c091-ea31-4f59-9979-9d2d69005587",
   "metadata": {},
   "outputs": [],
   "source": [
    "t1 = (1,2,3,4,5,6)\n",
    "d1= list(t1)\n",
    "for i in d1:\n",
    "    i = i*2\n",
    "    d1.append(i)\n",
    "d1 = tuple(d1)\n",
    "print(d1)"
   ]
  },
  {
   "cell_type": "raw",
   "id": "94d938f4-af44-4abd-bcd2-f88e298a3302",
   "metadata": {},
   "source": [
    "37. Create a tuple of random numbers."
   ]
  },
  {
   "cell_type": "code",
   "execution_count": 40,
   "id": "270bbf7c-ae54-4edb-8d0f-57b05a5aa1e0",
   "metadata": {},
   "outputs": [
    {
     "name": "stdout",
     "output_type": "stream",
     "text": [
      "(0.5557063365607803, 0.9984024704611058, 0.008826616855228675, 0.08165973837029161, 0.44583631452858896, 0.5523428211313857, 0.40008598442194077, 0.05593631900471918, 0.8325604395683707, 0.8865335084837112)\n"
     ]
    }
   ],
   "source": [
    "import random \n",
    "t1 = []\n",
    "for i in range(0,10):\n",
    "    t1.append(random.random())\n",
    "t1 = tuple(t1)\n",
    "print(t1)\n"
   ]
  },
  {
   "cell_type": "raw",
   "id": "b1940773-6d99-47c0-b6f4-08a5995d89dc",
   "metadata": {},
   "source": [
    "38. Check if a tuple is sorted."
   ]
  },
  {
   "cell_type": "code",
   "execution_count": 41,
   "id": "61e3a4e8-129e-4828-8f23-346f429851fe",
   "metadata": {},
   "outputs": [
    {
     "name": "stdout",
     "output_type": "stream",
     "text": [
      "The Tuple is not sorted\n"
     ]
    }
   ],
   "source": [
    "t1 = (1, 2, 3, 4, 5, 6, 1, 2, 3, 4, 5, 6, 1, 2, 3, 4, 5, 6)\n",
    "u1 = t1 = list(t1)\n",
    "ascending = t1\n",
    "descending = u1\n",
    "if ascending == t1.sort():\n",
    "    print(\"The tuple is sorted in ascending order.\")\n",
    "elif descending ==t1.sort(reverse = True):\n",
    "    print(\"The tuple is sorted in descending order.\")\n",
    "else:\n",
    "    print(\"The Tuple is not sorted\")"
   ]
  },
  {
   "cell_type": "raw",
   "id": "ecfe7976-4354-4276-a8cf-e4ed39806fc0",
   "metadata": {},
   "source": [
    "39. Rotate a tuple to the left by `n` positions."
   ]
  },
  {
   "cell_type": "code",
   "execution_count": 6,
   "id": "cb8f3efc-4bca-4510-bbe7-b431415c1546",
   "metadata": {},
   "outputs": [
    {
     "name": "stdin",
     "output_type": "stream",
     "text": [
      "Enter the position to the tuple by left:- 4\n"
     ]
    },
    {
     "name": "stdout",
     "output_type": "stream",
     "text": [
      "original Tuple:-(1, 2, 3, 4, 5, 6, 78, 8, 9, 9)\n",
      "Tuple after left rotate by 3:  (5, 6, 78, 8, 9, 9, 1, 2, 3, 4)\n"
     ]
    }
   ],
   "source": [
    "tup_1 = (1,2,3,4,5,6,78,8,9,9)\n",
    "n = int(input(\"Enter the position to the tuple by left:-\"))\n",
    "print(\"original Tuple:-\" + str(tup_1))\n",
    "\n",
    "tup_1 = tup_1[n:]+ tup_1[:n]\n",
    "print(\"Tuple after left rotate by \",n,\":-\" ,tup_1)\n"
   ]
  },
  {
   "cell_type": "raw",
   "id": "0dcbe89f-8f33-44b8-bca0-c3789f747f91",
   "metadata": {},
   "source": [
    "40. Rotate a tuple to the right by `n` positions."
   ]
  },
  {
   "cell_type": "code",
   "execution_count": 7,
   "id": "6f3871ab-7e8c-48d7-96d5-2cea7aaab5be",
   "metadata": {},
   "outputs": [
    {
     "name": "stdin",
     "output_type": "stream",
     "text": [
      "Enter the position to the tuple by left:- 5\n"
     ]
    },
    {
     "name": "stdout",
     "output_type": "stream",
     "text": [
      "original tuple:-(1, 2, 3, 4, 5, 6, 78, 8, 9, 9)\n",
      "Tuple after right rotate by 5 :- (6, 78, 8, 9, 9, 1, 2, 3, 4, 5)\n"
     ]
    }
   ],
   "source": [
    "tup_1 = (1,2,3,4,5,6,78,8,9,9)\n",
    "n = int(input(\"Enter the position to the tuple by left:-\"))\n",
    "print(\"original tuple:-\" +str(tup_1))\n",
    "\n",
    "\n",
    "tup_1 = tup_1[-n:]+ tup_1[:-n]\n",
    "print(\"Tuple after right rotate by\",n,\":-\",tup_1)"
   ]
  },
  {
   "cell_type": "raw",
   "id": "03356fff-f298-4fbe-8d83-3af58a13051a",
   "metadata": {},
   "source": [
    "41. Create a tuple of the first 5 Fibonacci numbers."
   ]
  },
  {
   "cell_type": "code",
   "execution_count": null,
   "id": "f0512dd3-ef23-45e6-bdf7-49735abcb966",
   "metadata": {},
   "outputs": [],
   "source": []
  },
  {
   "cell_type": "raw",
   "id": "d299369a-5e86-4faf-b86b-e613bd5f11bb",
   "metadata": {},
   "source": [
    "42. Create a tuple from user input."
   ]
  },
  {
   "cell_type": "code",
   "execution_count": 43,
   "id": "961a0be6-f6da-471d-899d-a7d0efa880fc",
   "metadata": {},
   "outputs": [
    {
     "name": "stdin",
     "output_type": "stream",
     "text": [
      "Enter the elements of tuple without commas:-  123456789\n"
     ]
    },
    {
     "name": "stdout",
     "output_type": "stream",
     "text": [
      "('1', '2', '3', '4', '5', '6', '7', '8', '9')\n"
     ]
    },
    {
     "name": "stdin",
     "output_type": "stream",
     "text": [
      "Enter space separated integer:- 1 2 3 4 5 67 8\n"
     ]
    },
    {
     "name": "stdout",
     "output_type": "stream",
     "text": [
      "(1, 2, 3, 4, 5, 67, 8)\n"
     ]
    }
   ],
   "source": [
    "## A tuple from integer user input\n",
    "\n",
    "user_input = input(\"Enter space separated integer:-\")\n",
    "my_tup = tuple(int(items)for items in user_input.split())\n",
    "print(my_tup)"
   ]
  },
  {
   "cell_type": "raw",
   "id": "02916f45-8797-451e-b9a7-7fbf33f10a4a",
   "metadata": {},
   "source": [
    "43. Swap two elements in a tuple."
   ]
  },
  {
   "cell_type": "code",
   "execution_count": null,
   "id": "ff667190-23ef-457b-b11d-8b473bf8b7ec",
   "metadata": {},
   "outputs": [],
   "source": []
  },
  {
   "cell_type": "raw",
   "id": "0a946174-e5c6-4467-8c28-1b51a1069802",
   "metadata": {},
   "source": [
    "44. Reverse the elements of a tuple."
   ]
  },
  {
   "cell_type": "code",
   "execution_count": 46,
   "id": "119e7126-6d44-4c4f-ba2c-caac8ad2a997",
   "metadata": {},
   "outputs": [
    {
     "name": "stdout",
     "output_type": "stream",
     "text": [
      "(6, 5, 4, 3, 2, 1, 6, 5, 4, 3, 2, 1, 6, 5, 4, 3, 2, 1)\n",
      "<class 'tuple'>\n"
     ]
    }
   ],
   "source": [
    "t1 = (1, 2, 3, 4, 5, 6, 1, 2, 3, 4, 5, 6, 1, 2, 3, 4, 5, 6)\n",
    "t1 = list(t1)\n",
    "rev = t1.reverse()\n",
    "t1 = tuple(t1)\n",
    "print(t1)\n",
    "print(type(t1))"
   ]
  },
  {
   "cell_type": "raw",
   "id": "ebf4fcc1-48e7-4e48-ba92-74f546ce639c",
   "metadata": {},
   "source": [
    "45. Create a tuple of the first `n` powers of 2."
   ]
  },
  {
   "cell_type": "code",
   "execution_count": 8,
   "id": "f6a9090e-714b-4829-abbd-72ebaa050d66",
   "metadata": {},
   "outputs": [
    {
     "name": "stdin",
     "output_type": "stream",
     "text": [
      "Enter the range for the n powes of 2:-  5\n"
     ]
    },
    {
     "name": "stdout",
     "output_type": "stream",
     "text": [
      "The tuple of the first'n' powers of 2 (0, 1, 4, 9, 16, 25)\n"
     ]
    }
   ],
   "source": [
    "n = int(input(\"Enter the range for the n powes of 2:- \"))\n",
    "l = []\n",
    "for i in range(0,n+1):\n",
    "    i = i**2\n",
    "    l.append(i)\n",
    "l = tuple(l)\n",
    "print(\"The tuple of the first'n' powers of 2\",l)"
   ]
  },
  {
   "cell_type": "raw",
   "id": "267a3532-7a80-44de-bb24-218c68976eb9",
   "metadata": {},
   "source": [
    "46. Find the longest string in a tuple of strings."
   ]
  },
  {
   "cell_type": "code",
   "execution_count": null,
   "id": "65279463-ec0b-4805-8a87-ea5c4d00e249",
   "metadata": {},
   "outputs": [],
   "source": []
  },
  {
   "cell_type": "raw",
   "id": "55d30961-5794-4435-ba42-a34315461f44",
   "metadata": {},
   "source": [
    "47. Find the shortest string in a tuple of strings."
   ]
  },
  {
   "cell_type": "code",
   "execution_count": null,
   "id": "145552d8-e2ae-499e-aeee-ee9d1f20da8f",
   "metadata": {},
   "outputs": [],
   "source": []
  },
  {
   "cell_type": "raw",
   "id": "1d49e305-a76c-45bb-a1fa-648f904b0e44",
   "metadata": {},
   "source": [
    "48. Create a tuple of the first `n` triangular numbers."
   ]
  },
  {
   "cell_type": "code",
   "execution_count": 35,
   "id": "ba4dc863-6846-421b-b1ee-4d7b06a5b101",
   "metadata": {},
   "outputs": [
    {
     "name": "stdin",
     "output_type": "stream",
     "text": [
      "Rnter a range for triangular numbers:- 10\n"
     ]
    },
    {
     "name": "stdout",
     "output_type": "stream",
     "text": [
      "The tuple of the first 10 triangular numbers is :- (0, 1, 3, 6, 10, 15, 21, 28, 36, 45, 55)\n"
     ]
    }
   ],
   "source": [
    "n = int(input(\"Rnter a range for triangular numbers:-\"))\n",
    "l = []\n",
    "sum_1 = 0\n",
    "for i in range(0,n+1):\n",
    "    sum_1= sum_1+i\n",
    "    l.append(sum_1)\n",
    "l = tuple(l)\n",
    "print(\"The tuple of the first\",n,\"triangular numbers is :-\",l)"
   ]
  },
  {
   "cell_type": "raw",
   "id": "b52186b9-b098-489a-809f-df5265870506",
   "metadata": {},
   "source": [
    "49. Check if a tuple contains another tuple as a subsequence."
   ]
  },
  {
   "cell_type": "code",
   "execution_count": null,
   "id": "42ea3cef-14ac-4f08-b01e-bd2d8167898c",
   "metadata": {},
   "outputs": [],
   "source": []
  },
  {
   "cell_type": "raw",
   "id": "34430fdf-ff48-47a4-b28d-52fffabeac5d",
   "metadata": {},
   "source": [
    "50. Create a tuple of alternating 1s and 0s of length `n`."
   ]
  },
  {
   "cell_type": "code",
   "execution_count": null,
   "id": "e551b90b-a4ba-4de9-b378-4ceb3b62f510",
   "metadata": {},
   "outputs": [],
   "source": []
  },
  {
   "cell_type": "raw",
   "id": "ca736564-851f-4e8f-8baa-29f7f015c30a",
   "metadata": {},
   "source": [
    "Set Based Practice Problem :\n",
    "\n",
    "\n",
    "\n",
    "\n",
    "\n",
    "1. Create a set with integers from 1 to 5."
   ]
  },
  {
   "cell_type": "code",
   "execution_count": 48,
   "id": "44d10a15-e886-43ef-89e4-207aff0cea70",
   "metadata": {},
   "outputs": [
    {
     "name": "stdin",
     "output_type": "stream",
     "text": [
      "Enter the integer separated with space:- 1 2 34 5 6\n"
     ]
    },
    {
     "name": "stdout",
     "output_type": "stream",
     "text": [
      "{1, 2, 34, 5, 6}\n"
     ]
    }
   ],
   "source": [
    "s1= input(\"Enter the integer separated with space:-\")\n",
    "my_set = set(int(items)for items in s1.split())\n",
    "print(my_set)"
   ]
  },
  {
   "cell_type": "raw",
   "id": "3b9dce42-7155-43e4-83c4-cfcf8ec3dbe0",
   "metadata": {},
   "source": [
    "2. Add an element to a set."
   ]
  },
  {
   "cell_type": "code",
   "execution_count": 50,
   "id": "9e9e77a1-11c9-43d4-b9e5-cd03a965818f",
   "metadata": {},
   "outputs": [
    {
     "name": "stdin",
     "output_type": "stream",
     "text": [
      "Enter the integer separated with space:- 12 45 6\n",
      "Enter the element you want to add in the integer form:- 4\n"
     ]
    },
    {
     "name": "stdout",
     "output_type": "stream",
     "text": [
      "{4, 12, 45, 6}\n"
     ]
    }
   ],
   "source": [
    "s1= input(\"Enter the integer separated with space:-\")\n",
    "my_set = set(int(items)for items in s1.split())\n",
    "add = int(input(\"Enter the element you want to add in the integer form:-\"))\n",
    "my_set.add(add)\n",
    "print(my_set)"
   ]
  },
  {
   "cell_type": "raw",
   "id": "afdbf140-4716-4912-a722-9c18cf246cf3",
   "metadata": {},
   "source": [
    "3. Remove an element from a set."
   ]
  },
  {
   "cell_type": "code",
   "execution_count": 51,
   "id": "b5be95f1-45f4-4fc5-8066-7154136c5458",
   "metadata": {
    "scrolled": true,
    "tags": []
   },
   "outputs": [
    {
     "name": "stdin",
     "output_type": "stream",
     "text": [
      "Enter the integer separated with space:- 1 2 3  4 5 6 7 8\n"
     ]
    },
    {
     "name": "stdout",
     "output_type": "stream",
     "text": [
      "{1, 2, 3, 4, 5, 6, 7, 8}\n"
     ]
    },
    {
     "name": "stdin",
     "output_type": "stream",
     "text": [
      "Enter the elment you want to remove in the integer form:- 8\n"
     ]
    },
    {
     "name": "stdout",
     "output_type": "stream",
     "text": [
      "{1, 2, 3, 4, 5, 6, 7}\n"
     ]
    }
   ],
   "source": [
    "s1 = input(\"Enter the integer separated with space:-\")\n",
    "my_set = set(int(items)for items in s1.split())\n",
    "print(my_set)\n",
    "remove = int(input(\"Enter the elment you want to remove in the integer form:-\"))\n",
    "my_set.remove(remove)\n",
    "print(my_set)"
   ]
  },
  {
   "cell_type": "raw",
   "id": "57b91ddf-0175-4371-a72f-a6d85583b237",
   "metadata": {},
   "source": [
    "4. Check if an element exists in a set."
   ]
  },
  {
   "cell_type": "code",
   "execution_count": 53,
   "id": "3edf2bab-7457-4a60-9e0a-fdc0fc02b94f",
   "metadata": {},
   "outputs": [
    {
     "name": "stdin",
     "output_type": "stream",
     "text": [
      "Enter the integer separated with space:- 1 2 3  4 5 6 78\n"
     ]
    },
    {
     "name": "stdout",
     "output_type": "stream",
     "text": [
      "{1, 2, 3, 4, 5, 6, 78}\n"
     ]
    },
    {
     "name": "stdin",
     "output_type": "stream",
     "text": [
      "Enter the integer element to check it exists or not:- 78\n"
     ]
    },
    {
     "name": "stdout",
     "output_type": "stream",
     "text": [
      "The element exists in a set.\n"
     ]
    }
   ],
   "source": [
    "s1 = input(\"Enter the integer separated with space:-\")\n",
    "my_set = set(int(items)for items in s1.split())\n",
    "print(my_set)\n",
    "element = int(input(\"Enter the integer element to check it exists or not:-\"))\n",
    "if element in my_set:\n",
    "    print(\"The element exists in a set.\")\n",
    "else:\n",
    "    print(\"The element does not exists in a set.\")"
   ]
  },
  {
   "cell_type": "raw",
   "id": "5bd1a72a-ecff-4d43-88c3-0e13fb8f2d4f",
   "metadata": {},
   "source": [
    "5. Find the length of a set without using the `len()` function."
   ]
  },
  {
   "cell_type": "code",
   "execution_count": 2,
   "id": "d98291ef-92cd-4153-9e17-f6f785fbb25d",
   "metadata": {},
   "outputs": [
    {
     "name": "stdin",
     "output_type": "stream",
     "text": [
      "Enter the integer separated with space:- 1 2 3 4 5 6 7 8 9 90\n"
     ]
    },
    {
     "name": "stdout",
     "output_type": "stream",
     "text": [
      "The length of a set is:-  10\n"
     ]
    }
   ],
   "source": [
    "s1 = input(\"Enter the integer separated with space:-\")\n",
    "my_set = set(int(items)for items in s1.split())\n",
    "count = 0 \n",
    "for i in my_set:\n",
    "    count = count+1\n",
    "print(\"The length of a set is:- \",count)"
   ]
  },
  {
   "cell_type": "raw",
   "id": "e8f5d7f0-948d-4211-b339-54c7f243809e",
   "metadata": {},
   "source": [
    "6. Clear all elements from a set."
   ]
  },
  {
   "cell_type": "code",
   "execution_count": 54,
   "id": "98d1e3fd-a6df-436c-82b8-6fcce80da640",
   "metadata": {},
   "outputs": [
    {
     "name": "stdout",
     "output_type": "stream",
     "text": [
      "set()\n"
     ]
    }
   ],
   "source": [
    "s1= {65, 1, 36, 12, 52}\n",
    "s1.clear()\n",
    "print(s1)"
   ]
  },
  {
   "cell_type": "raw",
   "id": "760922c8-2cd2-407b-a978-4d2a7d923234",
   "metadata": {},
   "source": [
    "7. Create a set of even numbers from 1 to 10."
   ]
  },
  {
   "cell_type": "code",
   "execution_count": 4,
   "id": "eb7e3aea-b45a-42c4-8cad-39ecd6f661ce",
   "metadata": {},
   "outputs": [
    {
     "name": "stdout",
     "output_type": "stream",
     "text": [
      "A set of even numbers from 1 to 10:-  {2, 4, 6, 8, 10}\n"
     ]
    }
   ],
   "source": [
    "l = []\n",
    "for i in range(1,11):\n",
    "    if i%2 ==0:\n",
    "        l.append(i)\n",
    "l = set(l)\n",
    "print(\"A set of even numbers from 1 to 10:- \",l)"
   ]
  },
  {
   "cell_type": "raw",
   "id": "a720e515-2beb-46d8-88c2-f2fbe43e502b",
   "metadata": {},
   "source": [
    "8. Create a set of odd numbers from 1 to 10."
   ]
  },
  {
   "cell_type": "code",
   "execution_count": 5,
   "id": "825aa051-a7b5-4c23-9c6c-f14e015d7072",
   "metadata": {},
   "outputs": [
    {
     "name": "stdout",
     "output_type": "stream",
     "text": [
      "A set of odd numbers from 1 to 10:-  {1, 3, 5, 7, 9}\n"
     ]
    }
   ],
   "source": [
    "l = []\n",
    "for i in range(1,11):\n",
    "    if i%2 !=0:\n",
    "        l.append(i)\n",
    "l = set(l)\n",
    "print(\"A set of odd numbers from 1 to 10:- \",l)"
   ]
  },
  {
   "cell_type": "raw",
   "id": "ac90b2c9-d292-4335-bc0c-5a7f614959b7",
   "metadata": {},
   "source": [
    "9. Find the union of two sets."
   ]
  },
  {
   "cell_type": "code",
   "execution_count": 55,
   "id": "5c6ad019-f706-4326-b78a-4b26ba2f9bac",
   "metadata": {},
   "outputs": [
    {
     "data": {
      "text/plain": [
       "{1, 2, 3, 4, 5, 6, 9, 59, 69, 78}"
      ]
     },
     "execution_count": 55,
     "metadata": {},
     "output_type": "execute_result"
    }
   ],
   "source": [
    "s1 = {1,2,3,4,5,6,78,9}\n",
    "s2 = {1,2,3,4,5,69,59}\n",
    "s1.union(s2)"
   ]
  },
  {
   "cell_type": "raw",
   "id": "15a164f8-e0ef-4aff-9ab8-9f27a398a08f",
   "metadata": {},
   "source": [
    "10. Find the intersection of two sets."
   ]
  },
  {
   "cell_type": "code",
   "execution_count": 56,
   "id": "397f1003-9935-4e68-8b8a-d1e97d25fb7e",
   "metadata": {},
   "outputs": [
    {
     "name": "stdout",
     "output_type": "stream",
     "text": [
      "{1, 2, 3, 4, 5}\n"
     ]
    }
   ],
   "source": [
    "s1 = {1,2,3,4,5,6,78,9}\n",
    "s2 = {1,2,3,4,5,69,59}\n",
    "intersect = s1.intersection(s2)\n",
    "print(intersect)"
   ]
  },
  {
   "cell_type": "raw",
   "id": "eab4e742-1fa9-4bb2-9774-484a4cf1de7e",
   "metadata": {},
   "source": [
    "11. Find the difference between two sets."
   ]
  },
  {
   "cell_type": "code",
   "execution_count": 57,
   "id": "61c7a9a2-6106-40a3-b721-1238edf9b8fb",
   "metadata": {},
   "outputs": [
    {
     "name": "stdout",
     "output_type": "stream",
     "text": [
      "{59, 69}\n"
     ]
    }
   ],
   "source": [
    "s1 = {1,2,3,4,5,6,78,9}\n",
    "s2 = {1,2,3,4,5,69,59}\n",
    "difference = s2.difference(s1)\n",
    "print(difference)"
   ]
  },
  {
   "cell_type": "raw",
   "id": "28889ffc-6bc6-4cc7-85ff-c20c123e6deb",
   "metadata": {},
   "source": [
    "12. Check if a set is a subset of another set."
   ]
  },
  {
   "cell_type": "code",
   "execution_count": 58,
   "id": "b4944dda-b272-44eb-a334-cb6b396111ad",
   "metadata": {
    "scrolled": true,
    "tags": []
   },
   "outputs": [
    {
     "name": "stdout",
     "output_type": "stream",
     "text": [
      "yes s2 set is a subset of s1 set\n"
     ]
    }
   ],
   "source": [
    "s1 = {1,2,3,4,5,6,78,9}\n",
    "s2 = {1,2,3,4,5,6}\n",
    "subset = s2.issubset(s1)\n",
    "if subset == True:\n",
    "    print(\"yes s2 set is a subset of s1 set\")\n",
    "else:\n",
    "    print(\"No subset\")"
   ]
  },
  {
   "cell_type": "raw",
   "id": "9c712fa5-de6d-41e9-ae35-44a119939219",
   "metadata": {},
   "source": [
    "13. Check if a set is a superset of another set."
   ]
  },
  {
   "cell_type": "code",
   "execution_count": 18,
   "id": "dd90de66-9fa9-466e-8e72-c310c0f9eaeb",
   "metadata": {},
   "outputs": [],
   "source": [
    "y = {1,2,3,4,5,6}\n",
    "x = {1,2,3,4}\n",
    "\n",
    "if x in y:\n",
    "    if len(x)< len(y):\n",
    "        print(\"Hence Y is the superset of X\")"
   ]
  },
  {
   "cell_type": "raw",
   "id": "c47d21a8-68c3-4daa-8cac-03a755a2c9bb",
   "metadata": {},
   "source": [
    "14. Create a set from a list."
   ]
  },
  {
   "cell_type": "code",
   "execution_count": 14,
   "id": "85ec9ea8-d07d-4b3c-ad3d-d31144da4921",
   "metadata": {},
   "outputs": [
    {
     "name": "stdout",
     "output_type": "stream",
     "text": [
      "{1, 2, 3, 4, 5, 6}\n"
     ]
    }
   ],
   "source": [
    "l1 = [1,2,3,4,5,6]\n",
    "l1 = set(l1)\n",
    "print(l1)"
   ]
  },
  {
   "cell_type": "raw",
   "id": "49c53930-bc15-47d2-8881-7aa2095b7518",
   "metadata": {},
   "source": [
    "15. Convert a set to a list."
   ]
  },
  {
   "cell_type": "code",
   "execution_count": 15,
   "id": "99fcd669-46de-4f41-a9e6-c71f6c37eeae",
   "metadata": {},
   "outputs": [
    {
     "name": "stdout",
     "output_type": "stream",
     "text": [
      "[1, 2, 3, 4, 5, 6]\n"
     ]
    }
   ],
   "source": [
    "s1 = {1,2,3,4,5,6}\n",
    "s1 = list(s1)\n",
    "print(s1)"
   ]
  },
  {
   "cell_type": "raw",
   "id": "ee4f2c10-a953-4a37-8f57-883ac0300faa",
   "metadata": {},
   "source": [
    "16. Remove a random element from a set."
   ]
  },
  {
   "cell_type": "code",
   "execution_count": 8,
   "id": "6a7e73a0-63fb-4217-ab1d-df99cf7b2fa9",
   "metadata": {},
   "outputs": [],
   "source": [
    "import random\n",
    "my_set = {1,2,3,4,5,6,7,8,9,10,11,12,13,14,15}\n",
    "\n",
    "sampled_item = random.sample(list(my_set), 1)[0]\n",
    "my_set.remove(sampled_item)\n"
   ]
  },
  {
   "cell_type": "raw",
   "id": "800ab795-79e9-4fe8-8be8-249f49f313db",
   "metadata": {},
   "source": [
    "17. Pop an element from a set."
   ]
  },
  {
   "cell_type": "code",
   "execution_count": 5,
   "id": "86c06f84-d3b6-49d6-8148-be068ccaa5a9",
   "metadata": {},
   "outputs": [
    {
     "name": "stdout",
     "output_type": "stream",
     "text": [
      "{2, 3, 4, 5, 6}\n"
     ]
    }
   ],
   "source": [
    "s1 = {1,2,3,4,5,6}\n",
    "s1.pop()\n",
    "print(s1)"
   ]
  },
  {
   "cell_type": "raw",
   "id": "ce717531-6748-46b4-8299-5a2cde22336c",
   "metadata": {},
   "source": [
    "18. Check if two sets have no elements in common."
   ]
  },
  {
   "cell_type": "code",
   "execution_count": 13,
   "id": "28ae9bff-44a4-4483-b347-58949b770a72",
   "metadata": {},
   "outputs": [
    {
     "name": "stdout",
     "output_type": "stream",
     "text": [
      "s1 and s2 sets have no elements in common\n"
     ]
    }
   ],
   "source": [
    "s1 = {1,2,3,4,5,67,}\n",
    "s2 = {25,37,47,57,68,9,8}\n",
    "if s1.isdisjoint(s2)==True:\n",
    "    print(\"s1 and s2 sets have no elements in common\")\n",
    "else:\n",
    "    print(\"s1 and s2 sets have elements in common\")"
   ]
  },
  {
   "cell_type": "raw",
   "id": "26e9e1c3-9188-4ec9-8843-5473fd91f8d4",
   "metadata": {},
   "source": [
    "19. Find the symmetric difference between two sets."
   ]
  },
  {
   "cell_type": "code",
   "execution_count": 15,
   "id": "10335f4f-2ec6-4b02-a4fe-686f459a086b",
   "metadata": {},
   "outputs": [
    {
     "name": "stdout",
     "output_type": "stream",
     "text": [
      "{1, 2, 5, 6, 7, 9}\n"
     ]
    }
   ],
   "source": [
    "set_A = {1, 2, 3, 4, 5}\n",
    "set_B = {6, 7, 3, 9, 4}\n",
    "\n",
    "print(set_A.symmetric_difference(set_B))"
   ]
  },
  {
   "cell_type": "raw",
   "id": "d26758e5-56f9-4f74-9a18-74e7a59a2a6c",
   "metadata": {},
   "source": [
    "20. Update a set with elements from another set."
   ]
  },
  {
   "cell_type": "code",
   "execution_count": 17,
   "id": "e31bf3d5-83cd-48f5-96d1-9a6a7f9b3868",
   "metadata": {},
   "outputs": [
    {
     "name": "stdout",
     "output_type": "stream",
     "text": [
      "{1, 2, 3, 4, 5, 6, 7, 9}\n"
     ]
    }
   ],
   "source": [
    "set_A = {1, 2, 3, 4, 5}\n",
    "set_B = {6, 7, 3, 9, 4}\n",
    "\n",
    "set_A = list(set_A)\n",
    "set_B = list(set_B)\n",
    "set_c = set_A +set_B\n",
    "\n",
    "set_c = set(set_c)\n",
    "print(set_c)"
   ]
  },
  {
   "cell_type": "raw",
   "id": "5e4ceebf-fa91-4e58-ac5d-c945ee6cd2b7",
   "metadata": {},
   "source": [
    "21. Create a set of the first 5 prime numbers."
   ]
  },
  {
   "cell_type": "code",
   "execution_count": null,
   "id": "17ed95f1-e636-43e4-a068-baa7256c6a7d",
   "metadata": {},
   "outputs": [],
   "source": []
  },
  {
   "cell_type": "raw",
   "id": "a2c249e7-c9d4-436a-9428-be2b8f69ef98",
   "metadata": {},
   "source": [
    "22. Check if two sets are identical."
   ]
  },
  {
   "cell_type": "code",
   "execution_count": 65,
   "id": "3ee6e51f-0779-4acd-aae8-5227a7c2b489",
   "metadata": {},
   "outputs": [
    {
     "name": "stdout",
     "output_type": "stream",
     "text": [
      "Sets are not identical\n"
     ]
    }
   ],
   "source": [
    "s1 = {1,2,3,4,5,6,78,9}\n",
    "s2 = {1,2,3,4,5,69,59}\n",
    "if s1 ==s2:\n",
    "    print(\"Two sets are identical\")\n",
    "else:\n",
    "    print(\"Sets are not identical\")"
   ]
  },
  {
   "cell_type": "raw",
   "id": "686cd925-5785-42dc-b599-a34c9271f605",
   "metadata": {},
   "source": [
    "23. Create a frozen set."
   ]
  },
  {
   "cell_type": "code",
   "execution_count": 18,
   "id": "43d82957-fe2a-4ceb-9b7b-d096d952881b",
   "metadata": {},
   "outputs": [
    {
     "name": "stdout",
     "output_type": "stream",
     "text": [
      "frozenset({1, 2, 3, 4, 5, 6, 7, 8, 90})\n"
     ]
    }
   ],
   "source": [
    "s_1 = {1,2,3,4,5,6,7,8,90}\n",
    "frozen_set = frozenset(s_1)\n",
    "print(frozen_set)"
   ]
  },
  {
   "cell_type": "raw",
   "id": "f4b3d025-c40e-47a4-8b34-321c07d571d8",
   "metadata": {},
   "source": [
    "24. Check if a set is disjoint with another set."
   ]
  },
  {
   "cell_type": "code",
   "execution_count": 19,
   "id": "4b73df7d-0be9-4942-84ac-ff4bb43a90f7",
   "metadata": {},
   "outputs": [
    {
     "name": "stdout",
     "output_type": "stream",
     "text": [
      "s1 and s2 sets are disjoint set\n"
     ]
    }
   ],
   "source": [
    "s1 = {1,2,3,4,5,67,}\n",
    "s2 = {25,37,47,57,68,9,8}\n",
    "if s1.isdisjoint(s2)==True:\n",
    "    print(\"s1 and s2 sets are disjoint set\")\n",
    "else:\n",
    "    print(\"s1 and s2 sets are not disjoint set \")"
   ]
  },
  {
   "cell_type": "raw",
   "id": "4b4b295e-9e1e-4395-92cc-8f4addbf3fd0",
   "metadata": {},
   "source": [
    "25. Create a set of squares of numbers from 1 to 5."
   ]
  },
  {
   "cell_type": "code",
   "execution_count": 21,
   "id": "b27c6871-31da-484b-bd6d-a595db4246a1",
   "metadata": {},
   "outputs": [
    {
     "name": "stdout",
     "output_type": "stream",
     "text": [
      "A set of squares of numbers from 1 to 5 is:- {1, 4, 9, 16, 25}\n"
     ]
    }
   ],
   "source": [
    "l1 = []\n",
    "for i in range(1,6):\n",
    "    i = i**2\n",
    "    l1.append(i)\n",
    "l1 = set(l1)\n",
    "\n",
    "print(\"A set of squares of numbers from 1 to 5 is:-\",l1)"
   ]
  },
  {
   "cell_type": "raw",
   "id": "5c39daab-d041-4dec-9780-b250c918a93b",
   "metadata": {},
   "source": [
    "26. Filter out all even numbers from a set."
   ]
  },
  {
   "cell_type": "code",
   "execution_count": 66,
   "id": "debade75-bc0e-456f-8472-d27e6e83a51f",
   "metadata": {},
   "outputs": [
    {
     "name": "stdout",
     "output_type": "stream",
     "text": [
      "{4, 8, 10, 12, 14, 16, 56}\n"
     ]
    }
   ],
   "source": [
    "my_set = {1,3,4,56,67,89,35,7,8,9,10,11,12,13,14,15,16}\n",
    "l1 = []\n",
    "for i in my_set:\n",
    "    if i%2==0:\n",
    "        l1.append(i)\n",
    "l1 = set(l1)\n",
    "print(l1)"
   ]
  },
  {
   "cell_type": "raw",
   "id": "23da9d0d-fb64-4043-8662-4241eff1eb28",
   "metadata": {},
   "source": [
    "27. Multiply all elements in a set by 2."
   ]
  },
  {
   "cell_type": "code",
   "execution_count": 67,
   "id": "59e9f88e-9861-4320-8037-d80e3f1be484",
   "metadata": {
    "scrolled": true,
    "tags": []
   },
   "outputs": [
    {
     "name": "stdout",
     "output_type": "stream",
     "text": [
      "{2, 70, 134, 8, 6, 14, 16, 112, 18, 178}\n"
     ]
    }
   ],
   "source": [
    "my_set = {1,3,4,56,67,89,35,7,8,9}\n",
    "l1= []\n",
    "for i in my_set:\n",
    "    i = i*2\n",
    "    l1.append(i)\n",
    "l1 = set(l1)\n",
    "print(l1)"
   ]
  },
  {
   "cell_type": "raw",
   "id": "d3941fe3-2a3f-4726-8adf-ce6afe9f8942",
   "metadata": {},
   "source": [
    "28. Create a set of random numbers."
   ]
  },
  {
   "cell_type": "code",
   "execution_count": 3,
   "id": "4bc226d3-3f88-4489-9354-ab9b020be9d1",
   "metadata": {},
   "outputs": [
    {
     "ename": "TypeError",
     "evalue": "'int' object is not iterable",
     "output_type": "error",
     "traceback": [
      "\u001b[0;31m---------------------------------------------------------------------------\u001b[0m",
      "\u001b[0;31mTypeError\u001b[0m                                 Traceback (most recent call last)",
      "Cell \u001b[0;32mIn[3], line 3\u001b[0m\n\u001b[1;32m      1\u001b[0m \u001b[38;5;28;01mimport\u001b[39;00m \u001b[38;5;21;01mrandom\u001b[39;00m \n\u001b[1;32m      2\u001b[0m n \u001b[38;5;241m=\u001b[39m random\u001b[38;5;241m.\u001b[39mrandint(\u001b[38;5;241m0\u001b[39m,\u001b[38;5;241m22\u001b[39m)\n\u001b[0;32m----> 3\u001b[0m n \u001b[38;5;241m=\u001b[39m \u001b[38;5;28;43mset\u001b[39;49m\u001b[43m(\u001b[49m\u001b[43mn\u001b[49m\u001b[43m)\u001b[49m\n\u001b[1;32m      4\u001b[0m \u001b[38;5;28mprint\u001b[39m(n)\n",
      "\u001b[0;31mTypeError\u001b[0m: 'int' object is not iterable"
     ]
    }
   ],
   "source": [
    "import random \n",
    "n = random.randint(0,22)\n",
    "n = set(n)\n"
   ]
  },
  {
   "cell_type": "raw",
   "id": "c653a0bc-7e50-43eb-bb01-f266ee7b13da",
   "metadata": {},
   "source": [
    "29. Check if a set is empty."
   ]
  },
  {
   "cell_type": "code",
   "execution_count": 8,
   "id": "6dab2e5d-481a-4650-ae9a-f95af65703df",
   "metadata": {},
   "outputs": [
    {
     "name": "stdout",
     "output_type": "stream",
     "text": [
      "The set is an empty set\n"
     ]
    }
   ],
   "source": [
    "s_1 = {}\n",
    "\n",
    "if s_1 == {}:\n",
    "    print(\"The set is an empty set\")\n",
    "else:\n",
    "    print(\"The set is not an empty set\")"
   ]
  },
  {
   "cell_type": "raw",
   "id": "a4470c76-8b07-4c52-b1af-71d006de6455",
   "metadata": {},
   "source": [
    "30. Create a nested set (hint: use frozenset)."
   ]
  },
  {
   "cell_type": "code",
   "execution_count": null,
   "id": "382f4867-0460-4c2c-96e2-3a4d6cabeb39",
   "metadata": {},
   "outputs": [],
   "source": []
  },
  {
   "cell_type": "raw",
   "id": "f3ddc94f-2784-46e1-8d55-40e5e0d9bd15",
   "metadata": {},
   "source": [
    "31. Remove an element from a set using the discard method.26. Filter out all even numbers from a set."
   ]
  },
  {
   "cell_type": "code",
   "execution_count": null,
   "id": "4a50d76c-c76b-48b5-98e1-593135062a8e",
   "metadata": {},
   "outputs": [],
   "source": []
  },
  {
   "cell_type": "raw",
   "id": "78fc7f15-40a2-4bfa-a9f4-c5c5054c9dcd",
   "metadata": {},
   "source": [
    "32. Compare two sets."
   ]
  },
  {
   "cell_type": "code",
   "execution_count": 9,
   "id": "f4de69de-23c0-4203-8819-8e4fe3627ee5",
   "metadata": {},
   "outputs": [
    {
     "name": "stdout",
     "output_type": "stream",
     "text": [
      "These are not equal sets\n"
     ]
    }
   ],
   "source": [
    "s_1 = {1,2,3,45,5}\n",
    "s_2 = {12,34,545}\n",
    "\n",
    "if s_1 == s_2:\n",
    "    print(\"These are equal sets\")\n",
    "else:\n",
    "    print(\"These are not equal sets\")"
   ]
  },
  {
   "cell_type": "raw",
   "id": "d15e4b1e-1cc1-449c-9203-cd4efe971cbd",
   "metadata": {},
   "source": [
    "33. Create a set from a string"
   ]
  },
  {
   "cell_type": "code",
   "execution_count": 16,
   "id": "e29ec924-8a5c-408f-9db6-f7769ff83fb5",
   "metadata": {},
   "outputs": [
    {
     "name": "stdin",
     "output_type": "stream",
     "text": [
      "Enter a string here:- Ketan Sharma\n"
     ]
    },
    {
     "name": "stdout",
     "output_type": "stream",
     "text": [
      "{'Ketan', 'Sharma'}\n"
     ]
    }
   ],
   "source": [
    "string = str(input(\"Enter a string here:-\"))\n",
    "res = string.split()\n",
    "res =set(res)\n",
    "print(res)"
   ]
  },
  {
   "cell_type": "raw",
   "id": "2641af30-de87-45bb-81a6-2fff7f380621",
   "metadata": {},
   "source": [
    "34. Convert a set of strings to a set of integers."
   ]
  },
  {
   "cell_type": "code",
   "execution_count": null,
   "id": "d8a7d6b9-e40c-4951-bf10-e85481667b1e",
   "metadata": {},
   "outputs": [],
   "source": []
  },
  {
   "cell_type": "raw",
   "id": "f9b9b2c4-1790-4109-844b-d02f980b1236",
   "metadata": {},
   "source": [
    "35. Convert a set of integers to a set of strings."
   ]
  },
  {
   "cell_type": "code",
   "execution_count": null,
   "id": "473e875c-00d6-497c-9719-08b4f4b4f02e",
   "metadata": {},
   "outputs": [],
   "source": []
  },
  {
   "cell_type": "raw",
   "id": "00b23593-6864-4056-8bb9-3c09cbe6b214",
   "metadata": {},
   "source": [
    "36. Create a set from a tuple."
   ]
  },
  {
   "cell_type": "code",
   "execution_count": 31,
   "id": "c0419507-6266-4c9e-ad17-1e1b901e335c",
   "metadata": {},
   "outputs": [
    {
     "name": "stdout",
     "output_type": "stream",
     "text": [
      "{1, 2, 3, 4, 666666666666, 54}\n"
     ]
    }
   ],
   "source": [
    "t_1 = (1,2,3,4,54,666666666666)\n",
    "t_1 = set(t_1)\n",
    "print(t_1)"
   ]
  },
  {
   "cell_type": "raw",
   "id": "7878ea1d-d85a-4b54-9485-3797377495e7",
   "metadata": {},
   "source": [
    "37. Convert a set to a tuple."
   ]
  },
  {
   "cell_type": "code",
   "execution_count": 32,
   "id": "2ef9def6-4845-4a3b-8ba8-54960dd80e73",
   "metadata": {},
   "outputs": [
    {
     "name": "stdout",
     "output_type": "stream",
     "text": [
      "(1, 2, 4, 5, 6, 7)\n"
     ]
    }
   ],
   "source": [
    "s_1 = {1,2,4,4,5,6,7}\n",
    "\n",
    "s_1 = tuple(s_1)\n",
    "print(s_1)"
   ]
  },
  {
   "cell_type": "raw",
   "id": "7e8cf80d-b0b3-4eeb-801c-0e42923c4e83",
   "metadata": {},
   "source": [
    "38. Find the maximum value in a set."
   ]
  },
  {
   "cell_type": "code",
   "execution_count": 19,
   "id": "5aa27ee0-7c82-43d0-9799-26f4de981a8d",
   "metadata": {},
   "outputs": [
    {
     "name": "stdout",
     "output_type": "stream",
     "text": [
      "The maximum value in a set is:- 648\n"
     ]
    }
   ],
   "source": [
    "s_1 = {14,24,435,648,45,46,73,84,9}\n",
    "s_1 = list(s_1)\n",
    "s_1.sort()\n",
    "maxi = s_1[-1]\n",
    "s_1 = set(s_1)\n",
    "print(\"The maximum value in a set is:-\",maxi)"
   ]
  },
  {
   "cell_type": "raw",
   "id": "1cc6ce6a-94df-4435-85e3-15a2973eb5c2",
   "metadata": {},
   "source": [
    "39. Find the minimum value in a set."
   ]
  },
  {
   "cell_type": "code",
   "execution_count": 20,
   "id": "9b93dd98-b7d7-4495-b339-bf85f8f2cf49",
   "metadata": {},
   "outputs": [
    {
     "name": "stdout",
     "output_type": "stream",
     "text": [
      "The maximum value in a set is:- 9\n"
     ]
    }
   ],
   "source": [
    "s_1 = {14,24,435,648,45,46,73,84,9}\n",
    "s_1 = list(s_1)\n",
    "s_1.sort(reverse = True)\n",
    "mini = s_1[-1]\n",
    "s_1 = set(s_1)\n",
    "print(\"The maximum value in a set is:-\",mini)"
   ]
  },
  {
   "cell_type": "raw",
   "id": "a429b226-1319-4a73-98c9-0db2ed126be8",
   "metadata": {},
   "source": [
    "40. Create a set from user input."
   ]
  },
  {
   "cell_type": "code",
   "execution_count": 27,
   "id": "0ce7182c-5e8e-4287-8847-b1fddfcc7f17",
   "metadata": {},
   "outputs": [
    {
     "name": "stdin",
     "output_type": "stream",
     "text": [
      "Enter a set here:- 1 2 4 5  56 98 \n"
     ]
    },
    {
     "name": "stdout",
     "output_type": "stream",
     "text": [
      "{1, 2, 98, 4, 5, 56}\n"
     ]
    }
   ],
   "source": [
    "s_t = input(\"Enter a set here:-\")\n",
    "s_t = set(int(i) for i in s_t.split())\n",
    "print(s_t)"
   ]
  },
  {
   "cell_type": "raw",
   "id": "ef0a56ea-7e62-4fac-917e-43b001f7cc82",
   "metadata": {},
   "source": [
    "41. Check if the intersection of two sets is empty."
   ]
  },
  {
   "cell_type": "code",
   "execution_count": 30,
   "id": "e6947588-d7b2-48c7-902e-795870e33f6b",
   "metadata": {},
   "outputs": [
    {
     "name": "stdout",
     "output_type": "stream",
     "text": [
      "The interection of two sets is empty\n"
     ]
    }
   ],
   "source": [
    "s_1 = {1}\n",
    "s_2 = {}\n",
    "intersection = s_1.intersection(s_2)\n",
    "if intersection == set():\n",
    "    print(\"The interection of two sets is empty\")\n",
    "else:\n",
    "    print(\"The interection of two sets is not empty\")"
   ]
  },
  {
   "cell_type": "raw",
   "id": "cd9c22f6-1cff-4c3f-b39c-50e169b1129d",
   "metadata": {},
   "source": [
    "42. Create a set of the first 5 Fibonacci numbers."
   ]
  },
  {
   "cell_type": "code",
   "execution_count": null,
   "id": "b8378fba-87c3-4cad-a72e-d577fb28c982",
   "metadata": {},
   "outputs": [],
   "source": []
  },
  {
   "cell_type": "raw",
   "id": "d49a614b-b1b7-4521-b351-0d53afefb8ab",
   "metadata": {},
   "source": [
    "43. Remove duplicates from a list using sets."
   ]
  },
  {
   "cell_type": "code",
   "execution_count": 68,
   "id": "4e57950a-9148-4e76-ae30-44e1f3947af0",
   "metadata": {},
   "outputs": [
    {
     "name": "stdout",
     "output_type": "stream",
     "text": [
      "hence all the duplicates are removed from the list and it is converted into set {2, 3, 4, 5, 7, 9, 10, 11}\n"
     ]
    }
   ],
   "source": [
    "l1 = [11,2,3,11,4,4,5,5,7,7,7,9,10]\n",
    "l1 = set(l1)\n",
    "print(\"hence all the duplicates are removed from the list and it is converted into set\",l1)"
   ]
  },
  {
   "cell_type": "raw",
   "id": "54991433-2de1-454b-88ab-8404a1be0d73",
   "metadata": {},
   "source": [
    "44. Check if two sets have the same elements, regardless of their count."
   ]
  },
  {
   "cell_type": "code",
   "execution_count": null,
   "id": "d1d2934f-a2a2-4bae-a172-4e67bf320bac",
   "metadata": {},
   "outputs": [],
   "source": [
    "s1 = {1,2,3,4,5,7,8,9}\n",
    "s2 = {1,2,3,4,5,6,7}\n",
    "\n",
    "for i in s1:\n",
    "    if :\n",
    "        print()"
   ]
  },
  {
   "cell_type": "raw",
   "id": "c732a615-c340-4981-a52d-4379c65cbf51",
   "metadata": {},
   "source": [
    "45. Create a set of the first `n` powers of 2."
   ]
  },
  {
   "cell_type": "code",
   "execution_count": null,
   "id": "fa1dc83d-43b0-441c-84d7-57d156015ed1",
   "metadata": {},
   "outputs": [],
   "source": [
    "n = int(input(\"Enter the range for the first 'n' powers of 2:-\"))\n",
    "l1 = []\n",
    "for i  in range(0,n+1):\n",
    "    \n",
    "    "
   ]
  },
  {
   "cell_type": "raw",
   "id": "f84fb230-80c4-4101-97a7-985b9705322d",
   "metadata": {},
   "source": [
    "46. Find the common elements between a set and a list."
   ]
  },
  {
   "cell_type": "code",
   "execution_count": 3,
   "id": "43f3f1f6-110e-4fee-978c-feabc8833359",
   "metadata": {},
   "outputs": [
    {
     "name": "stdout",
     "output_type": "stream",
     "text": [
      "The common elements between a set and a list is:- {1, 2, 3, 4, 5, 89}\n"
     ]
    }
   ],
   "source": [
    "s1 ={1,2,3,4,5,6,7,89,9}\n",
    "l1 = [1,2,3,4,5,89,345,67,78]\n",
    "l2 = []\n",
    "for i in l1:\n",
    "    if i in s1:\n",
    "        l2.append(i)\n",
    "l2 = set(l2)\n",
    "print(\"The common elements between a set and a list is:-\",l2)"
   ]
  },
  {
   "cell_type": "raw",
   "id": "c7d29137-6ca2-4c3b-a6cc-6d4fe5a9daba",
   "metadata": {},
   "source": [
    "47. Create a set of the first `n` triangular numbers."
   ]
  },
  {
   "cell_type": "code",
   "execution_count": 27,
   "id": "20989f32-4638-4047-ae4c-9af66e8db53b",
   "metadata": {},
   "outputs": [
    {
     "name": "stdin",
     "output_type": "stream",
     "text": [
      "Enter the range for the first 'n' triangular number:-  10\n"
     ]
    },
    {
     "name": "stdout",
     "output_type": "stream",
     "text": [
      "The set is here:-  {0, 1, 3, 36, 6, 10, 45, 15, 21, 55, 28}\n"
     ]
    }
   ],
   "source": [
    "n = int(input(\"Enter the range for the first 'n' triangular number:- \"))\n",
    "sum_1 = 0\n",
    "l = []\n",
    "for i in range(0,n+1):\n",
    "    sum_1 = sum_1+i\n",
    "    l.append(sum_1)\n",
    "\n",
    "l = set(l)\n",
    "print(\"The set is here:- \",l)"
   ]
  },
  {
   "cell_type": "code",
   "execution_count": 28,
   "id": "f518e3a5-73cf-43c8-9b10-9d7b39dbd774",
   "metadata": {},
   "outputs": [
    {
     "name": "stdin",
     "output_type": "stream",
     "text": [
      "Enter the range of the triangular number:-  10\n"
     ]
    },
    {
     "name": "stdout",
     "output_type": "stream",
     "text": [
      "The list of the first 10 triangular number is:- [0, 1, 3, 6, 10, 15, 21, 28, 36, 45, 55]\n"
     ]
    }
   ],
   "source": [
    "n = int(input(\"Enter the range of the triangular number:- \"))\n",
    "sum_1 = 0 \n",
    "l =[]\n",
    "for i in range(0,n+1):\n",
    "    sum_1 = sum_1+i\n",
    "    l.append(sum_1)\n",
    "print(\"The list of the first\",n,\"triangular number is:-\",l)"
   ]
  },
  {
   "cell_type": "raw",
   "id": "bfd4fe56-045d-4f5e-a17f-c111ba5c6af8",
   "metadata": {},
   "source": [
    "48. Check if a set contains another set as a subset."
   ]
  },
  {
   "cell_type": "code",
   "execution_count": 69,
   "id": "2af68eb6-6e2d-4aba-9623-f652d0143260",
   "metadata": {},
   "outputs": [
    {
     "name": "stdout",
     "output_type": "stream",
     "text": [
      "yes s2 set is a subset of s1 set\n"
     ]
    }
   ],
   "source": [
    "s1 = {1,2,3,4,5,6,78,9}\n",
    "s2 = {1,2,3,4,5,6}\n",
    "subset = s2.issubset(s1)\n",
    "if subset == True:\n",
    "    print(\"yes s2 set is a subset of s1 set\")\n",
    "else:\n",
    "    print(\"No subset\")"
   ]
  },
  {
   "cell_type": "raw",
   "id": "c8ce222d-29d7-461e-9166-a3a1fdabeb77",
   "metadata": {},
   "source": [
    "49. Create a set of alternating 1s and 0s of length `n`."
   ]
  },
  {
   "cell_type": "code",
   "execution_count": 36,
   "id": "093fb886-39f9-4dd4-962f-a13d2dac3ca7",
   "metadata": {},
   "outputs": [
    {
     "name": "stdin",
     "output_type": "stream",
     "text": [
      "Enter the range :-  10\n"
     ]
    },
    {
     "name": "stdout",
     "output_type": "stream",
     "text": [
      "set of alternating 1s and 0s of length 10 is {0, 1}\n"
     ]
    }
   ],
   "source": [
    "l1 = []\n",
    "n = int(input(\"Enter the range :- \"))\n",
    "\n",
    "for  i in range(0,n+1):\n",
    "    alter = i%2\n",
    "    l1.append(alter)\n",
    "    \n",
    "l1 = set(l1)\n",
    "\n",
    "print(\"set of alternating 1s and 0s of length\",n,\"is\",l1)\n",
    "    "
   ]
  },
  {
   "cell_type": "raw",
   "id": "d3c2f29d-8097-4bcf-acb7-0f6a01350afb",
   "metadata": {},
   "source": [
    "50. Merge multiple sets into one."
   ]
  },
  {
   "cell_type": "code",
   "execution_count": 20,
   "id": "1353012f-e41b-4bc9-a87c-e56f92986c65",
   "metadata": {},
   "outputs": [
    {
     "name": "stdout",
     "output_type": "stream",
     "text": [
      "{1, 2, 3, 4, 5, 6, 9, 78}\n"
     ]
    }
   ],
   "source": [
    "s1 = {1,2,3,4,5,6,78,9}\n",
    "s2 = {1,2,3,4,5,6}\n",
    "s1 = list(s1)\n",
    "s2 = list(s2)\n",
    "s3 = s1+s2\n",
    "s3 = set(s3)\n",
    "print(s3)"
   ]
  }
 ],
 "metadata": {
  "kernelspec": {
   "display_name": "Python 3 (ipykernel)",
   "language": "python",
   "name": "python3"
  },
  "language_info": {
   "codemirror_mode": {
    "name": "ipython",
    "version": 3
   },
   "file_extension": ".py",
   "mimetype": "text/x-python",
   "name": "python",
   "nbconvert_exporter": "python",
   "pygments_lexer": "ipython3",
   "version": "3.10.8"
  }
 },
 "nbformat": 4,
 "nbformat_minor": 5
}
