{
 "cells": [
  {
   "cell_type": "raw",
   "id": "0d8545a3-e43e-45dc-8e9c-467d9f26099e",
   "metadata": {},
   "source": [
    "TOPIC: Python Basics Variable\n",
    "\n",
    "\n",
    "\n",
    "\n",
    "Q1:- Declare two variables, `x` and `y`, and assign them integer values. Swap the\n",
    "values of these variables without using any temporary variable."
   ]
  },
  {
   "cell_type": "code",
   "execution_count": 5,
   "id": "b42da1b8-1572-4d8b-83f5-6f99500f6c3c",
   "metadata": {},
   "outputs": [
    {
     "name": "stdout",
     "output_type": "stream",
     "text": [
      "20\n",
      "10\n"
     ]
    }
   ],
   "source": [
    "x = 10\n",
    "y=20\n",
    "x= x+y  #x=30 \n",
    "\n",
    "y=x-y #here Y will be 10\n",
    "\n",
    "x= x-y # here X will be 20 hence the values of the variables are swap.\n",
    "\n",
    "print(x)\n",
    "print(y)"
   ]
  },
  {
   "cell_type": "raw",
   "id": "d253e1e4-3efd-4b30-9b1b-87c6d75f4fde",
   "metadata": {},
   "source": [
    "Q2 :- Create a program that calculates the area of a rectangle. Take the length and\n",
    "width as inputs from the user and store them in variables. Calculate and\n",
    "display the area.\n"
   ]
  },
  {
   "cell_type": "code",
   "execution_count": 6,
   "id": "80937899-55d6-4288-a026-a5e9b34b3397",
   "metadata": {},
   "outputs": [
    {
     "name": "stdin",
     "output_type": "stream",
     "text": [
      "enter the length :  55\n",
      "enter the width :  11\n"
     ]
    },
    {
     "name": "stdout",
     "output_type": "stream",
     "text": [
      "Area of the rectangle is  605\n"
     ]
    }
   ],
   "source": [
    "l = int(input(\"enter the length : \"))\n",
    "w = int(input(\"enter the width : \"))\n",
    "\n",
    "area = l*w\n",
    "\n",
    "print(\"Area of the rectangle is \",area)"
   ]
  },
  {
   "cell_type": "raw",
   "id": "113d58f5-3052-4846-ae8d-6ab938dc4525",
   "metadata": {},
   "source": [
    "Q3:- Write a Python program that converts temperatures from Celsius to\n",
    "Fahrenheit. Take the temperature in Celsius as input, store it in a variable,\n",
    "convert it to Fahrenheit, and display the result."
   ]
  },
  {
   "cell_type": "code",
   "execution_count": 7,
   "id": "0d2a75c1-a1a3-4275-8520-daf8e7e37b25",
   "metadata": {},
   "outputs": [
    {
     "name": "stdin",
     "output_type": "stream",
     "text": [
      "enter the temperature in celsius:  32\n"
     ]
    },
    {
     "name": "stdout",
     "output_type": "stream",
     "text": [
      "89.6 Fahrenheits\n"
     ]
    }
   ],
   "source": [
    "c = int(input(\"enter the temperature in celsius: \"))\n",
    "f = 1.8*c+32\n",
    "\n",
    "print(f,\"Fahrenheits\")"
   ]
  },
  {
   "cell_type": "raw",
   "id": "04eab2b9-2c14-4fb8-9cfa-98bf839c139c",
   "metadata": {},
   "source": [
    "TOPIC: String Based Questions\n",
    "\n",
    "\n",
    "\n",
    "\n",
    "Q1:-  Write a Python program that takes a string as input and prints the length of\n",
    "the string."
   ]
  },
  {
   "cell_type": "code",
   "execution_count": 10,
   "id": "f80608fc-da5f-4771-aa52-744d46422e60",
   "metadata": {},
   "outputs": [
    {
     "name": "stdin",
     "output_type": "stream",
     "text": [
      "enter any string:  ketan\n"
     ]
    },
    {
     "name": "stdout",
     "output_type": "stream",
     "text": [
      "5\n"
     ]
    }
   ],
   "source": [
    "string = str(input(\"enter any string: \"))\n",
    "\n",
    "print(len(string))"
   ]
  },
  {
   "cell_type": "raw",
   "id": "588d0aa3-b3aa-4712-bc58-0ba46ecf0950",
   "metadata": {},
   "source": [
    "Q2:- Create a program that takes a sentence from the user and counts the number\n",
    "of vowels (a, e, i, o, u) in the string."
   ]
  },
  {
   "cell_type": "code",
   "execution_count": 28,
   "id": "68a6b9ce-8e7c-4efc-a2bd-ec5c140b147f",
   "metadata": {},
   "outputs": [
    {
     "name": "stdin",
     "output_type": "stream",
     "text": [
      "Write a sentence hello brother \n"
     ]
    },
    {
     "name": "stdout",
     "output_type": "stream",
     "text": [
      "a in the sentence are:  0\n",
      "e in the sentence are:  2\n",
      "i in the sentence are:  0\n",
      "o in the sentence are:  2\n",
      "u in the sentence are:  0\n"
     ]
    }
   ],
   "source": [
    "sentence = input(\"Write a sentence\")\n",
    "\n",
    "a = sentence.count(\"a\")\n",
    "e = sentence.count(\"e\")\n",
    "i = sentence.count(\"i\")\n",
    "o = sentence.count(\"o\")\n",
    "u = sentence.count(\"u\")\n",
    "\n",
    "print(\"a in the sentence are: \",a)\n",
    "print(\"e in the sentence are: \",e)\n",
    "print(\"i in the sentence are: \",i)\n",
    "print(\"o in the sentence are: \",o)\n",
    "print(\"u in the sentence are: \",u)"
   ]
  },
  {
   "cell_type": "raw",
   "id": "6d1074e4-84a0-49b3-8a3e-9972c507c1bf",
   "metadata": {},
   "source": [
    "Q3:- Given a string, reverse the order of characters using string slicing and print\n",
    "the reversed string."
   ]
  },
  {
   "cell_type": "code",
   "execution_count": 42,
   "id": "64f157e4-2867-4436-ba5b-70a37a0cb31a",
   "metadata": {},
   "outputs": [
    {
     "name": "stdin",
     "output_type": "stream",
     "text": [
      "enter a string:  hey\n"
     ]
    },
    {
     "name": "stdout",
     "output_type": "stream",
     "text": [
      "hey\n",
      "yeh\n"
     ]
    }
   ],
   "source": [
    "string = str(input(\"enter a string: \"))\n",
    "\n",
    "print(string[0:])\n",
    "print(string[::-1])\n",
    "\n"
   ]
  },
  {
   "cell_type": "raw",
   "id": "352b32cf-53e1-4157-8dda-e3944ab11613",
   "metadata": {},
   "source": [
    "Q4:- Write a program that takes a string as input and checks if it is a palindrome\n",
    "(reads the same forwards and backwards)."
   ]
  },
  {
   "cell_type": "code",
   "execution_count": 5,
   "id": "6b39ded8-ac45-47b9-8f01-636298431f1f",
   "metadata": {},
   "outputs": [
    {
     "name": "stdin",
     "output_type": "stream",
     "text": [
      "Enter a string  hi\n"
     ]
    },
    {
     "name": "stdout",
     "output_type": "stream",
     "text": [
      "not a palindrome string\n"
     ]
    }
   ],
   "source": [
    "string = str(input(\"Enter a string \"))\n",
    "if(string[0:]== string[::-1]):\n",
    "    print(\"yes it is a palindrome string\", string)\n",
    "else: \n",
    "    print(\"not a palindrome string\")"
   ]
  },
  {
   "cell_type": "raw",
   "id": "92f865dd-451f-4030-9284-aff1d3ba451f",
   "metadata": {},
   "source": [
    "Q5:- Create a program that takes a string as input and removes all the spaces from\n",
    "it. Print the modified string without spaces.\n"
   ]
  },
  {
   "cell_type": "code",
   "execution_count": 16,
   "id": "3b4c36a1-a89d-4687-a87d-246a07fa48ae",
   "metadata": {},
   "outputs": [
    {
     "name": "stdin",
     "output_type": "stream",
     "text": [
      "Enter a string wow wow\n"
     ]
    },
    {
     "name": "stdout",
     "output_type": "stream",
     "text": [
      "wowwow\n"
     ]
    }
   ],
   "source": [
    "string = str(input(\"Enter a string\"))\n",
    "\n",
    "remove= string.replace(\" \",\"\")\n",
    "\n",
    "print(remove)"
   ]
  },
  {
   "cell_type": "code",
   "execution_count": null,
   "id": "085f01ec-4c06-49fd-b25e-1860c921cd1c",
   "metadata": {},
   "outputs": [],
   "source": []
  }
 ],
 "metadata": {
  "kernelspec": {
   "display_name": "Python 3 (ipykernel)",
   "language": "python",
   "name": "python3"
  },
  "language_info": {
   "codemirror_mode": {
    "name": "ipython",
    "version": 3
   },
   "file_extension": ".py",
   "mimetype": "text/x-python",
   "name": "python",
   "nbconvert_exporter": "python",
   "pygments_lexer": "ipython3",
   "version": "3.10.8"
  }
 },
 "nbformat": 4,
 "nbformat_minor": 5
}
