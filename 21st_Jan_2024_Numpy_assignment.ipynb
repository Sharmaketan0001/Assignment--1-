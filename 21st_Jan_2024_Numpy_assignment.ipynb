{
 "cells": [
  {
   "cell_type": "markdown",
   "id": "f110b49c-1fea-4e85-8791-2623321f207d",
   "metadata": {},
   "source": [
    "Numpy\n",
    "Assignment Questions\n",
    "\n",
    "\n",
    "\n",
    "\n",
    "\n",
    "\n",
    "\n",
    "\n",
    "\n",
    "\n",
    "\n",
    "Q1:- What is a Python library? Why ^o we use Python libraries?"
   ]
  },
  {
   "cell_type": "raw",
   "id": "2c9e5633-fda3-4b40-9337-ccc4fb230259",
   "metadata": {},
   "source": [
    "Ans:-A Python library is a collection of related modules. It contains bundles of code that can be used repeatedly in different programs. It makes Python Programming simpler and convenient for the programmer.\n",
    "\n",
    "Python libraries play a very vital role in fields of Machine Learning, Data Science, Data Visualization, etc.\n"
   ]
  },
  {
   "cell_type": "raw",
   "id": "2d5812db-6cc1-449d-9547-8686ec9db71f",
   "metadata": {},
   "source": [
    "Q2:- What is the ^ifference between Numpy array and List?"
   ]
  },
  {
   "cell_type": "raw",
   "id": "14ccb49b-be2b-449b-b1b6-8f3d2b7e9edd",
   "metadata": {},
   "source": [
    "Ans:-  ==>Numpy arrays is a typed array, the array in memory stores a homogenous, densely packed numbers.\n",
    "\n",
    "\n",
    "==> Python list is a heterogeneous list, the list in memory stores references to objects rather than the number themselves."
   ]
  },
  {
   "cell_type": "raw",
   "id": "d5e4d54c-8f29-4d75-a723-a47467d63f52",
   "metadata": {},
   "source": [
    "Q3:- Find the shape, size and dimension of the following array?\n",
    "\n",
    "[[1, 2, 3, 4]\n",
    "\n",
    "[5, 6, 7, 8],\n",
    "\n",
    "[9, 10, 11, 12]]"
   ]
  },
  {
   "cell_type": "code",
   "execution_count": 11,
   "id": "8c9e8ccc-0c1d-4323-b09e-20e20f9455c9",
   "metadata": {},
   "outputs": [
    {
     "name": "stdout",
     "output_type": "stream",
     "text": [
      "2\n"
     ]
    }
   ],
   "source": [
    "import numpy as np\n",
    "m1=[[1, 2, 3, 4],[5, 6, 7, 8],[9, 10, 11, 12]]\n",
    "arr = np.array(m1)\n",
    "print(arr.ndim)"
   ]
  },
  {
   "cell_type": "raw",
   "id": "aeead867-f514-4676-b683-1e3c78911b1e",
   "metadata": {},
   "source": [
    "Q4:- Write python code to access the first row of the following array?\n",
    "[[1, 2, 3, 4],\n",
    "[5, 6, 7, 8],\n",
    "[9, 10, 11, 12]]"
   ]
  },
  {
   "cell_type": "code",
   "execution_count": 13,
   "id": "0ae7a95d-2aeb-46fa-a358-8769ef0d5bc7",
   "metadata": {},
   "outputs": [
    {
     "name": "stdout",
     "output_type": "stream",
     "text": [
      "[1, 2, 3, 4]\n"
     ]
    }
   ],
   "source": [
    "import numpy as np\n",
    "arr = [[1, 2, 3, 4],\n",
    "[5, 6, 7, 8],\n",
    "[9, 10, 11, 12]]\n",
    "\n",
    "first_row = arr[0]\n",
    "print(first_row)"
   ]
  },
  {
   "cell_type": "raw",
   "id": "ca8cd9a6-ec0e-4ed6-b609-4c8105dd5cab",
   "metadata": {},
   "source": [
    "Q5:- How do you access the element at the third row and fourth column from the given numpy array?\n",
    "[[1, 2, 3, 4],\n",
    "[5, 6, 7, 8],\n",
    "[9, 10, 11, 12]]"
   ]
  },
  {
   "cell_type": "code",
   "execution_count": 21,
   "id": "a4a73ce6-644c-4136-8c57-c016ae3866e0",
   "metadata": {},
   "outputs": [
    {
     "name": "stdout",
     "output_type": "stream",
     "text": [
      "12\n"
     ]
    }
   ],
   "source": [
    "import numpy as np\n",
    "arr = np.array([[1, 2, 3, 4],\n",
    "[5, 6, 7, 8],\n",
    "[9, 10, 11, 12]])\n",
    "\n",
    "print(arr[2,3]) #third row and fouth column"
   ]
  },
  {
   "cell_type": "raw",
   "id": "bc161017-1d92-4680-805e-e519f0351603",
   "metadata": {},
   "source": [
    "Q6:- Write code to extract all odd-indexed elements from the given numpy array?\n",
    "[[1, 2, 3, 4],\n",
    "[5, 6, 7, 8],\n",
    "[9, 10, 11, 12]]"
   ]
  },
  {
   "cell_type": "code",
   "execution_count": 2,
   "id": "8a16efc3-7b75-4158-93cb-d381ead80a6c",
   "metadata": {},
   "outputs": [
    {
     "name": "stdout",
     "output_type": "stream",
     "text": [
      "[[ 2  4]\n",
      " [ 6  8]\n",
      " [10 12]]\n"
     ]
    }
   ],
   "source": [
    "import numpy as np \n",
    "arr = np.array([[1, 2, 3, 4],\n",
    "[5, 6, 7, 8],\n",
    "[9, 10, 11, 12]])\n",
    "\n",
    "odd_element = arr[:,1::2]\n",
    "print(odd_element)"
   ]
  },
  {
   "cell_type": "raw",
   "id": "cc92f8fe-5fe3-4de9-8712-13154d97401a",
   "metadata": {},
   "source": [
    "Q7:- How can you generate a random 3x3 matrix with values between 0 and 1?\n"
   ]
  },
  {
   "cell_type": "code",
   "execution_count": 3,
   "id": "76d75a20-4350-413f-9273-11c50043b909",
   "metadata": {},
   "outputs": [
    {
     "name": "stdout",
     "output_type": "stream",
     "text": [
      "[[0.42940393 0.50390576 0.9071131 ]\n",
      " [0.85670144 0.93987945 0.11849994]\n",
      " [0.33088073 0.02056893 0.11492711]]\n"
     ]
    }
   ],
   "source": [
    "import numpy as np\n",
    "import random\n",
    "\n",
    "matrix = np.random.rand(3,3)\n",
    "print(matrix\n",
    "     )"
   ]
  },
  {
   "cell_type": "raw",
   "id": "c6264a9b-8c3c-41fa-8c29-6025b8981031",
   "metadata": {},
   "source": [
    "Q8:- Describe the difference between np.random.rand and np.random.randn?"
   ]
  },
  {
   "cell_type": "raw",
   "id": "93c7d797-079f-48fa-b18e-7c9c889b721e",
   "metadata": {},
   "source": [
    "Ans:- ==> np.random.rand and np.random.randn lies in the distribution of the generated numbers: uniform distribution for rand and standard normal distribution for randn."
   ]
  },
  {
   "cell_type": "raw",
   "id": "90952701-9ecc-4923-9e4a-d1773fd09fba",
   "metadata": {},
   "source": [
    "Q9:- Write code to increase the dimension of the following array?\n",
    "[[1, 2, 3, 4],\n",
    "[5, 6, 7, 8],\n",
    "[9, 10, 11, 12]]"
   ]
  },
  {
   "cell_type": "code",
   "execution_count": 8,
   "id": "b23de603-78d3-4c0f-84b9-ef04f84a3534",
   "metadata": {},
   "outputs": [
    {
     "name": "stdout",
     "output_type": "stream",
     "text": [
      "[[[ 1  2  3  4]\n",
      "  [ 5  6  7  8]\n",
      "  [ 9 10 11 12]]]\n"
     ]
    }
   ],
   "source": [
    "import numpy as np\n",
    "#original array\n",
    "arr = np.array([[1, 2, 3, 4],\n",
    "[5, 6, 7, 8],\n",
    "[9, 10, 11, 12]])\n",
    "\n",
    "#increase dimension along axis 0 \n",
    "new_array = np.expand_dims(arr, axis = 0)\n",
    "print(new_array)"
   ]
  },
  {
   "cell_type": "raw",
   "id": "5966f207-4ef9-41c4-aa68-03534667dd9a",
   "metadata": {},
   "source": [
    "Q10:- How to transpose the following array in NumPy?\n",
    "[[1, 2, 3, 4],\n",
    "[5, 6, 7, 8],\n",
    "[9, 10, 11, 12]]"
   ]
  },
  {
   "cell_type": "code",
   "execution_count": 10,
   "id": "425f1bf1-82dc-4014-9a6b-9e3ae25de262",
   "metadata": {},
   "outputs": [
    {
     "name": "stdout",
     "output_type": "stream",
     "text": [
      "[[ 1  5  9]\n",
      " [ 2  6 10]\n",
      " [ 3  7 11]\n",
      " [ 4  8 12]]\n"
     ]
    }
   ],
   "source": [
    "import numpy as np\n",
    "arr = np.array([[1, 2, 3, 4],\n",
    "[5, 6, 7, 8],\n",
    "[9, 10, 11, 12]])\n",
    "\n",
    "transpose_array = np.transpose(arr)\n",
    "print(transpose_array)"
   ]
  },
  {
   "cell_type": "raw",
   "id": "0fe19f7b-d2b4-425c-9dcb-7b45147ca39d",
   "metadata": {},
   "source": [
    "Q11:- Consider the following matrix:\n",
    "\n",
    "Matrix A2 [[1, 2, 3, 4], [5, 6, 7, 8],[9, 10, 11, 12]]\n",
    "\n",
    "Matrix B2 [[1, 2, 3, 4],[5, 6, 7, 8],[9, 10, 11, 12]]"
   ]
  },
  {
   "cell_type": "code",
   "execution_count": 12,
   "id": "b8918d52-50fc-46cb-a9de-eac24c6c03b2",
   "metadata": {},
   "outputs": [
    {
     "name": "stdout",
     "output_type": "stream",
     "text": [
      "[[  1   4   9  16]\n",
      " [ 25  36  49  64]\n",
      " [ 81 100 121 144]]\n"
     ]
    }
   ],
   "source": [
    "#==> 1.Index wise multiplication\n",
    "\n",
    "A2 = np.array([[1, 2, 3, 4], [5, 6, 7, 8],[9, 10, 11, 12]]\n",
    ")\n",
    "B2 = np.array([[1, 2, 3, 4],[5, 6, 7, 8],[9, 10, 11, 12]])\n",
    "\n",
    "result = np.multiply(A2,B2)\n",
    "print(result)"
   ]
  },
  {
   "cell_type": "code",
   "execution_count": 14,
   "id": "5bd8167b-2d4b-4eb3-b02e-2a3e71446f9f",
   "metadata": {},
   "outputs": [
    {
     "name": "stdout",
     "output_type": "stream",
     "text": [
      "Resul of the matrix Multiplication:- [[ 30  70 110]\n",
      " [ 70 174 278]\n",
      " [110 278 446]]\n"
     ]
    }
   ],
   "source": [
    "#==> 2.Matrix Multiplication\n",
    "A2 = np.array([[1, 2, 3, 4], [5, 6, 7, 8],[9, 10, 11, 12]]\n",
    ")\n",
    "B2 = np.array([[1, 2, 3, 4],[5, 6, 7, 8],[9, 10, 11, 12]])\n",
    "\n",
    "result = np.dot(A2, B2.T) # Or equivalently, result = A2 @ B2.T\n",
    "print(\"Resul of the matrix Multiplication:-\", result)"
   ]
  },
  {
   "cell_type": "code",
   "execution_count": 17,
   "id": "22514d36-5980-4b37-8a18-2ea05f1b7dd9",
   "metadata": {},
   "outputs": [
    {
     "name": "stdout",
     "output_type": "stream",
     "text": [
      "[[ 2  4  6  8]\n",
      " [10 12 14 16]\n",
      " [18 20 22 24]]\n"
     ]
    }
   ],
   "source": [
    "#==> Add both the matrics \n",
    "A2 = np.array([[1, 2, 3, 4], [5, 6, 7, 8],[9, 10, 11, 12]]\n",
    ")\n",
    "B2 = np.array([[1, 2, 3, 4],[5, 6, 7, 8],[9, 10, 11, 12]])\n",
    "result = A2+B2\n",
    "print(result)"
   ]
  },
  {
   "cell_type": "code",
   "execution_count": 18,
   "id": "191f1c10-3ca6-44f9-b179-79cc30f0452e",
   "metadata": {},
   "outputs": [
    {
     "name": "stdout",
     "output_type": "stream",
     "text": [
      "[[0 0 0 0]\n",
      " [0 0 0 0]\n",
      " [0 0 0 0]]\n"
     ]
    }
   ],
   "source": [
    "#==> Subtract matrix B from A\n",
    "A2 = np.array([[1, 2, 3, 4], [5, 6, 7, 8],[9, 10, 11, 12]]\n",
    ")\n",
    "B2 = np.array([[1, 2, 3, 4],[5, 6, 7, 8],[9, 10, 11, 12]])\n",
    "\n",
    "result = B2-A2\n",
    "print(result)"
   ]
  },
  {
   "cell_type": "code",
   "execution_count": 19,
   "id": "ff2fd993-597b-482b-98cf-781533190883",
   "metadata": {},
   "outputs": [
    {
     "name": "stdout",
     "output_type": "stream",
     "text": [
      "[[1. 1. 1. 1.]\n",
      " [1. 1. 1. 1.]\n",
      " [1. 1. 1. 1.]]\n"
     ]
    }
   ],
   "source": [
    "#==> Divide Matrix B by A.\n",
    "A2 = np.array([[1, 2, 3, 4], [5, 6, 7, 8],[9, 10, 11, 12]]\n",
    ")\n",
    "B2 = np.array([[1, 2, 3, 4],[5, 6, 7, 8],[9, 10, 11, 12]])\n",
    "\n",
    "result = B2/A2\n",
    "print(result)"
   ]
  },
  {
   "cell_type": "raw",
   "id": "db08c705-5efe-4f99-9801-f616fefa0287",
   "metadata": {},
   "source": [
    "Q12:- Which function in Numpy can be used to swap the byte order of an array?"
   ]
  },
  {
   "cell_type": "raw",
   "id": "d3ff70b8-a4b2-447c-9680-8907921e2dcd",
   "metadata": {},
   "source": [
    "Ans: ==> Byteswap() function in Numpy is used to swap the byte order of  an Array. "
   ]
  },
  {
   "cell_type": "code",
   "execution_count": null,
   "id": "9656a1a9-956e-4eab-b12e-effc514f276d",
   "metadata": {},
   "outputs": [],
   "source": []
  },
  {
   "cell_type": "raw",
   "id": "42ce4900-f104-4da0-8345-fd24bd482093",
   "metadata": {},
   "source": [
    "Q13:-  What is the significance of the np.linalg.inv function?"
   ]
  },
  {
   "cell_type": "raw",
   "id": "83296781-00b3-4af0-9b74-9a3ea4d7e682",
   "metadata": {},
   "source": [
    "The np.linalg.inv function in NumPy is used to compute the multiplicative inverse of a square matrix. Specifically, if you have a square matrix A, the result of np.linalg.inv(A) will be another matrix B such that the product of A and B results in the identity matrix."
   ]
  },
  {
   "cell_type": "raw",
   "id": "3412f606-04f8-4201-94da-e46958363ce4",
   "metadata": {},
   "source": [
    "14. What does the np.reshape function do, and how is it used?"
   ]
  },
  {
   "cell_type": "raw",
   "id": "bb64155e-6c32-4159-86ac-47ce7545c4c7",
   "metadata": {},
   "source": [
    "Ans:==> \n",
    "The np.reshape function in NumPy is used to change the shape of an array without changing its data. It allows you to rearrange the elements of an array into a new shape, as long as the total number of elements remains the same."
   ]
  },
  {
   "cell_type": "raw",
   "id": "61074e44-11a4-44ba-9bc3-09eda531904a",
   "metadata": {},
   "source": [
    "15. What is broadcasting in Numpy?"
   ]
  },
  {
   "cell_type": "code",
   "execution_count": null,
   "id": "f4b4e391-0e92-41c6-b071-91704e1c8817",
   "metadata": {},
   "outputs": [],
   "source": [
    "Ans:==> "
   ]
  }
 ],
 "metadata": {
  "kernelspec": {
   "display_name": "Python 3 (ipykernel)",
   "language": "python",
   "name": "python3"
  },
  "language_info": {
   "codemirror_mode": {
    "name": "ipython",
    "version": 3
   },
   "file_extension": ".py",
   "mimetype": "text/x-python",
   "name": "python",
   "nbconvert_exporter": "python",
   "pygments_lexer": "ipython3",
   "version": "3.10.8"
  }
 },
 "nbformat": 4,
 "nbformat_minor": 5
}
