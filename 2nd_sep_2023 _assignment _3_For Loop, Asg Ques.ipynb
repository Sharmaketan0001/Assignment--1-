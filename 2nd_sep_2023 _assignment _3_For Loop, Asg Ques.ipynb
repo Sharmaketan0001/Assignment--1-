{
 "cells": [
  {
   "cell_type": "raw",
   "id": "50afbf5c-0f7a-4fc6-88cd-5e0c05bd89bc",
   "metadata": {},
   "source": [
    "Assignment Questions\n",
    "Basic Level:\n",
    "\n",
    "Q1:- Write a Python program to print the numbers from 1 to 10 using a `for` loop."
   ]
  },
  {
   "cell_type": "code",
   "execution_count": 1,
   "id": "687abe47-d5b2-4c18-aa73-985024eef820",
   "metadata": {},
   "outputs": [
    {
     "name": "stdout",
     "output_type": "stream",
     "text": [
      "0\n",
      "1\n",
      "2\n",
      "3\n",
      "4\n",
      "5\n",
      "6\n",
      "7\n",
      "8\n",
      "9\n",
      "10\n"
     ]
    }
   ],
   "source": [
    "for i in range(0,11):\n",
    "    print(i)"
   ]
  },
  {
   "cell_type": "raw",
   "id": "bf4ae662-d471-4531-abaf-39c7dd0e31df",
   "metadata": {},
   "source": [
    "Q2:- Create a program that calculates the sum of all numbers in a list using a `for` loop."
   ]
  },
  {
   "cell_type": "code",
   "execution_count": 6,
   "id": "db3ffaba-b51d-4957-8178-2bc5985bffbd",
   "metadata": {},
   "outputs": [
    {
     "name": "stdout",
     "output_type": "stream",
     "text": [
      "55\n"
     ]
    }
   ],
   "source": [
    "l1 = [1,2,3,4,5,6,7,8,9,10]\n",
    "l2 = []\n",
    "for i in l1:\n",
    "    l1 = l2.append(i)\n",
    "    i = i+1\n",
    "print(sum(l2))\n",
    "    \n",
    "\n",
    "\n"
   ]
  },
  {
   "cell_type": "raw",
   "id": "149b428b-a971-4ef8-8165-dd0cbb34de3e",
   "metadata": {},
   "source": [
    "Q3:- Write a program to print the characters of a string in reverse order using a `for` loop."
   ]
  },
  {
   "cell_type": "code",
   "execution_count": 27,
   "id": "992f25f4-8e9d-4dc2-bd46-45cb06bbb31d",
   "metadata": {},
   "outputs": [
    {
     "name": "stdin",
     "output_type": "stream",
     "text": [
      "Enter a string  hey whats your name\n"
     ]
    },
    {
     "name": "stdout",
     "output_type": "stream",
     "text": [
      "eman ruoy stahw yeh\n"
     ]
    }
   ],
   "source": [
    "string = str(input(\"Enter a string \"))\n",
    "i=0\n",
    "for i in string:\n",
    "    rev= string[::-1]\n",
    "    \n",
    "print(rev)"
   ]
  },
  {
   "cell_type": "raw",
   "id": "b4f29363-02d9-4cb8-abc7-6d11fc2dd6d2",
   "metadata": {},
   "source": [
    "Q4:- Develop a program that finds the factorial of a given number using a `for` loop."
   ]
  },
  {
   "cell_type": "code",
   "execution_count": 51,
   "id": "c0026cde-0fae-4ba6-9756-7dae2511d785",
   "metadata": {},
   "outputs": [
    {
     "name": "stdin",
     "output_type": "stream",
     "text": [
      "Enter a number to find a factorial  1\n"
     ]
    },
    {
     "name": "stdout",
     "output_type": "stream",
     "text": [
      "1\n",
      "1\n"
     ]
    }
   ],
   "source": [
    "num = int(input(\"Enter a number to find a factorial \"))\n",
    "fact = 0 \n",
    "f"
   ]
  },
  {
   "cell_type": "raw",
   "id": "d2c3cf54-17da-40ea-bb36-85f9ea8c9c20",
   "metadata": {},
   "source": [
    " Q5:- Create a program to print the multiplication table of a given number using a `for` loop"
   ]
  },
  {
   "cell_type": "code",
   "execution_count": 27,
   "id": "84c66e76-91f5-4e07-ad8e-0041c1bdf3bb",
   "metadata": {},
   "outputs": [
    {
     "name": "stdin",
     "output_type": "stream",
     "text": [
      "Enter the number for which you want the table:-  5\n"
     ]
    },
    {
     "name": "stdout",
     "output_type": "stream",
     "text": [
      "0\n",
      "5\n",
      "10\n",
      "15\n",
      "20\n",
      "25\n",
      "30\n",
      "35\n",
      "40\n",
      "45\n",
      "50\n"
     ]
    }
   ],
   "source": [
    "num = int(input(\"Enter the number for which you want the table:- \"))\n",
    "i = 0\n",
    "for i in range(0, 11):\n",
    "    multiply = num*i\n",
    "    print(multiply)\n",
    "    "
   ]
  },
  {
   "cell_type": "raw",
   "id": "7b733d05-9b28-4277-b586-e7180935232e",
   "metadata": {},
   "source": [
    "Q6:- Write a program that counts the number of even and odd numbers in a list using a `for` loop."
   ]
  },
  {
   "cell_type": "code",
   "execution_count": 25,
   "id": "d339d25e-da40-43a4-b002-6bbaf759a1b6",
   "metadata": {},
   "outputs": [
    {
     "name": "stdout",
     "output_type": "stream",
     "text": [
      "The count of odd numbers in a list is  8\n",
      "The count of even nymbers in a list is  9\n"
     ]
    }
   ],
   "source": [
    "l1 = [1,2,3,4,5,6,7,8,9,10,11,12,13,14,15]\n",
    "even_count, odd_count = 0, 0 \n",
    "for i in range(0,17):\n",
    "    if i%2==0:\n",
    "        even_count += 1\n",
    "    else:\n",
    "        odd_count += 1\n",
    "        \n",
    "print(\"The count of odd numbers in a list is \", odd_count)\n",
    "print(\"The count of even nymbers in a list is \", even_count)        "
   ]
  },
  {
   "cell_type": "raw",
   "id": "327cab90-f961-4896-8859-9edc881e6426",
   "metadata": {},
   "source": [
    "Q7:- Develop a program that prints the squares of numbers from 1 to 5 using a `for` loop."
   ]
  },
  {
   "cell_type": "code",
   "execution_count": 43,
   "id": "524d7eec-a0c2-4602-aac9-f377af668f71",
   "metadata": {},
   "outputs": [
    {
     "name": "stdin",
     "output_type": "stream",
     "text": [
      "Enter a number from 1 to 5 to get square:-  5\n"
     ]
    },
    {
     "name": "stdout",
     "output_type": "stream",
     "text": [
      "0\n",
      "1\n",
      "4\n",
      "9\n",
      "16\n",
      "25\n"
     ]
    }
   ],
   "source": [
    "num = int(input(\"Enter a number from 1 to 5 to get square:- \"))\n",
    "i = 0 \n",
    "for i in range(0,num+1):\n",
    "    square = i*i\n",
    "    i +=1\n",
    "    print(square)"
   ]
  },
  {
   "cell_type": "raw",
   "id": "728b55a9-6007-4081-873a-3389ae33825f",
   "metadata": {},
   "source": [
    "Q8:- Create a program to find the length of a string without using the `len()` function."
   ]
  },
  {
   "cell_type": "code",
   "execution_count": 40,
   "id": "27d2c0f0-c6b6-4241-82e6-c7059757c509",
   "metadata": {},
   "outputs": [
    {
     "name": "stdin",
     "output_type": "stream",
     "text": [
      "Enter a string :-  Hey whatsupp\n"
     ]
    },
    {
     "name": "stdout",
     "output_type": "stream",
     "text": [
      "12\n"
     ]
    }
   ],
   "source": [
    "string = str(input(\"Enter a string :- \"))\n",
    "count = 0 \n",
    "for i in string:\n",
    "    count= count+1\n",
    "print(count)"
   ]
  },
  {
   "cell_type": "raw",
   "id": "e1249313-2b5a-474d-b978-342f2ef387a8",
   "metadata": {},
   "source": [
    "Q9:- Write a program that calculates the average of a list of numbers using a `for` loop."
   ]
  },
  {
   "cell_type": "code",
   "execution_count": 48,
   "id": "c3c771aa-93bf-4f69-8994-e307b64175a5",
   "metadata": {},
   "outputs": [
    {
     "name": "stdout",
     "output_type": "stream",
     "text": [
      "The average of the list is:-  6.5\n"
     ]
    }
   ],
   "source": [
    "l1 = [1,2,3,4,5,6,7,8,9,10,11,12]\n",
    "i = 0\n",
    "count =  0\n",
    "for i in l1:\n",
    "    count = count+1\n",
    "print(\"The average of the list is:- \",sum(l1)/count)"
   ]
  },
  {
   "cell_type": "raw",
   "id": "7223833f-41da-4edf-8bf2-088e47ca7184",
   "metadata": {},
   "source": [
    "Q10:-  Develop a program that prints the first `n` Fibonacci numbers using a `for` loop."
   ]
  },
  {
   "cell_type": "code",
   "execution_count": 4,
   "id": "2599fb20-5959-4cab-a3da-0a000ebddb93",
   "metadata": {},
   "outputs": [
    {
     "name": "stdin",
     "output_type": "stream",
     "text": [
      "Enter the number of terms:-  5\n"
     ]
    },
    {
     "name": "stdout",
     "output_type": "stream",
     "text": [
      "0\n",
      "1\n",
      "1\n",
      "2\n",
      "3\n",
      "5\n",
      "8\n",
      "13\n"
     ]
    }
   ],
   "source": [
    "n = int(input(\"Enter the number of terms:- \"))\n",
    "a = 0\n",
    "b = 1\n",
    "print(a)\n",
    "print(b)\n",
    "for i in range(n+1):\n",
    "    c = a+b\n",
    "    print(c)\n",
    "    a , b=b, c"
   ]
  },
  {
   "cell_type": "raw",
   "id": "b2c2caa5-9f0d-481e-8e7a-ee1cb54cdcff",
   "metadata": {},
   "source": [
    "Intermediate Level:\n",
    "    \n",
    "    \n",
    "    \n",
    "\n",
    "Q11:- Write a program to check if a given list contains any duplicates using a `for` loop."
   ]
  },
  {
   "cell_type": "code",
   "execution_count": 56,
   "id": "2ac3921f-1e49-4e26-94ff-02354a1cb35c",
   "metadata": {},
   "outputs": [
    {
     "name": "stdout",
     "output_type": "stream",
     "text": [
      "This list contains duplicate elements  [1, 7]\n",
      "And the unique list is  [1, 2, 3, 4, 5, 67, 7, 8, 9, 10]\n"
     ]
    }
   ],
   "source": [
    "l1 = [1,1,2,3,4,5,67,7,7,8,9,10]\n",
    "unique_list = []\n",
    "duplicate_list = []\n",
    "for i in l1:\n",
    "    if i not in unique_list:\n",
    "        unique_list.append(i)\n",
    "    elif i not in duplicate_list:\n",
    "        duplicate_list.append(i)\n",
    "\n",
    "print(\"This list contains duplicate elements \", duplicate_list)\n",
    "print(\"And the unique list is \",unique_list )"
   ]
  },
  {
   "cell_type": "raw",
   "id": "5bfeb2d4-9b01-473d-b1f6-de5ae940126d",
   "metadata": {},
   "source": [
    "Q12:- Create a program that prints the prime numbers in a given range using a `for` loop."
   ]
  },
  {
   "cell_type": "code",
   "execution_count": 69,
   "id": "8fd8ffcb-3a51-4f53-8494-838b9add2fa4",
   "metadata": {},
   "outputs": [
    {
     "name": "stdout",
     "output_type": "stream",
     "text": [
      "2\n",
      "3 5 7 9 11 13 15 17 19 21 23 25 27 29 31 33 35 37 39 41 43 45 47 49 51 53 55 57 59 61 63 65 67 69 71 73 75 77 79 81 83 85 87 89 91 93 95 97 99 "
     ]
    }
   ],
   "source": [
    "for i in range(2,100):\n",
    "    if i== 2:\n",
    "        print(2)\n",
    "    elif i%2 != 0 :\n",
    "        print(i,end = \" \")\n",
    "        "
   ]
  },
  {
   "cell_type": "raw",
   "id": "e93d3172-4eee-4a8e-9f49-575d7581e699",
   "metadata": {},
   "source": [
    "Q13:- Develop a program that counts the number of vowels in a string using a `for` loop."
   ]
  },
  {
   "cell_type": "code",
   "execution_count": 79,
   "id": "84cf2f4b-351d-4757-b5d6-996becd7eec2",
   "metadata": {},
   "outputs": [
    {
     "name": "stdin",
     "output_type": "stream",
     "text": [
      "Enter a string here:-  Good Morning Everybody my name is Ketan Sharma\n"
     ]
    },
    {
     "name": "stdout",
     "output_type": "stream",
     "text": [
      "The number of vowels present in a string are:-  14\n"
     ]
    }
   ],
   "source": [
    "string = str(input(\"Enter a string here:- \"))\n",
    "vowels = [\"a\",\"e\",\"i\",\"o\",\"u\",'A','E','I','O','U']\n",
    "count = 0\n",
    "for i in string:\n",
    "    if i in vowels:\n",
    "        count= count+1\n",
    "print(\"The number of vowels present in a string are:- \", count)"
   ]
  },
  {
   "cell_type": "raw",
   "id": "83af3cde-ef72-4887-98b4-28e864c4169a",
   "metadata": {},
   "source": [
    "Q14:- Write a program to find the maximum element in a 2D list using a nested `for` loop."
   ]
  },
  {
   "cell_type": "code",
   "execution_count": null,
   "id": "825fbd4e-e359-40b3-9ea2-2cac2a272274",
   "metadata": {},
   "outputs": [],
   "source": []
  },
  {
   "cell_type": "raw",
   "id": "708473b1-514f-4555-96cd-fc23a9442e94",
   "metadata": {},
   "source": [
    "Q15:- Create a program that removes all occurrences of a specific element from a list using a `for` loop."
   ]
  },
  {
   "cell_type": "code",
   "execution_count": 6,
   "id": "b62c200a-09b2-4590-9f45-7dc2fa35d1d1",
   "metadata": {},
   "outputs": [
    {
     "name": "stdout",
     "output_type": "stream",
     "text": [
      "[1, 3, 4, 5, 6, 7, 8, 9, 10, 11, 12, 13, 14, 15, 1, 16, 84, 15, 423, 2, 2, 3, 3, 3, 5, 5, 5]\n"
     ]
    }
   ],
   "source": [
    "l1 = [1,2,3,4,5,6,7,8,9,10,11,12,13,14,15,1,16,84,15,423,2,2,2,2,3,3,3,5,5,5,]\n",
    "remove= 2\n",
    "count= 0 \n",
    "for i in l1:\n",
    "    if i == 2 in l1:\n",
    "        l1.remove(remove)\n",
    "print(l1)\n",
    "    \n",
    "    "
   ]
  },
  {
   "cell_type": "raw",
   "id": "3dc92278-376f-4a67-9ff0-56d1e0b7e79c",
   "metadata": {},
   "source": [
    "Q16:-Develop a program that generates a multiplication table for numbers from 1 to 5 using a nested `for` loop."
   ]
  },
  {
   "cell_type": "code",
   "execution_count": 18,
   "id": "bb5003a2-a09d-45a6-b703-7b70ce868edd",
   "metadata": {},
   "outputs": [
    {
     "name": "stdout",
     "output_type": "stream",
     "text": [
      "1 2 3 4 5 6 7 8 9 10 \n",
      "2 4 6 8 10 12 14 16 18 20 \n",
      "3 6 9 12 15 18 21 24 27 30 \n",
      "4 8 12 16 20 24 28 32 36 40 \n",
      "5 10 15 20 25 30 35 40 45 50 \n"
     ]
    }
   ],
   "source": [
    "for i in range(1,6):\n",
    "    for j in range(1,11):\n",
    "        print(i*j, end = \" \" )\n",
    "    print()"
   ]
  },
  {
   "cell_type": "raw",
   "id": "e98712c8-a1ab-4c73-b8bb-0e4ae9ab168d",
   "metadata": {},
   "source": [
    "Q17:- Write a program that converts a list of Fahrenheit temperatures to Celsius using a `for` loop."
   ]
  },
  {
   "cell_type": "code",
   "execution_count": 24,
   "id": "6ca3fd7b-4503-432e-b4e8-6b1167fb4b40",
   "metadata": {},
   "outputs": [
    {
     "name": "stdout",
     "output_type": "stream",
     "text": [
      "The celcius temperature list is here:-  [-0.9000000000000004, 0.0, 0.8999999999999986, 1.8000000000000007, -5.4, -4.5]\n"
     ]
    }
   ],
   "source": [
    "fahrentemp_list= [30.2,32.0,33.8,35.6,21.2,23.0]\n",
    "celsius_list = []\n",
    "for i in fahrentemp_list:\n",
    "    i = (i-32)*0.5\n",
    "    celsius_list.append(i)\n",
    "print(\"The celcius temperature list is here:- \",celsius_list)\n",
    "    "
   ]
  },
  {
   "cell_type": "raw",
   "id": "9b852fdd-d987-411b-8c37-c75072c2e45d",
   "metadata": {},
   "source": [
    "Q18:- Create a program to print the common elements from two lists using a `for` loop."
   ]
  },
  {
   "cell_type": "code",
   "execution_count": 31,
   "id": "b165357f-d0c1-457c-a191-a4f5a16919ea",
   "metadata": {},
   "outputs": [
    {
     "name": "stdout",
     "output_type": "stream",
     "text": [
      "[1, 1, 1, 2, 2, 2, 3, 3, 3, 4, 4, 4, 5, 6, 7, 8, 9, 5, 1, 64, 4, 4654564, 6545644, 11, 56, 456, 4, 64]\n"
     ]
    }
   ],
   "source": [
    "l1 = [1,1,1,2,2,2,3,3,3,4,4,4,5,6,7,8,9,5,1,64,4,4654564,6545644,11,56,456,4,64]\n",
    "l2 = [1,1,1,2,2,2,3,3456456,45,5,56,8,5,56,1,565,61,656,664,652,22,48,1]\n",
    "common_list= []\n",
    "for i in l1:\n",
    "    if i in l2:\n",
    "        common_list.append(i)\n",
    "    elif i in l1:\n",
    "        common_list.append(i)\n",
    "    elif i in common_list:\n",
    "        common_list.append(i)\n",
    "print(common_list)\n",
    "        "
   ]
  },
  {
   "cell_type": "raw",
   "id": "804057f4-715c-4227-9e01-812e8d6b8f93",
   "metadata": {},
   "source": [
    "Q19:- Develop a program that prints the pattern of right-angled triangles using a `for` loop. Use ‘*’ to draw the\n",
    "pattern."
   ]
  },
  {
   "cell_type": "code",
   "execution_count": 37,
   "id": "ba219cc4-4803-4942-a135-c0f2e11747ba",
   "metadata": {},
   "outputs": [
    {
     "name": "stdout",
     "output_type": "stream",
     "text": [
      "* \n",
      "* * \n",
      "* * * \n",
      "* * * * \n",
      "* * * * * \n"
     ]
    }
   ],
   "source": [
    "for i in range(5):\n",
    "    for j in range(i+1):\n",
    "        print(\"*\",end =\" \")\n",
    "    print()\n",
    "        \n",
    "    \n",
    "    "
   ]
  },
  {
   "cell_type": "raw",
   "id": "3cdefd47-f619-4e3a-8059-8c1176c050de",
   "metadata": {},
   "source": [
    "Q20:- Write a program to find the greatest common divisor (GCD) of two numbers using a `for` loop."
   ]
  },
  {
   "cell_type": "code",
   "execution_count": 18,
   "id": "219d2063-d33f-4bb5-a16e-25483b9d9cf0",
   "metadata": {},
   "outputs": [
    {
     "name": "stdout",
     "output_type": "stream",
     "text": [
      "GCD of 36 and 59 is 1\n"
     ]
    }
   ],
   "source": [
    "num1 = 36\n",
    "num2 = 59\n",
    "gcd = 1\n",
    "for i in range(1,min(num1,num2)):\n",
    "    if num1%i ==0 and num2%i ==0:\n",
    "        gcd = i \n",
    "print(\"GCD of\",num1,\"and\",num2,\"is\",gcd)"
   ]
  },
  {
   "cell_type": "raw",
   "id": "70dfae1d-6f1a-4083-ae72-f2db483914cb",
   "metadata": {},
   "source": [
    "Advanced Level:\n",
    "\n",
    " \n",
    "\n",
    "Q21:- Create a program that calculates the sum of the digits of numbers in a list using a list comprehension."
   ]
  },
  {
   "cell_type": "code",
   "execution_count": 8,
   "id": "e0f1e499-af29-4d01-bef3-0b8553bff54c",
   "metadata": {},
   "outputs": [
    {
     "name": "stdout",
     "output_type": "stream",
     "text": [
      "55\n"
     ]
    }
   ],
   "source": [
    "l1 = [1,2,3,4,5,6,7,8,9,10]\n",
    "\n",
    "l1 = [i for i in l1 ]\n",
    "print(sum(l1))"
   ]
  },
  {
   "cell_type": "raw",
   "id": "6711dc79-e63b-412a-adee-4e0ee56cd984",
   "metadata": {},
   "source": [
    "Q22:- Write a program to find the prime factors of a given number using a `for` loop and list comprehension."
   ]
  },
  {
   "cell_type": "code",
   "execution_count": 16,
   "id": "25486549-6a90-406f-8e79-709ec3498940",
   "metadata": {},
   "outputs": [
    {
     "name": "stdin",
     "output_type": "stream",
     "text": [
      "Enter the range to find the prime numbers:-  10\n"
     ]
    },
    {
     "name": "stdout",
     "output_type": "stream",
     "text": [
      "[0, 2, 4, 6, 8, 10]\n"
     ]
    }
   ],
   "source": [
    "n = int(input(\"Enter the range to find the prime numbers:- \"))\n",
    "\n",
    "prime = [int(i) for i in range(0,n+1) if i==2 ]\n",
    "\n",
    "print(prime)"
   ]
  },
  {
   "cell_type": "raw",
   "id": "6130615c-520a-43f1-8ac7-374a3e4e0015",
   "metadata": {},
   "source": [
    "Q23:- Develop a program that extracts unique elements from a list and stores them in a new list using a list comprehension."
   ]
  },
  {
   "cell_type": "code",
   "execution_count": 4,
   "id": "8f8ff109-5bd4-466b-8b4f-19417c58918c",
   "metadata": {},
   "outputs": [
    {
     "name": "stdout",
     "output_type": "stream",
     "text": [
      "[]\n"
     ]
    }
   ],
   "source": [
    "l1 = [1,2,3,4,5,6,7,8,9,1,1,2,5,3,6]\n",
    "unique_list = [i for i in l1  if i not in l1]\n",
    "print(unique_list)"
   ]
  },
  {
   "cell_type": "raw",
   "id": "2a32988f-fe9b-49df-984e-972ad12c66ea",
   "metadata": {},
   "source": [
    "Q24:- Create a program that generates a list of all palindromic numbers up to a specified limit using a list comprehension."
   ]
  },
  {
   "cell_type": "code",
   "execution_count": null,
   "id": "7bd71f04-f25a-444b-a3ec-f2a947bdeb3f",
   "metadata": {},
   "outputs": [],
   "source": []
  },
  {
   "cell_type": "raw",
   "id": "99747a09-bc45-493d-a436-9f00a9983789",
   "metadata": {},
   "source": [
    "Q25:- Write a program to flatten a nested list using list comprehension."
   ]
  },
  {
   "cell_type": "code",
   "execution_count": 22,
   "id": "3172f94f-2a15-493d-a504-0898348024e9",
   "metadata": {},
   "outputs": [
    {
     "name": "stdout",
     "output_type": "stream",
     "text": [
      "[1, 2, 3, 4, 5, 6, 7]\n"
     ]
    }
   ],
   "source": [
    "l1 = [[1], [2, 3], [4, 5, 6, 7]]\n",
    "flat_list = [num for sublist in l1 for num in sublist]\n",
    "print(flat_list)\n"
   ]
  },
  {
   "cell_type": "raw",
   "id": "de71d581-a408-49f0-a02e-0b96d150d559",
   "metadata": {},
   "source": [
    "Q26:- Develop a program that computes the sum of even and odd numbers in a list separately using list\n",
    "comprehension."
   ]
  },
  {
   "cell_type": "code",
   "execution_count": 9,
   "id": "450bf83b-40e0-4020-934d-4755f127acb1",
   "metadata": {},
   "outputs": [
    {
     "name": "stdout",
     "output_type": "stream",
     "text": [
      "even_sum = 28 odd_sum = 35\n"
     ]
    }
   ],
   "source": [
    "l1 = [1,2,3,4,5,6,7,8,9,1,1,2,5,3,6]\n",
    "\n",
    "even_sum = sum([i for i in l1 if i%2 ==0])\n",
    "odd_sum = sum([i for i in l1 if i%2!=0])\n",
    "print(\"even_sum =\", even_sum,\"odd_sum =\",odd_sum)"
   ]
  },
  {
   "cell_type": "raw",
   "id": "e3461edf-e9e1-452a-930c-f17484abd422",
   "metadata": {},
   "source": [
    "Q27:- Create a program that generates a list of squares of odd numbers between 1 and 10 using list\n",
    "comprehension."
   ]
  },
  {
   "cell_type": "code",
   "execution_count": 21,
   "id": "702e075d-a3c7-4316-aaae-175e589e93f9",
   "metadata": {},
   "outputs": [
    {
     "name": "stdout",
     "output_type": "stream",
     "text": [
      "[1, 3, 5, 7, 9]\n"
     ]
    }
   ],
   "source": [
    "square_list = [i for i in range(1,11) if i%2!=0 ]\n",
    "print(square_list)"
   ]
  },
  {
   "cell_type": "raw",
   "id": "eba7b747-c9c6-428d-9fda-ee0f0ff2a11a",
   "metadata": {},
   "source": [
    "Q28:- Write a program that combines two lists into a dictionary using list comprehension."
   ]
  },
  {
   "cell_type": "code",
   "execution_count": 11,
   "id": "e140126c-98eb-466a-a303-85268db0f160",
   "metadata": {},
   "outputs": [
    {
     "name": "stdout",
     "output_type": "stream",
     "text": [
      "{'Ketan': 1, 'Pooja': 2, 'Diksha': 3, 'Riya': 4}\n"
     ]
    }
   ],
   "source": [
    "keys = [\"Ketan\" ,\"Pooja\",\"Diksha\",\"Riya\"]\n",
    "values = [1,2,3,4]\n",
    "\n",
    "dictionary = {keys[i]:values[i] for i in range(len(keys))}\n",
    "\n",
    "\n",
    "print(dictionary)"
   ]
  },
  {
   "cell_type": "raw",
   "id": "1044029e-4e62-472a-881b-881198f59825",
   "metadata": {},
   "source": [
    "Q29:- Develop a program that extracts the vowels from a string and stores them in a list using list comprehension."
   ]
  },
  {
   "cell_type": "code",
   "execution_count": 13,
   "id": "a59f63fb-50e8-43d3-8a56-26b8d14579c8",
   "metadata": {},
   "outputs": [
    {
     "name": "stdin",
     "output_type": "stream",
     "text": [
      "Enter the string:-  Hey Whatsupp\n"
     ]
    },
    {
     "name": "stdout",
     "output_type": "stream",
     "text": [
      "The extracted vowels from the string:- ['e', 'a', 'u']\n"
     ]
    }
   ],
   "source": [
    "string = str(input(\"Enter the string:- \"))\n",
    "vowels = [\"a\",\"i\",\"e\",\"o\",\"u\",\"A\",\"I\",\"E\",\"O\",\"U\"]\n",
    "l1 = []\n",
    "my_list = [str(i) for i in string if i in vowels ]\n",
    "print(\"The extracted vowels from the string:-\",my_list)"
   ]
  },
  {
   "cell_type": "raw",
   "id": "7e6a845e-48da-41be-a9b3-5718b3b12292",
   "metadata": {},
   "source": [
    "Q30:- Create a program that removes all non-numeric characters from a list of strings using list comprehension."
   ]
  },
  {
   "cell_type": "code",
   "execution_count": 30,
   "id": "6d0757b2-75f6-4c89-82ff-9f79083104cf",
   "metadata": {},
   "outputs": [
    {
     "name": "stdin",
     "output_type": "stream",
     "text": [
      "Enter the string:- ketan323\n"
     ]
    },
    {
     "name": "stdout",
     "output_type": "stream",
     "text": [
      "323\n"
     ]
    }
   ],
   "source": [
    "import re\n",
    "user_input = str(input(\"Enter the string:-\"))\n",
    "removed = re.sub(r'[^0-9]','',user_input)\n",
    "print(removed)\n"
   ]
  },
  {
   "cell_type": "raw",
   "id": "ce5fe470-ca8a-48b9-9af2-192727744a53",
   "metadata": {},
   "source": [
    "Challenge Level:\n",
    "\n",
    " \n",
    "\n",
    "Q31:- Write a program to generate a list of prime numbers using the Sieve of Eratosthenes algorithm and list comprehension."
   ]
  },
  {
   "cell_type": "code",
   "execution_count": null,
   "id": "abdef722-b7c0-4541-b935-12628ff52ba3",
   "metadata": {},
   "outputs": [],
   "source": []
  },
  {
   "cell_type": "raw",
   "id": "526df9aa-58d4-4bdc-9411-02251bc36864",
   "metadata": {},
   "source": [
    "Q32:- Create a program that generates a list of all Pythagorean triplets up to a specified limit using list comprehension."
   ]
  },
  {
   "cell_type": "code",
   "execution_count": 20,
   "id": "cc628c62-1abb-407f-af74-d3d01e57e974",
   "metadata": {},
   "outputs": [
    {
     "name": "stdin",
     "output_type": "stream",
     "text": [
      "Enter the value of n:  9\n"
     ]
    },
    {
     "name": "stdout",
     "output_type": "stream",
     "text": [
      "The Pythagoreas triplets are:- [(3, 4, 5)]\n"
     ]
    }
   ],
   "source": [
    "n = int(input('Enter the value of n: '))\n",
    "triplets = [(a, b, c) for a in range(1, n + 1) for b in range(a, n + 1) for c in range(b, n + 1) if a**2 + b**2 == c**2]\n",
    "print(\"The Pythagoreas triplets are:-\",triplets)\n"
   ]
  },
  {
   "cell_type": "raw",
   "id": "4c0e94be-b9ef-4457-871e-dd1481507293",
   "metadata": {},
   "source": [
    "Q33:- Develop a program that generates a list of all possible combinations of two lists using list comprehension."
   ]
  },
  {
   "cell_type": "code",
   "execution_count": 9,
   "id": "8a9ee1f7-e7e7-43c5-af54-62fae1dc97fd",
   "metadata": {},
   "outputs": [
    {
     "name": "stdout",
     "output_type": "stream",
     "text": [
      "[('Ketan', 1), ('Ketan', 2), ('Ketan', 3), ('Ketan', 4), ('Pooja', 1), ('Pooja', 2), ('Pooja', 3), ('Pooja', 4), ('Diksha', 1), ('Diksha', 2), ('Diksha', 3), ('Diksha', 4), ('Riya', 1), ('Riya', 2), ('Riya', 3), ('Riya', 4)]\n"
     ]
    }
   ],
   "source": [
    "keys = [\"Ketan\" ,\"Pooja\",\"Diksha\",\"Riya\"]\n",
    "values = [1,2,3,4]\n",
    "list_1 = [(x,y)for x in keys for y in values]\n",
    "print(list_1)"
   ]
  },
  {
   "cell_type": "raw",
   "id": "9cf6f403-ab67-4b53-b801-6f1abc794664",
   "metadata": {},
   "source": [
    "Q34:- Write a program that calculates the mean, median, and mode of a list of numbers using list\n",
    "comprehension."
   ]
  },
  {
   "cell_type": "code",
   "execution_count": 16,
   "id": "7085149f-4e42-4fa3-bace-0dd49e9dc0be",
   "metadata": {},
   "outputs": [
    {
     "name": "stdout",
     "output_type": "stream",
     "text": [
      "Mean of the numbers is :- 27.5\n",
      "Mean of the numbers is :- 5.5\n",
      "Mode of the number is :- 1\n"
     ]
    }
   ],
   "source": [
    "import statistics\n",
    "\n",
    "list_number = [1,2,3,4,5,6,7,8,9,10]\n",
    "mean = sum([i for i in list_number ])\n",
    "print(\"Mean of the numbers is :-\",mean/2)\n",
    "median = statistics.median(list_number)\n",
    "print(\"Mean of the numbers is :-\",median)\n",
    "\n",
    "mode = statistics.mode(list_number)\n",
    "print(\"Mode of the number is :-\",mode)"
   ]
  },
  {
   "cell_type": "raw",
   "id": "ebf8887e-97e4-4073-911e-68f28887904f",
   "metadata": {},
   "source": [
    "Q35:- Create a program that generates Pascal's triangle up to a specified number of rows using list\n",
    "comprehension."
   ]
  },
  {
   "cell_type": "code",
   "execution_count": null,
   "id": "f769bacd-73fd-4075-bb7a-2eee9a176cc4",
   "metadata": {},
   "outputs": [],
   "source": []
  },
  {
   "cell_type": "raw",
   "id": "d93b08a8-73e0-4371-997d-54533abc4a9e",
   "metadata": {},
   "source": [
    "Q36:- Develop a program that calculates the sum of the digits of a factorial of numbers from 1 to 5 using list comprehension."
   ]
  },
  {
   "cell_type": "code",
   "execution_count": 12,
   "id": "f180027c-8cd4-4d4a-95f1-0a624e4fef2e",
   "metadata": {},
   "outputs": [
    {
     "name": "stdout",
     "output_type": "stream",
     "text": [
      "[1, 1, 2, 6, 24]\n",
      "34\n"
     ]
    }
   ],
   "source": [
    "import math\n",
    "\n",
    "factorial = [math.factorial(n) for n in range(5)]\n",
    "sum_factorial = sum([math.factorial(n) for n in range(5)])\n",
    "\n",
    "print(factorial)\n",
    "print(sum_factorial)\n"
   ]
  },
  {
   "cell_type": "raw",
   "id": "886344af-b777-42e9-b49d-3829eaa5fca7",
   "metadata": {},
   "source": [
    "Q37:- Write a program that finds the longest word in a sentence using list comprehension."
   ]
  },
  {
   "cell_type": "code",
   "execution_count": null,
   "id": "f444e083-9eeb-4725-8fd6-f6d94a4aee93",
   "metadata": {},
   "outputs": [],
   "source": []
  },
  {
   "cell_type": "raw",
   "id": "fe9997b6-39de-4f92-afee-fae22406d36e",
   "metadata": {},
   "source": [
    "Q38:- Create a program that filters a list of strings to include only those with more than three vowels using list comprehension."
   ]
  },
  {
   "cell_type": "code",
   "execution_count": 7,
   "id": "15434e63-6f94-4984-a9d2-04dfa2987de8",
   "metadata": {},
   "outputs": [
    {
     "name": "stdout",
     "output_type": "stream",
     "text": [
      "['pineapple', 'mandarin orange']\n"
     ]
    }
   ],
   "source": [
    "import re\n",
    "user_list = [\"mango\", \"kiwi\", \"strawberry\", \"guava\", \"pineapple\", \"mandarin orange\"]\n",
    "vowels = [i for i in user_list if len(re.sub('[^aeiouAEIOU]','',i))>3]\n",
    "print(vowels)"
   ]
  },
  {
   "cell_type": "raw",
   "id": "c1fa2a6c-2ba8-45f2-9bf3-30c4a85606d7",
   "metadata": {},
   "source": [
    "Q39:- Develop a program that calculates the sum of the digits of numbers from 1 to 1000 using list\n",
    "comprehension."
   ]
  },
  {
   "cell_type": "code",
   "execution_count": 7,
   "id": "45f577e2-bcb1-48b5-b2bd-196dadea2829",
   "metadata": {},
   "outputs": [
    {
     "name": "stdin",
     "output_type": "stream",
     "text": [
      "Enter the range:-  12000\n"
     ]
    },
    {
     "name": "stdout",
     "output_type": "stream",
     "text": [
      "72006000\n"
     ]
    }
   ],
   "source": [
    "n = int(input(\"Enter the range:- \"))\n",
    "my_list = sum([int(i) for i in range(n+1)])\n",
    "print(my_list)"
   ]
  },
  {
   "cell_type": "raw",
   "id": "08fa0757-df88-43c0-a9ac-c947efb8072e",
   "metadata": {},
   "source": [
    "Q40:- Write a program that generates a list of prime palindromic numbers using list comprehension."
   ]
  },
  {
   "cell_type": "code",
   "execution_count": null,
   "id": "b35a3de1-75d5-48d4-bfc7-3a03e9e86704",
   "metadata": {},
   "outputs": [],
   "source": []
  }
 ],
 "metadata": {
  "kernelspec": {
   "display_name": "Python 3 (ipykernel)",
   "language": "python",
   "name": "python3"
  },
  "language_info": {
   "codemirror_mode": {
    "name": "ipython",
    "version": 3
   },
   "file_extension": ".py",
   "mimetype": "text/x-python",
   "name": "python",
   "nbconvert_exporter": "python",
   "pygments_lexer": "ipython3",
   "version": "3.10.8"
  }
 },
 "nbformat": 4,
 "nbformat_minor": 5
}
